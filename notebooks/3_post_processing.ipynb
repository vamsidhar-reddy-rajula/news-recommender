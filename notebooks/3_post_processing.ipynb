{
 "cells": [
  {
   "cell_type": "code",
   "execution_count": 1,
   "id": "957181bd-a27d-4455-b0c9-d5794023f13a",
   "metadata": {},
   "outputs": [],
   "source": [
    "import joblib\n",
    "import pandas as pd\n",
    "import numpy as np\n",
    "from datetime import datetime\n",
    "\n",
    "import contractions\n",
    "\n",
    "from nltk.tokenize import word_tokenize\n",
    "from string import punctuation\n",
    "\n",
    "\n",
    "from nltk.corpus import stopwords\n",
    "from gensim.parsing.preprocessing import STOPWORDS\n",
    "import spacy\n",
    "\n",
    "from nltk.stem.porter import PorterStemmer\n",
    "from nltk.stem import WordNetLemmatizer\n",
    "\n",
    "from sklearn.feature_extraction.text import CountVectorizer,TfidfVectorizer\n",
    "from sklearn.decomposition import LatentDirichletAllocation\n",
    "from gensim.parsing.preprocessing import remove_stopwords"
   ]
  },
  {
   "cell_type": "code",
   "execution_count": null,
   "id": "d6602ede-34e7-4d12-98a4-8421543f0c88",
   "metadata": {},
   "outputs": [],
   "source": []
  },
  {
   "cell_type": "code",
   "execution_count": 2,
   "id": "cf9f6625-5154-46f1-afa4-bc970c4450ce",
   "metadata": {},
   "outputs": [],
   "source": [
    "df_articles = pd.read_csv(\"../data/interim/articles_processed.csv\")"
   ]
  },
  {
   "cell_type": "code",
   "execution_count": 3,
   "id": "41778b8e-e5fd-4d18-9903-d81a83edca6d",
   "metadata": {},
   "outputs": [],
   "source": [
    "    df_articles.article_published_on = df_articles.article_published_on.astype(np.datetime64)"
   ]
  },
  {
   "cell_type": "code",
   "execution_count": 4,
   "id": "7dc88994-8f79-4e3e-9db6-45655d2b9796",
   "metadata": {},
   "outputs": [],
   "source": [
    "df_train,df_test = df_articles[df_articles.article_published_on<datetime(year=2021,day=20,month=8)],df_articles[df_articles.article_published_on>=datetime(year=2021,day=20,month=8)]"
   ]
  },
  {
   "cell_type": "code",
   "execution_count": null,
   "id": "bc547ddf-07f3-4dd1-9f02-d1f68bde8e21",
   "metadata": {},
   "outputs": [],
   "source": []
  },
  {
   "cell_type": "markdown",
   "id": "40991ed9-7a26-46e1-84df-55d2c5afd1bd",
   "metadata": {},
   "source": [
    "## Functions"
   ]
  },
  {
   "cell_type": "code",
   "execution_count": null,
   "id": "ad522e12-8012-46b4-bfc7-32647e9c6442",
   "metadata": {},
   "outputs": [],
   "source": []
  },
  {
   "cell_type": "code",
   "execution_count": 5,
   "id": "80ae4e77-9cd7-479f-adfd-8e4539971760",
   "metadata": {},
   "outputs": [],
   "source": [
    "def text_pipeline(X):\n",
    "    if isinstance(X, str):\n",
    "        X = pd.Series(X)\n",
    "    elif isinstance(X, (pd.Series, pd.DataFrame)):\n",
    "        pass\n",
    "    else:\n",
    "        raise Exception(\n",
    "            f\"Input should either be in 'str' format or a 'series' or 'Dataframe' with a column of text. Received an object of type {type(X)}\"\n",
    "        )\n",
    "    \n",
    "    expanded_contractions = X.apply(lambda x:\n",
    "        contractions.fix(x)\n",
    "    )\n",
    "    \n",
    "    lower = expanded_contractions.str.lower()\n",
    "    \n",
    "    custom_preprocessor = lower.apply(lambda x: x.replace(\"-\",\" \").replace(\"'s\",\"\").replace(\"’s\",\"\").replace(\"–\",\"\"))\n",
    "\n",
    "    # punctuations\n",
    "    removed_punctuation = custom_preprocessor.apply(\n",
    "        lambda x: \"\".join([c for c in x if c not in punctuation])\n",
    "    )\n",
    "\n",
    "    # stop words\n",
    "    stop_words = stopwords.words(\"english\")\n",
    "    removed_stop_words = removed_punctuation.apply(\n",
    "        lambda x: \" \".join(\n",
    "            [word for word in word_tokenize(x) if word not in stop_words]\n",
    "        )\n",
    "    )\n",
    "    removed_stop_words = removed_stop_words.apply(lambda x: remove_stopwords(x))\n",
    "    all_stopwords_gensim = STOPWORDS.union(\n",
    "        set([\"the\", \"say\", \"said\", \"get\", \"it\", \"in\", \"like\", \"new\", \"year\"])\n",
    "    )\n",
    "    removed_stop_words = removed_stop_words.apply(\n",
    "        lambda x: \" \".join(\n",
    "            [word for word in word_tokenize(x) if word not in all_stopwords_gensim]\n",
    "        )\n",
    "    )\n",
    "    sp = spacy.load('en_core_web_sm')\n",
    "    all_stopwords = sp.Defaults.stop_words\n",
    "    removed_stop_words = removed_stop_words.apply(\n",
    "        lambda x: \" \".join(\n",
    "            [word for word in word_tokenize(x) if word not in all_stopwords]\n",
    "        )\n",
    "    )\n",
    "\n",
    "    # Stemming and Lematizing\n",
    "    stemmer = PorterStemmer()\n",
    "    lemmatizer = WordNetLemmatizer()\n",
    "    stem = removed_stop_words.apply(\n",
    "        lambda x: \" \".join([stemmer.stem(word) for word in word_tokenize(x)])\n",
    "    )\n",
    "    lemma = stem.apply(\n",
    "        lambda x: \" \".join([lemmatizer.lemmatize(word) for word in word_tokenize(x)])\n",
    "    )\n",
    "\n",
    "    return lemma   "
   ]
  },
  {
   "cell_type": "code",
   "execution_count": 6,
   "id": "7fbd92e4-f7cb-4777-b480-5417b9a9b810",
   "metadata": {},
   "outputs": [],
   "source": [
    "def text_vectorizer(X,vectorizer,fit=False):\n",
    "    if fit:\n",
    "        return vectorizer.fit_transform(X)\n",
    "    else:\n",
    "        return vectorizer.transform(X)"
   ]
  },
  {
   "cell_type": "code",
   "execution_count": 7,
   "id": "9d8dce7f-665a-4aaf-96d4-bf86dca95e26",
   "metadata": {},
   "outputs": [],
   "source": [
    "def get_topic_vectors(X,model,fit=False):\n",
    "    if fit:\n",
    "        return model.fit_transform(X)\n",
    "    else:\n",
    "        return model.transform(X)"
   ]
  },
  {
   "cell_type": "code",
   "execution_count": 8,
   "id": "51896ebb-556f-4aaf-91f5-8a3f97ff1efc",
   "metadata": {},
   "outputs": [],
   "source": [
    "from sklearn.metrics.pairwise import cosine_similarity\n",
    "def get_similar_articles(text_vectors, X, top_n_values=10):\n",
    "    \"\"\"\n",
    "    Evalute the cosine similarity between provided 'text_vectors' and trained X (articles trained and stored as a vecotr of topics).\n",
    "    Return dataframe with index as trained articles and columns as text_vector indices with values as similarity scores\n",
    "    \"\"\"\n",
    "    similarity_scores = cosine_similarity(X,text_vectors,dense_output=True)\n",
    "    return similarity_scores\n",
    "#     return np.argsort(similarity_scores, axis=0)[::-1,:][:top_n_values,:]"
   ]
  },
  {
   "cell_type": "code",
   "execution_count": 9,
   "id": "35152e50-5bb1-47ee-a1ee-5e8628424948",
   "metadata": {},
   "outputs": [],
   "source": [
    "pd.set_option(\"display.max_colwidth\", 3)\n",
    "def print_similar_articles(test_indices,similarity_scores):\n",
    "    values = np.sort(similarity_scores, axis=0)[::-1,:][:5,:]\n",
    "    similarity_array = np.argsort(similarity_scores, axis=0)[::-1,:][:5,:]\n",
    "    for i in range(similarity_array.shape[1]):\n",
    "        indices = similarity_array[:,i]\n",
    "#         print(\"\\n\")\n",
    "#         print(df_test.iloc[test_indices[i]].article_heading)\n",
    "#         print(\"\\n\")\n",
    "#         print(df_train.iloc[indices].article_heading)\n",
    "#         print(\"\\n\")\n",
    "#         print(values[:,i])\n",
    "        return df_test.iloc[test_indices[i]].article_heading,pd.DataFrame({'article_heading':df_train.iloc[indices].article_heading,'Similarity score':values[:,i],'article_date':df_train.iloc[indices].article_published_on})"
   ]
  },
  {
   "cell_type": "code",
   "execution_count": null,
   "id": "448f59df-4ca0-433c-a413-161a6a31293f",
   "metadata": {},
   "outputs": [],
   "source": []
  },
  {
   "cell_type": "code",
   "execution_count": 10,
   "id": "79eb0321-c0c7-4a84-b2a9-4bae0197b1c1",
   "metadata": {},
   "outputs": [],
   "source": [
    "def get_saved_models(n_components):\n",
    "    if n_components==300:\n",
    "        topic_vectors_train = joblib.load(f\"../models/vectorizer_0830_1513_300\")\n",
    "        vectorizer = joblib.load(f\"../models/lda_model_0830_1513_300\")\n",
    "        model =joblib.load(f\"../models/topic_vector_train_0830_1513_300\")\n",
    "    elif n_components==240:\n",
    "        topic_vectors_train = joblib.load(f\"../models/vectorizer_0830_1406_240\")\n",
    "        vectorizer = joblib.load(f\"../models/lda_model_0830_1406_240\")\n",
    "        model =joblib.load(f\"../models/topic_vector_train_0830_1406_240\")\n",
    "    elif n_components==180:\n",
    "        topic_vectors_train = joblib.load(f\"../models/vectorizer_0830_1304_180\")\n",
    "        vectorizer = joblib.load(f\"../models/lda_model_0830_1304_180\")\n",
    "        model =joblib.load(f\"../models/topic_vector_train_0830_1304_180\")\n",
    "    elif n_components==150:\n",
    "        topic_vectors_train = joblib.load(f\"../models/vectorizer_0830_1205_150\")\n",
    "        vectorizer = joblib.load(f\"../models/lda_model_0830_1205_150\")\n",
    "        model =joblib.load(f\"../models/topic_vector_train_0830_1205_150\")\n",
    "    elif n_components==120:\n",
    "        topic_vectors_train = joblib.load(f\"../models/vectorizer_0830_1109_120\")\n",
    "        vectorizer = joblib.load(f\"../models/lda_model_0830_1109_120\")\n",
    "        model =joblib.load(f\"../models/topic_vector_train_0830_1109_120\")\n",
    "    elif n_components==90:\n",
    "        topic_vectors_train = joblib.load(f\"../models/vectorizer_0830_1015_90\")\n",
    "        vectorizer = joblib.load(f\"../models/lda_model_0830_1015_90\")\n",
    "        model =joblib.load(f\"../models/topic_vector_train_0830_1015_90\")\n",
    "    elif n_components==60:\n",
    "        topic_vectors_train = joblib.load(f\"../models/vectorizer_0830_0925_60\")\n",
    "        vectorizer = joblib.load(f\"../models/lda_model_0830_0925_60\")\n",
    "        model =joblib.load(f\"../models/topic_vector_train_0830_0925_60\")\n",
    "    elif n_components==30:\n",
    "        topic_vectors_train = joblib.load(f\"../models/vectorizer_0830_0838_30\")\n",
    "        vectorizer = joblib.load(f\"../models/lda_model_0830_0838_30\")\n",
    "        model =joblib.load(f\"../models/topic_vector_train_0830_0838_30\")\n",
    "    return topic_vectors_train,vectorizer,model"
   ]
  },
  {
   "cell_type": "code",
   "execution_count": 11,
   "id": "4dfa4513-205a-4a95-b96c-cd2c113f7223",
   "metadata": {},
   "outputs": [],
   "source": [
    "components_saved = [300,240,180,150,120,90,60,30]"
   ]
  },
  {
   "cell_type": "code",
   "execution_count": null,
   "id": "5fd679d3-cd7c-44c6-88b9-cc70a829614c",
   "metadata": {},
   "outputs": [],
   "source": []
  },
  {
   "cell_type": "markdown",
   "id": "74421749-1e71-48bf-a07e-f980c46e2181",
   "metadata": {
    "tags": []
   },
   "source": [
    "# Biden's resignation related news"
   ]
  },
  {
   "cell_type": "code",
   "execution_count": 12,
   "id": "e38b861d-7248-47f8-a880-75fce6ca350a",
   "metadata": {},
   "outputs": [],
   "source": [
    "from IPython.display import display"
   ]
  },
  {
   "cell_type": "code",
   "execution_count": 13,
   "id": "35a29ba2-d101-4188-9bf6-5f9dc146a6ed",
   "metadata": {},
   "outputs": [
    {
     "name": "stdout",
     "output_type": "stream",
     "text": [
      "\n",
      "\n",
      "300\n",
      "\n",
      "\n",
      "Nikki Haley, other Republicans call for Biden's resignation or impeachment after attack at Kabul airport\n"
     ]
    },
    {
     "data": {
      "text/html": [
       "<div>\n",
       "<style scoped>\n",
       "    .dataframe tbody tr th:only-of-type {\n",
       "        vertical-align: middle;\n",
       "    }\n",
       "\n",
       "    .dataframe tbody tr th {\n",
       "        vertical-align: top;\n",
       "    }\n",
       "\n",
       "    .dataframe thead th {\n",
       "        text-align: right;\n",
       "    }\n",
       "</style>\n",
       "<table border=\"1\" class=\"dataframe\">\n",
       "  <thead>\n",
       "    <tr style=\"text-align: right;\">\n",
       "      <th></th>\n",
       "      <th>article_heading</th>\n",
       "      <th>Similarity score</th>\n",
       "      <th>article_date</th>\n",
       "    </tr>\n",
       "  </thead>\n",
       "  <tbody>\n",
       "    <tr>\n",
       "      <th>18270</th>\n",
       "      <td>Trump says he won’t attend Biden’s inauguration</td>\n",
       "      <td>0.804701</td>\n",
       "      <td>2021-01-08 19:02:27</td>\n",
       "    </tr>\n",
       "    <tr>\n",
       "      <th>18225</th>\n",
       "      <td>Acting US homeland security secretary Chad Wolf resigns – as it happened</td>\n",
       "      <td>0.758220</td>\n",
       "      <td>2021-01-12 01:24:10</td>\n",
       "    </tr>\n",
       "    <tr>\n",
       "      <th>18266</th>\n",
       "      <td>Twitter permanently suspends Trump's account, citing risk of 'further incitement of violence' – as it happened</td>\n",
       "      <td>0.747572</td>\n",
       "      <td>2021-01-09 02:44:30</td>\n",
       "    </tr>\n",
       "    <tr>\n",
       "      <th>18280</th>\n",
       "      <td>Trump acknowledges 'new administration' – as it happened</td>\n",
       "      <td>0.743270</td>\n",
       "      <td>2021-01-08 06:49:33</td>\n",
       "    </tr>\n",
       "    <tr>\n",
       "      <th>18201</th>\n",
       "      <td>Pence says he won't invoke 25th amendment in letter to Pelosi - as it happened</td>\n",
       "      <td>0.738008</td>\n",
       "      <td>2021-01-13 02:57:59</td>\n",
       "    </tr>\n",
       "  </tbody>\n",
       "</table>\n",
       "</div>"
      ],
      "text/plain": [
       "                                                                                                      article_heading  \\\n",
       "18270  Trump says he won’t attend Biden’s inauguration                                                                  \n",
       "18225  Acting US homeland security secretary Chad Wolf resigns – as it happened                                         \n",
       "18266  Twitter permanently suspends Trump's account, citing risk of 'further incitement of violence' – as it happened   \n",
       "18280  Trump acknowledges 'new administration' – as it happened                                                         \n",
       "18201  Pence says he won't invoke 25th amendment in letter to Pelosi - as it happened                                   \n",
       "\n",
       "       Similarity score        article_date  \n",
       "18270  0.804701         2021-01-08 19:02:27  \n",
       "18225  0.758220         2021-01-12 01:24:10  \n",
       "18266  0.747572         2021-01-09 02:44:30  \n",
       "18280  0.743270         2021-01-08 06:49:33  \n",
       "18201  0.738008         2021-01-13 02:57:59  "
      ]
     },
     "metadata": {},
     "output_type": "display_data"
    },
    {
     "name": "stdout",
     "output_type": "stream",
     "text": [
      "\n",
      "\n",
      "240\n",
      "\n",
      "\n",
      "Nikki Haley, other Republicans call for Biden's resignation or impeachment after attack at Kabul airport\n"
     ]
    },
    {
     "data": {
      "text/html": [
       "<div>\n",
       "<style scoped>\n",
       "    .dataframe tbody tr th:only-of-type {\n",
       "        vertical-align: middle;\n",
       "    }\n",
       "\n",
       "    .dataframe tbody tr th {\n",
       "        vertical-align: top;\n",
       "    }\n",
       "\n",
       "    .dataframe thead th {\n",
       "        text-align: right;\n",
       "    }\n",
       "</style>\n",
       "<table border=\"1\" class=\"dataframe\">\n",
       "  <thead>\n",
       "    <tr style=\"text-align: right;\">\n",
       "      <th></th>\n",
       "      <th>article_heading</th>\n",
       "      <th>Similarity score</th>\n",
       "      <th>article_date</th>\n",
       "    </tr>\n",
       "  </thead>\n",
       "  <tbody>\n",
       "    <tr>\n",
       "      <th>18270</th>\n",
       "      <td>Trump says he won’t attend Biden’s inauguration</td>\n",
       "      <td>0.691643</td>\n",
       "      <td>2021-01-08 19:02:27</td>\n",
       "    </tr>\n",
       "    <tr>\n",
       "      <th>14572</th>\n",
       "      <td>Washington Breathes an Uneasy Sigh of Relief</td>\n",
       "      <td>0.681281</td>\n",
       "      <td>2021-01-21 01:01:23</td>\n",
       "    </tr>\n",
       "    <tr>\n",
       "      <th>7140</th>\n",
       "      <td>Biden says he ‘can’t picture’ U.S. troops in Afghanistan next year</td>\n",
       "      <td>0.681009</td>\n",
       "      <td>2021-03-25 14:36:00</td>\n",
       "    </tr>\n",
       "    <tr>\n",
       "      <th>18054</th>\n",
       "      <td>Joe Biden sworn in as 46th president amid turmoil and loss in US</td>\n",
       "      <td>0.678106</td>\n",
       "      <td>2021-01-20 16:48:03</td>\n",
       "    </tr>\n",
       "    <tr>\n",
       "      <th>15080</th>\n",
       "      <td>As the White House slips into deeper crisis, Trump says he will not go to Biden’s inauguration.</td>\n",
       "      <td>0.677046</td>\n",
       "      <td>2021-01-08 15:48:40</td>\n",
       "    </tr>\n",
       "  </tbody>\n",
       "</table>\n",
       "</div>"
      ],
      "text/plain": [
       "                                                                                       article_heading  \\\n",
       "18270  Trump says he won’t attend Biden’s inauguration                                                   \n",
       "14572  Washington Breathes an Uneasy Sigh of Relief                                                      \n",
       "7140   Biden says he ‘can’t picture’ U.S. troops in Afghanistan next year                                \n",
       "18054  Joe Biden sworn in as 46th president amid turmoil and loss in US                                  \n",
       "15080  As the White House slips into deeper crisis, Trump says he will not go to Biden’s inauguration.   \n",
       "\n",
       "       Similarity score        article_date  \n",
       "18270  0.691643         2021-01-08 19:02:27  \n",
       "14572  0.681281         2021-01-21 01:01:23  \n",
       "7140   0.681009         2021-03-25 14:36:00  \n",
       "18054  0.678106         2021-01-20 16:48:03  \n",
       "15080  0.677046         2021-01-08 15:48:40  "
      ]
     },
     "metadata": {},
     "output_type": "display_data"
    },
    {
     "name": "stdout",
     "output_type": "stream",
     "text": [
      "\n",
      "\n",
      "180\n",
      "\n",
      "\n",
      "Nikki Haley, other Republicans call for Biden's resignation or impeachment after attack at Kabul airport\n"
     ]
    },
    {
     "data": {
      "text/html": [
       "<div>\n",
       "<style scoped>\n",
       "    .dataframe tbody tr th:only-of-type {\n",
       "        vertical-align: middle;\n",
       "    }\n",
       "\n",
       "    .dataframe tbody tr th {\n",
       "        vertical-align: top;\n",
       "    }\n",
       "\n",
       "    .dataframe thead th {\n",
       "        text-align: right;\n",
       "    }\n",
       "</style>\n",
       "<table border=\"1\" class=\"dataframe\">\n",
       "  <thead>\n",
       "    <tr style=\"text-align: right;\">\n",
       "      <th></th>\n",
       "      <th>article_heading</th>\n",
       "      <th>Similarity score</th>\n",
       "      <th>article_date</th>\n",
       "    </tr>\n",
       "  </thead>\n",
       "  <tbody>\n",
       "    <tr>\n",
       "      <th>16899</th>\n",
       "      <td>Biden outlines Afghanistan withdrawal: ‘It’s time for American troops to come home’ – as it happened</td>\n",
       "      <td>0.748787</td>\n",
       "      <td>2021-04-15 00:08:56.000000</td>\n",
       "    </tr>\n",
       "    <tr>\n",
       "      <th>388</th>\n",
       "      <td>Biden hammered for spending time at Camp David while Taliban take over Afghanistan</td>\n",
       "      <td>0.695903</td>\n",
       "      <td>2021-08-14 23:59:59.701004</td>\n",
       "    </tr>\n",
       "    <tr>\n",
       "      <th>200</th>\n",
       "      <td>Biden, Trump trade accusations on Afghanistan</td>\n",
       "      <td>0.692594</td>\n",
       "      <td>2021-08-16 23:59:59.983031</td>\n",
       "    </tr>\n",
       "    <tr>\n",
       "      <th>216</th>\n",
       "      <td>Biden points fingers for Afghanistan debacle after promising he wouldn't 'blame others'</td>\n",
       "      <td>0.678736</td>\n",
       "      <td>2021-08-15 23:59:59.982000</td>\n",
       "    </tr>\n",
       "    <tr>\n",
       "      <th>185</th>\n",
       "      <td>Republicans demand resignations over Biden's Afghanistan debacle</td>\n",
       "      <td>0.671901</td>\n",
       "      <td>2021-08-16 23:59:59.983031</td>\n",
       "    </tr>\n",
       "  </tbody>\n",
       "</table>\n",
       "</div>"
      ],
      "text/plain": [
       "                                                                                            article_heading  \\\n",
       "16899  Biden outlines Afghanistan withdrawal: ‘It’s time for American troops to come home’ – as it happened   \n",
       "388    Biden hammered for spending time at Camp David while Taliban take over Afghanistan                     \n",
       "200    Biden, Trump trade accusations on Afghanistan                                                          \n",
       "216    Biden points fingers for Afghanistan debacle after promising he wouldn't 'blame others'                \n",
       "185    Republicans demand resignations over Biden's Afghanistan debacle                                       \n",
       "\n",
       "       Similarity score               article_date  \n",
       "16899  0.748787         2021-04-15 00:08:56.000000  \n",
       "388    0.695903         2021-08-14 23:59:59.701004  \n",
       "200    0.692594         2021-08-16 23:59:59.983031  \n",
       "216    0.678736         2021-08-15 23:59:59.982000  \n",
       "185    0.671901         2021-08-16 23:59:59.983031  "
      ]
     },
     "metadata": {},
     "output_type": "display_data"
    },
    {
     "name": "stdout",
     "output_type": "stream",
     "text": [
      "\n",
      "\n",
      "150\n",
      "\n",
      "\n",
      "Nikki Haley, other Republicans call for Biden's resignation or impeachment after attack at Kabul airport\n"
     ]
    },
    {
     "data": {
      "text/html": [
       "<div>\n",
       "<style scoped>\n",
       "    .dataframe tbody tr th:only-of-type {\n",
       "        vertical-align: middle;\n",
       "    }\n",
       "\n",
       "    .dataframe tbody tr th {\n",
       "        vertical-align: top;\n",
       "    }\n",
       "\n",
       "    .dataframe thead th {\n",
       "        text-align: right;\n",
       "    }\n",
       "</style>\n",
       "<table border=\"1\" class=\"dataframe\">\n",
       "  <thead>\n",
       "    <tr style=\"text-align: right;\">\n",
       "      <th></th>\n",
       "      <th>article_heading</th>\n",
       "      <th>Similarity score</th>\n",
       "      <th>article_date</th>\n",
       "    </tr>\n",
       "  </thead>\n",
       "  <tbody>\n",
       "    <tr>\n",
       "      <th>12496</th>\n",
       "      <td>Read excerpts from Biden’s prepared remarks on Afghanistan, to be delivered at the White House this afternoon.</td>\n",
       "      <td>0.803796</td>\n",
       "      <td>2021-04-14 15:32:18</td>\n",
       "    </tr>\n",
       "    <tr>\n",
       "      <th>11476</th>\n",
       "      <td>Biden recognizes the sacrifice of service members in a speech ahead of Memorial Day.</td>\n",
       "      <td>0.774038</td>\n",
       "      <td>2021-05-28 20:32:28</td>\n",
       "    </tr>\n",
       "    <tr>\n",
       "      <th>9867</th>\n",
       "      <td>For Biden, Images of Defeat He Wanted to Avoid</td>\n",
       "      <td>0.758318</td>\n",
       "      <td>2021-08-15 23:27:05</td>\n",
       "    </tr>\n",
       "    <tr>\n",
       "      <th>1951</th>\n",
       "      <td>Taliban takeover leaves Afghan diplomats in Washington limbo</td>\n",
       "      <td>0.739022</td>\n",
       "      <td>2021-08-17 14:02:00</td>\n",
       "    </tr>\n",
       "    <tr>\n",
       "      <th>6361</th>\n",
       "      <td>Biden announces withdrawal from Afghanistan in speech heavy on symbolism</td>\n",
       "      <td>0.709257</td>\n",
       "      <td>2021-04-14 15:29:00</td>\n",
       "    </tr>\n",
       "  </tbody>\n",
       "</table>\n",
       "</div>"
      ],
      "text/plain": [
       "                                                                                                      article_heading  \\\n",
       "12496  Read excerpts from Biden’s prepared remarks on Afghanistan, to be delivered at the White House this afternoon.   \n",
       "11476  Biden recognizes the sacrifice of service members in a speech ahead of Memorial Day.                             \n",
       "9867   For Biden, Images of Defeat He Wanted to Avoid                                                                   \n",
       "1951   Taliban takeover leaves Afghan diplomats in Washington limbo                                                     \n",
       "6361   Biden announces withdrawal from Afghanistan in speech heavy on symbolism                                         \n",
       "\n",
       "       Similarity score        article_date  \n",
       "12496  0.803796         2021-04-14 15:32:18  \n",
       "11476  0.774038         2021-05-28 20:32:28  \n",
       "9867   0.758318         2021-08-15 23:27:05  \n",
       "1951   0.739022         2021-08-17 14:02:00  \n",
       "6361   0.709257         2021-04-14 15:29:00  "
      ]
     },
     "metadata": {},
     "output_type": "display_data"
    },
    {
     "name": "stdout",
     "output_type": "stream",
     "text": [
      "\n",
      "\n",
      "120\n",
      "\n",
      "\n",
      "Nikki Haley, other Republicans call for Biden's resignation or impeachment after attack at Kabul airport\n"
     ]
    },
    {
     "data": {
      "text/html": [
       "<div>\n",
       "<style scoped>\n",
       "    .dataframe tbody tr th:only-of-type {\n",
       "        vertical-align: middle;\n",
       "    }\n",
       "\n",
       "    .dataframe tbody tr th {\n",
       "        vertical-align: top;\n",
       "    }\n",
       "\n",
       "    .dataframe thead th {\n",
       "        text-align: right;\n",
       "    }\n",
       "</style>\n",
       "<table border=\"1\" class=\"dataframe\">\n",
       "  <thead>\n",
       "    <tr style=\"text-align: right;\">\n",
       "      <th></th>\n",
       "      <th>article_heading</th>\n",
       "      <th>Similarity score</th>\n",
       "      <th>article_date</th>\n",
       "    </tr>\n",
       "  </thead>\n",
       "  <tbody>\n",
       "    <tr>\n",
       "      <th>10568</th>\n",
       "      <td>It’s Situation Normal for U.S. Diplomats in Kabul, Despite Taliban Gains</td>\n",
       "      <td>0.791096</td>\n",
       "      <td>2021-07-12 20:45:22.000000</td>\n",
       "    </tr>\n",
       "    <tr>\n",
       "      <th>6361</th>\n",
       "      <td>Biden announces withdrawal from Afghanistan in speech heavy on symbolism</td>\n",
       "      <td>0.760508</td>\n",
       "      <td>2021-04-14 15:29:00.000000</td>\n",
       "    </tr>\n",
       "    <tr>\n",
       "      <th>12496</th>\n",
       "      <td>Read excerpts from Biden’s prepared remarks on Afghanistan, to be delivered at the White House this afternoon.</td>\n",
       "      <td>0.745555</td>\n",
       "      <td>2021-04-14 15:32:18.000000</td>\n",
       "    </tr>\n",
       "    <tr>\n",
       "      <th>163</th>\n",
       "      <td>Lindsey Graham says heads should roll at State Department over Afghanistan debacle</td>\n",
       "      <td>0.739434</td>\n",
       "      <td>2021-08-17 23:59:59.983002</td>\n",
       "    </tr>\n",
       "    <tr>\n",
       "      <th>5927</th>\n",
       "      <td>Harris says she had key role in Biden's Afghanistan withdrawal decision</td>\n",
       "      <td>0.735206</td>\n",
       "      <td>2021-04-25 10:50:00.000000</td>\n",
       "    </tr>\n",
       "  </tbody>\n",
       "</table>\n",
       "</div>"
      ],
      "text/plain": [
       "                                                                                                      article_heading  \\\n",
       "10568  It’s Situation Normal for U.S. Diplomats in Kabul, Despite Taliban Gains                                         \n",
       "6361   Biden announces withdrawal from Afghanistan in speech heavy on symbolism                                         \n",
       "12496  Read excerpts from Biden’s prepared remarks on Afghanistan, to be delivered at the White House this afternoon.   \n",
       "163    Lindsey Graham says heads should roll at State Department over Afghanistan debacle                               \n",
       "5927   Harris says she had key role in Biden's Afghanistan withdrawal decision                                          \n",
       "\n",
       "       Similarity score               article_date  \n",
       "10568  0.791096         2021-07-12 20:45:22.000000  \n",
       "6361   0.760508         2021-04-14 15:29:00.000000  \n",
       "12496  0.745555         2021-04-14 15:32:18.000000  \n",
       "163    0.739434         2021-08-17 23:59:59.983002  \n",
       "5927   0.735206         2021-04-25 10:50:00.000000  "
      ]
     },
     "metadata": {},
     "output_type": "display_data"
    },
    {
     "name": "stdout",
     "output_type": "stream",
     "text": [
      "\n",
      "\n",
      "90\n",
      "\n",
      "\n",
      "Nikki Haley, other Republicans call for Biden's resignation or impeachment after attack at Kabul airport\n"
     ]
    },
    {
     "data": {
      "text/html": [
       "<div>\n",
       "<style scoped>\n",
       "    .dataframe tbody tr th:only-of-type {\n",
       "        vertical-align: middle;\n",
       "    }\n",
       "\n",
       "    .dataframe tbody tr th {\n",
       "        vertical-align: top;\n",
       "    }\n",
       "\n",
       "    .dataframe thead th {\n",
       "        text-align: right;\n",
       "    }\n",
       "</style>\n",
       "<table border=\"1\" class=\"dataframe\">\n",
       "  <thead>\n",
       "    <tr style=\"text-align: right;\">\n",
       "      <th></th>\n",
       "      <th>article_heading</th>\n",
       "      <th>Similarity score</th>\n",
       "      <th>article_date</th>\n",
       "    </tr>\n",
       "  </thead>\n",
       "  <tbody>\n",
       "    <tr>\n",
       "      <th>14612</th>\n",
       "      <td>Trump Departs Vowing, ‘We Will Be Back in Some Form’</td>\n",
       "      <td>0.801028</td>\n",
       "      <td>2021-01-20 22:37:58.000000</td>\n",
       "    </tr>\n",
       "    <tr>\n",
       "      <th>6361</th>\n",
       "      <td>Biden announces withdrawal from Afghanistan in speech heavy on symbolism</td>\n",
       "      <td>0.792973</td>\n",
       "      <td>2021-04-14 15:29:00.000000</td>\n",
       "    </tr>\n",
       "    <tr>\n",
       "      <th>18055</th>\n",
       "      <td>Trump tells Americans 'have a good life' as he leaves White House for final time</td>\n",
       "      <td>0.791276</td>\n",
       "      <td>2021-01-20 15:53:05.000000</td>\n",
       "    </tr>\n",
       "    <tr>\n",
       "      <th>18064</th>\n",
       "      <td>'We did what we came here to do': Trump fails to mention Biden in farewell address</td>\n",
       "      <td>0.785036</td>\n",
       "      <td>2021-01-19 23:43:33.000000</td>\n",
       "    </tr>\n",
       "    <tr>\n",
       "      <th>246</th>\n",
       "      <td>Jen Psaki 'out of the office' as Biden remains silent on Taliban takeover of Afghanistan</td>\n",
       "      <td>0.784945</td>\n",
       "      <td>2021-08-14 23:59:59.983003</td>\n",
       "    </tr>\n",
       "  </tbody>\n",
       "</table>\n",
       "</div>"
      ],
      "text/plain": [
       "                                                                                article_heading  \\\n",
       "14612  Trump Departs Vowing, ‘We Will Be Back in Some Form’                                       \n",
       "6361   Biden announces withdrawal from Afghanistan in speech heavy on symbolism                   \n",
       "18055  Trump tells Americans 'have a good life' as he leaves White House for final time           \n",
       "18064  'We did what we came here to do': Trump fails to mention Biden in farewell address         \n",
       "246    Jen Psaki 'out of the office' as Biden remains silent on Taliban takeover of Afghanistan   \n",
       "\n",
       "       Similarity score               article_date  \n",
       "14612  0.801028         2021-01-20 22:37:58.000000  \n",
       "6361   0.792973         2021-04-14 15:29:00.000000  \n",
       "18055  0.791276         2021-01-20 15:53:05.000000  \n",
       "18064  0.785036         2021-01-19 23:43:33.000000  \n",
       "246    0.784945         2021-08-14 23:59:59.983003  "
      ]
     },
     "metadata": {},
     "output_type": "display_data"
    },
    {
     "name": "stdout",
     "output_type": "stream",
     "text": [
      "\n",
      "\n",
      "60\n",
      "\n",
      "\n",
      "Nikki Haley, other Republicans call for Biden's resignation or impeachment after attack at Kabul airport\n"
     ]
    },
    {
     "data": {
      "text/html": [
       "<div>\n",
       "<style scoped>\n",
       "    .dataframe tbody tr th:only-of-type {\n",
       "        vertical-align: middle;\n",
       "    }\n",
       "\n",
       "    .dataframe tbody tr th {\n",
       "        vertical-align: top;\n",
       "    }\n",
       "\n",
       "    .dataframe thead th {\n",
       "        text-align: right;\n",
       "    }\n",
       "</style>\n",
       "<table border=\"1\" class=\"dataframe\">\n",
       "  <thead>\n",
       "    <tr style=\"text-align: right;\">\n",
       "      <th></th>\n",
       "      <th>article_heading</th>\n",
       "      <th>Similarity score</th>\n",
       "      <th>article_date</th>\n",
       "    </tr>\n",
       "  </thead>\n",
       "  <tbody>\n",
       "    <tr>\n",
       "      <th>167</th>\n",
       "      <td>Republican senators question Biden's fitness for office amid Afghanistan debacle</td>\n",
       "      <td>0.740246</td>\n",
       "      <td>2021-08-17 23:59:59.983036</td>\n",
       "    </tr>\n",
       "    <tr>\n",
       "      <th>6361</th>\n",
       "      <td>Biden announces withdrawal from Afghanistan in speech heavy on symbolism</td>\n",
       "      <td>0.727123</td>\n",
       "      <td>2021-04-14 15:29:00.000000</td>\n",
       "    </tr>\n",
       "    <tr>\n",
       "      <th>367</th>\n",
       "      <td>Sen. Tuberville slams 'Squad' for not hearing 'one word' on protecting women in Afghanistan</td>\n",
       "      <td>0.717830</td>\n",
       "      <td>2021-08-17 23:59:59.950001</td>\n",
       "    </tr>\n",
       "    <tr>\n",
       "      <th>142</th>\n",
       "      <td>John McCain's past remarks on Blinken being 'dangerous to America' resurface amid Afghanistan debacle</td>\n",
       "      <td>0.704015</td>\n",
       "      <td>2021-08-18 23:59:59.983000</td>\n",
       "    </tr>\n",
       "    <tr>\n",
       "      <th>14327</th>\n",
       "      <td>Marjorie Taylor Greene’s Controversies Are Piling Up. Republicans Are Quiet.</td>\n",
       "      <td>0.697866</td>\n",
       "      <td>2021-01-30 00:36:46.000000</td>\n",
       "    </tr>\n",
       "  </tbody>\n",
       "</table>\n",
       "</div>"
      ],
      "text/plain": [
       "                                                                                             article_heading  \\\n",
       "167    Republican senators question Biden's fitness for office amid Afghanistan debacle                        \n",
       "6361   Biden announces withdrawal from Afghanistan in speech heavy on symbolism                                \n",
       "367    Sen. Tuberville slams 'Squad' for not hearing 'one word' on protecting women in Afghanistan             \n",
       "142    John McCain's past remarks on Blinken being 'dangerous to America' resurface amid Afghanistan debacle   \n",
       "14327  Marjorie Taylor Greene’s Controversies Are Piling Up. Republicans Are Quiet.                            \n",
       "\n",
       "       Similarity score               article_date  \n",
       "167    0.740246         2021-08-17 23:59:59.983036  \n",
       "6361   0.727123         2021-04-14 15:29:00.000000  \n",
       "367    0.717830         2021-08-17 23:59:59.950001  \n",
       "142    0.704015         2021-08-18 23:59:59.983000  \n",
       "14327  0.697866         2021-01-30 00:36:46.000000  "
      ]
     },
     "metadata": {},
     "output_type": "display_data"
    },
    {
     "name": "stdout",
     "output_type": "stream",
     "text": [
      "\n",
      "\n",
      "30\n",
      "\n",
      "\n",
      "Nikki Haley, other Republicans call for Biden's resignation or impeachment after attack at Kabul airport\n"
     ]
    },
    {
     "data": {
      "text/html": [
       "<div>\n",
       "<style scoped>\n",
       "    .dataframe tbody tr th:only-of-type {\n",
       "        vertical-align: middle;\n",
       "    }\n",
       "\n",
       "    .dataframe tbody tr th {\n",
       "        vertical-align: top;\n",
       "    }\n",
       "\n",
       "    .dataframe thead th {\n",
       "        text-align: right;\n",
       "    }\n",
       "</style>\n",
       "<table border=\"1\" class=\"dataframe\">\n",
       "  <thead>\n",
       "    <tr style=\"text-align: right;\">\n",
       "      <th></th>\n",
       "      <th>article_heading</th>\n",
       "      <th>Similarity score</th>\n",
       "      <th>article_date</th>\n",
       "    </tr>\n",
       "  </thead>\n",
       "  <tbody>\n",
       "    <tr>\n",
       "      <th>14613</th>\n",
       "      <td>A Call for Unity to a Nation Facing a Pandemic and Division</td>\n",
       "      <td>0.953050</td>\n",
       "      <td>2021-01-20 21:43:09</td>\n",
       "    </tr>\n",
       "    <tr>\n",
       "      <th>14577</th>\n",
       "      <td>Michael Ellis, a Trump appointee at the N.S.A. who was sworn in on Tuesday, has been placed on leave.</td>\n",
       "      <td>0.951212</td>\n",
       "      <td>2021-01-21 01:52:20</td>\n",
       "    </tr>\n",
       "    <tr>\n",
       "      <th>15103</th>\n",
       "      <td>Trump is said to have discussed pardoning himself.</td>\n",
       "      <td>0.951015</td>\n",
       "      <td>2021-01-07 20:41:44</td>\n",
       "    </tr>\n",
       "    <tr>\n",
       "      <th>14621</th>\n",
       "      <td>Trump was not the first president to snub an inauguration.</td>\n",
       "      <td>0.950968</td>\n",
       "      <td>2021-01-20 09:51:20</td>\n",
       "    </tr>\n",
       "    <tr>\n",
       "      <th>14703</th>\n",
       "      <td>Sharpshooters, Protesters, a Secret Train Trip</td>\n",
       "      <td>0.950925</td>\n",
       "      <td>2021-01-19 00:19:32</td>\n",
       "    </tr>\n",
       "  </tbody>\n",
       "</table>\n",
       "</div>"
      ],
      "text/plain": [
       "                                                                                             article_heading  \\\n",
       "14613  A Call for Unity to a Nation Facing a Pandemic and Division                                             \n",
       "14577  Michael Ellis, a Trump appointee at the N.S.A. who was sworn in on Tuesday, has been placed on leave.   \n",
       "15103  Trump is said to have discussed pardoning himself.                                                      \n",
       "14621  Trump was not the first president to snub an inauguration.                                              \n",
       "14703  Sharpshooters, Protesters, a Secret Train Trip                                                          \n",
       "\n",
       "       Similarity score        article_date  \n",
       "14613  0.953050         2021-01-20 21:43:09  \n",
       "14577  0.951212         2021-01-21 01:52:20  \n",
       "15103  0.951015         2021-01-07 20:41:44  \n",
       "14621  0.950968         2021-01-20 09:51:20  \n",
       "14703  0.950925         2021-01-19 00:19:32  "
      ]
     },
     "metadata": {},
     "output_type": "display_data"
    }
   ],
   "source": [
    "for component in components_saved:\n",
    "    print(\"\\n\")\n",
    "    print(component)\n",
    "    print(\"\\n\")\n",
    "    topic_vectors_train,vectorizer,model = get_saved_models(component)\n",
    "    test_indices = [0]\n",
    "    test_lemmas = text_pipeline(df_test.iloc[test_indices].article_body)\n",
    "    lemma_test_vectors = text_vectorizer(test_lemmas,vectorizer)\n",
    "    topic_vectors_test = get_topic_vectors(lemma_test_vectors,model)\n",
    "    similarity_scores = get_similar_articles(topic_vectors_test,topic_vectors_train)\n",
    "    heading, result = print_similar_articles(test_indices,similarity_scores)\n",
    "    print(heading)\n",
    "    display(result)"
   ]
  },
  {
   "cell_type": "markdown",
   "id": "31967234-b6d0-407f-ad53-2c5290cecfaf",
   "metadata": {
    "tags": []
   },
   "source": [
    "# Fauci Covid"
   ]
  },
  {
   "cell_type": "code",
   "execution_count": 14,
   "id": "3cd642e6-f966-4c5a-a6f0-d5099f8d288a",
   "metadata": {},
   "outputs": [
    {
     "name": "stdout",
     "output_type": "stream",
     "text": [
      "\n",
      "\n",
      "300\n",
      "\n",
      "\n"
     ]
    },
    {
     "data": {
      "text/plain": [
       "('Fauci blamed measles outbreak on Hasidic Jews; Orthodox leaders set the record straight',\n",
       "                                                                        article_heading  \\\n",
       " 2480   White House back-channeling with networks on Covid coverage                       \n",
       " 15681  Republican governor says ‘time to start blaming unvaccinated’ for rise in cases   \n",
       " 2005   Swing voters, week 1: ‘Election is no slam-dunk’                                  \n",
       " 2283   Fauci urges more testing to track breakthrough Covid cases                        \n",
       " 15690  ‘It’s too late’: US doctor says dying patients begging for Covid vaccine          \n",
       " \n",
       "        Similarity score        article_date  \n",
       " 2480   0.882582         2021-08-03 04:30:00  \n",
       " 15681  0.877112         2021-07-23 14:13:19  \n",
       " 2005   0.860398         2021-08-16 11:24:00  \n",
       " 2283   0.837508         2021-08-08 12:19:00  \n",
       " 15690  0.836280         2021-07-22 16:19:14  )"
      ]
     },
     "metadata": {},
     "output_type": "display_data"
    },
    {
     "name": "stdout",
     "output_type": "stream",
     "text": [
      "\n",
      "\n",
      "240\n",
      "\n",
      "\n"
     ]
    },
    {
     "data": {
      "text/plain": [
       "('Fauci blamed measles outbreak on Hasidic Jews; Orthodox leaders set the record straight',\n",
       "                                                                          article_heading  \\\n",
       " 15589  New York City to require vaccination for indoor dining, concerts and gyms           \n",
       " 715    NYC to recommend, not mandate masks for vaccinated people indoors                   \n",
       " 17380  Will I have to wear a mask after getting the Covid vaccine? The science explained   \n",
       " 15703  Delta variant accounts for 83% of new cases in US, CDC director says                \n",
       " 5477   ‘Doomsday scenario’: Lagging vaccine rates stir fears of dangerous variants         \n",
       " \n",
       "        Similarity score               article_date  \n",
       " 15589  0.929702         2021-08-03 16:26:53.000000  \n",
       " 715    0.927695         2021-08-01 23:59:59.980207  \n",
       " 17380  0.918070         2021-03-12 19:54:15.000000  \n",
       " 15703  0.912664         2021-07-21 12:48:08.000000  \n",
       " 5477   0.912347         2021-05-06 04:30:00.000000  )"
      ]
     },
     "metadata": {},
     "output_type": "display_data"
    },
    {
     "name": "stdout",
     "output_type": "stream",
     "text": [
      "\n",
      "\n",
      "180\n",
      "\n",
      "\n"
     ]
    },
    {
     "data": {
      "text/plain": [
       "('Fauci blamed measles outbreak on Hasidic Jews; Orthodox leaders set the record straight',\n",
       "                                                                                                      article_heading  \\\n",
       " 14487  ‘An incredible scale of tragedy’: The U.S. records 25 million virus cases.                                      \n",
       " 13655  D.C.’s Mayor Mourned Covid’s Unequal Toll. Her Sister Is the Latest Victim.                                     \n",
       " 15589  New York City to require vaccination for indoor dining, concerts and gyms                                       \n",
       " 9914   Fauci calls booster shots ‘likely,’ not now but in future, citing early signs that vaccine immunity may wane.   \n",
       " 2283   Fauci urges more testing to track breakthrough Covid cases                                                      \n",
       " \n",
       "        Similarity score        article_date  \n",
       " 14487  0.920223         2021-01-23 21:30:33  \n",
       " 13655  0.919705         2021-02-26 00:47:28  \n",
       " 15589  0.911439         2021-08-03 16:26:53  \n",
       " 9914   0.892146         2021-08-12 16:51:49  \n",
       " 2283   0.889902         2021-08-08 12:19:00  )"
      ]
     },
     "metadata": {},
     "output_type": "display_data"
    },
    {
     "name": "stdout",
     "output_type": "stream",
     "text": [
      "\n",
      "\n",
      "150\n",
      "\n",
      "\n"
     ]
    },
    {
     "data": {
      "text/plain": [
       "('Fauci blamed measles outbreak on Hasidic Jews; Orthodox leaders set the record straight',\n",
       "                                                                         article_heading  \\\n",
       " 15568  Millennials hit with biggest increase in California Covid cases                    \n",
       " 10549  Top Tennessee Vaccine Official Says She Was Fired Over Shots for Teens             \n",
       " 17220  Michigan Covid surge raises fears it’s an early sign of things to come across US   \n",
       " 15703  Delta variant accounts for 83% of new cases in US, CDC director says               \n",
       " 15288  The Los Angeles area is hit with a Christmas coronavirus surge.                    \n",
       " \n",
       "        Similarity score        article_date  \n",
       " 15568  0.902537         2021-08-04 20:06:22  \n",
       " 10549  0.897042         2021-07-13 17:14:43  \n",
       " 17220  0.893785         2021-03-24 09:00:35  \n",
       " 15703  0.890622         2021-07-21 12:48:08  \n",
       " 15288  0.888298         2021-01-02 22:52:54  )"
      ]
     },
     "metadata": {},
     "output_type": "display_data"
    },
    {
     "name": "stdout",
     "output_type": "stream",
     "text": [
      "\n",
      "\n",
      "120\n",
      "\n",
      "\n"
     ]
    },
    {
     "data": {
      "text/plain": [
       "('Fauci blamed measles outbreak on Hasidic Jews; Orthodox leaders set the record straight',\n",
       "                                                                        article_heading  \\\n",
       " 12244  Some mass vaccination sites in U.S. close as demand begins to fall.               \n",
       " 15703  Delta variant accounts for 83% of new cases in US, CDC director says              \n",
       " 16629  Decline in US Covid vaccinations presents new problem: how to shrink operations   \n",
       " 8287   Policy hackathon: How to fix vaccination                                          \n",
       " 5625   Feds rethink vaccination strategy as slowing demand reveals stark divide          \n",
       " \n",
       "        Similarity score        article_date  \n",
       " 12244  0.827969         2021-04-23 10:56:52  \n",
       " 15703  0.791402         2021-07-21 12:48:08  \n",
       " 16629  0.775511         2021-05-02 06:00:25  \n",
       " 8287   0.768793         2021-02-18 04:30:00  \n",
       " 5625   0.768463         2021-05-03 04:30:00  )"
      ]
     },
     "metadata": {},
     "output_type": "display_data"
    },
    {
     "name": "stdout",
     "output_type": "stream",
     "text": [
      "\n",
      "\n",
      "90\n",
      "\n",
      "\n"
     ]
    },
    {
     "data": {
      "text/plain": [
       "('Fauci blamed measles outbreak on Hasidic Jews; Orthodox leaders set the record straight',\n",
       "                                                                              article_heading  \\\n",
       " 10906  Louisiana, lagging in vaccinations, gambles on a lottery.                               \n",
       " 10549  Top Tennessee Vaccine Official Says She Was Fired Over Shots for Teens                  \n",
       " 9928   Inside a San Antonio pediatric hospital, children battle for breath. Parents cry.       \n",
       " 932    White House says COVID vaccinations 'picking back up' amid concern over delta variant   \n",
       " 11081  Could the U.S. Have Saved More Lives? 5 Alternate Scenarios for the Vaccine Rollout     \n",
       " \n",
       "        Similarity score            article_date  \n",
       " 10906  0.943304         2021-06-25 09:01:14.000  \n",
       " 10549  0.942904         2021-07-13 17:14:43.000  \n",
       " 9928   0.940909         2021-08-12 20:51:40.000  \n",
       " 932    0.940344         2021-07-25 23:59:59.984  \n",
       " 11081  0.939825         2021-06-17 17:46:12.000  )"
      ]
     },
     "metadata": {},
     "output_type": "display_data"
    },
    {
     "name": "stdout",
     "output_type": "stream",
     "text": [
      "\n",
      "\n",
      "60\n",
      "\n",
      "\n"
     ]
    },
    {
     "data": {
      "text/plain": [
       "('Fauci blamed measles outbreak on Hasidic Jews; Orthodox leaders set the record straight',\n",
       "                                                                                article_heading  \\\n",
       " 15896  Threat to vulnerable Americans rises as Delta variant spreads                             \n",
       " 3363   Delta variant said to be far more widespread than federal estimates                       \n",
       " 17265  Spread of Covid variants fuels concern in Michigan as state reopens                       \n",
       " 1907   Biden will require vaccines for staff at federally funded nursing homes                   \n",
       " 8006   CDC's draft guidelines for vaccinated Americans call for small steps toward normal life   \n",
       " \n",
       "        Similarity score        article_date  \n",
       " 15896  0.905311         2021-07-01 10:00:05  \n",
       " 3363   0.888557         2021-07-08 08:59:00  \n",
       " 17265  0.883953         2021-03-20 20:32:37  \n",
       " 1907   0.883746         2021-08-18 15:41:00  \n",
       " 8006   0.883403         2021-03-02 10:37:00  )"
      ]
     },
     "metadata": {},
     "output_type": "display_data"
    },
    {
     "name": "stdout",
     "output_type": "stream",
     "text": [
      "\n",
      "\n",
      "30\n",
      "\n",
      "\n"
     ]
    },
    {
     "data": {
      "text/plain": [
       "('Fauci blamed measles outbreak on Hasidic Jews; Orthodox leaders set the record straight',\n",
       "                                                                article_heading  \\\n",
       " 16139  Seattle becomes most vaccinated city in US, mayor says                    \n",
       " 3065   Poll: Unvaccinated Americans least concerned about Delta variant          \n",
       " 2495   Poll: Slim majority in U.S. backs return of masking                       \n",
       " 6212   Half of U.S. adults now have received at least 1 Covid shot               \n",
       " 15275  As the Virus Spikes, Vaccine Distribution Is One More Hurdle for States   \n",
       " \n",
       "        Similarity score        article_date  \n",
       " 16139  0.989582         2021-06-10 15:31:10  \n",
       " 3065   0.954764         2021-07-18 12:43:00  \n",
       " 2495   0.953928         2021-08-02 13:26:00  \n",
       " 6212   0.936165         2021-04-18 15:30:00  \n",
       " 15275  0.930603         2021-01-03 23:16:21  )"
      ]
     },
     "metadata": {},
     "output_type": "display_data"
    }
   ],
   "source": [
    "for component in components_saved:\n",
    "    print(\"\\n\")\n",
    "    print(component)\n",
    "    print(\"\\n\")\n",
    "    topic_vectors_train,vectorizer,model = get_saved_models(component)\n",
    "    test_indices = [60]\n",
    "    test_lemmas = text_pipeline(df_test.iloc[test_indices].article_body)\n",
    "    lemma_test_vectors = text_vectorizer(test_lemmas,vectorizer)\n",
    "    topic_vectors_test = get_topic_vectors(lemma_test_vectors,model)\n",
    "    similarity_scores = get_similar_articles(topic_vectors_test,topic_vectors_train)\n",
    "    result = print_similar_articles(test_indices,similarity_scores)\n",
    "    display(result)"
   ]
  },
  {
   "cell_type": "markdown",
   "id": "0a9fd495-1b44-4406-a5c5-12fd57ae5e8d",
   "metadata": {},
   "source": [
    "# New Jersey ban on ICE"
   ]
  },
  {
   "cell_type": "code",
   "execution_count": 15,
   "id": "1c37dbb8-5db2-4430-85df-ba972f78dc05",
   "metadata": {},
   "outputs": [
    {
     "name": "stdout",
     "output_type": "stream",
     "text": [
      "\n",
      "\n",
      "300\n",
      "\n",
      "\n"
     ]
    },
    {
     "data": {
      "text/plain": [
       "('New Jersey bans jails from contracting with ICE to hold immigration detainees',\n",
       "                                                                                 article_heading  \\\n",
       " 2069  'I feel like I did the right thing,' Cuomo tells mag in first interview since resignation   \n",
       " 3332  Murphy now no. 2 at NGA                                                                     \n",
       " 5570  Brent Spiner has spoken                                                                     \n",
       " 5693  New Jersey grew because of pizza                                                            \n",
       " 3479  It feels like 2013                                                                          \n",
       " \n",
       "       Similarity score        article_date  \n",
       " 2069  0.815930         2021-08-13 20:15:00  \n",
       " 3332  0.812244         2021-07-09 06:55:00  \n",
       " 5570  0.812039         2021-05-04 07:00:00  \n",
       " 5693  0.811083         2021-04-30 06:55:00  \n",
       " 3479  0.807662         2021-06-28 07:30:00  )"
      ]
     },
     "metadata": {},
     "output_type": "display_data"
    },
    {
     "name": "stdout",
     "output_type": "stream",
     "text": [
      "\n",
      "\n",
      "240\n",
      "\n",
      "\n"
     ]
    },
    {
     "data": {
      "text/plain": [
       "('New Jersey bans jails from contracting with ICE to hold immigration detainees',\n",
       "                                                    article_heading  \\\n",
       " 9356  The Trump implosion auction, brought to you by a Republican?   \n",
       " 5570  Brent Spiner has spoken                                        \n",
       " 7397  The details of the Johnson allegation                          \n",
       " 6933  Should reporters be a protected class in N.J.?                 \n",
       " 6763  A peek at the Christie Institute's finances                    \n",
       " \n",
       "       Similarity score        article_date  \n",
       " 9356  0.860522         2021-01-22 06:55:00  \n",
       " 5570  0.857629         2021-05-04 07:00:00  \n",
       " 7397  0.854525         2021-03-19 06:55:00  \n",
       " 6933  0.852794         2021-03-31 06:55:00  \n",
       " 6763  0.849693         2021-04-05 07:30:00  )"
      ]
     },
     "metadata": {},
     "output_type": "display_data"
    },
    {
     "name": "stdout",
     "output_type": "stream",
     "text": [
      "\n",
      "\n",
      "180\n",
      "\n",
      "\n"
     ]
    },
    {
     "data": {
      "text/plain": [
       "('New Jersey bans jails from contracting with ICE to hold immigration detainees',\n",
       "                                           article_heading  Similarity score  \\\n",
       " 6280  Murphy challenges Sweeney on gun control             0.886096           \n",
       " 8960  Senate Republican Leader Kean won't seek reelection  0.870437           \n",
       " 5078  It's just another masked Monday                      0.869855           \n",
       " 6441  Lisa McCormick is the new Kanye West                 0.868756           \n",
       " 1928  Another tough choice for Rabner                      0.867678           \n",
       " \n",
       "             article_date  \n",
       " 6280 2021-04-16 06:58:00  \n",
       " 8960 2021-02-02 07:30:00  \n",
       " 5078 2021-05-17 07:00:00  \n",
       " 6441 2021-04-13 07:00:00  \n",
       " 1928 2021-08-18 07:00:00  )"
      ]
     },
     "metadata": {},
     "output_type": "display_data"
    },
    {
     "name": "stdout",
     "output_type": "stream",
     "text": [
      "\n",
      "\n",
      "150\n",
      "\n",
      "\n"
     ]
    },
    {
     "data": {
      "text/plain": [
       "('New Jersey bans jails from contracting with ICE to hold immigration detainees',\n",
       "                                   article_heading  Similarity score  \\\n",
       " 4885  Senate moves bill to ban ICE jail contracts  0.830091           \n",
       " 3332  Murphy now no. 2 at NGA                      0.827526           \n",
       " 8713  The legal weed saga continues                0.821075           \n",
       " 7690  More problems in District 37                 0.821040           \n",
       " 6280  Murphy challenges Sweeney on gun control     0.820780           \n",
       " \n",
       "             article_date  \n",
       " 4885 2021-05-21 06:55:00  \n",
       " 3332 2021-07-09 06:55:00  \n",
       " 8713 2021-02-08 07:30:00  \n",
       " 7690 2021-03-12 06:55:00  \n",
       " 6280 2021-04-16 06:58:00  )"
      ]
     },
     "metadata": {},
     "output_type": "display_data"
    },
    {
     "name": "stdout",
     "output_type": "stream",
     "text": [
      "\n",
      "\n",
      "120\n",
      "\n",
      "\n"
     ]
    },
    {
     "data": {
      "text/plain": [
       "('New Jersey bans jails from contracting with ICE to hold immigration detainees',\n",
       "                                   article_heading  Similarity score  \\\n",
       " 4885  Senate moves bill to ban ICE jail contracts  0.901565           \n",
       " 5693  New Jersey grew because of pizza             0.901258           \n",
       " 7510  Johnson and Huttle and ICE contracts         0.900855           \n",
       " 6280  Murphy challenges Sweeney on gun control     0.900101           \n",
       " 1928  Another tough choice for Rabner              0.899309           \n",
       " \n",
       "             article_date  \n",
       " 4885 2021-05-21 06:55:00  \n",
       " 5693 2021-04-30 06:55:00  \n",
       " 7510 2021-03-17 07:01:00  \n",
       " 6280 2021-04-16 06:58:00  \n",
       " 1928 2021-08-18 07:00:00  )"
      ]
     },
     "metadata": {},
     "output_type": "display_data"
    },
    {
     "name": "stdout",
     "output_type": "stream",
     "text": [
      "\n",
      "\n",
      "90\n",
      "\n",
      "\n"
     ]
    },
    {
     "data": {
      "text/plain": [
       "('New Jersey bans jails from contracting with ICE to hold immigration detainees',\n",
       "                                                                            article_heading  \\\n",
       " 7544  ‘Our state has forgotten us’: Immigrant groups sour on New Jersey’s liberal governor   \n",
       " 7510  Johnson and Huttle and ICE contracts                                                   \n",
       " 6280  Murphy challenges Sweeney on gun control                                               \n",
       " 7690  More problems in District 37                                                           \n",
       " 5693  New Jersey grew because of pizza                                                       \n",
       " \n",
       "       Similarity score        article_date  \n",
       " 7544  0.897390         2021-03-16 13:41:00  \n",
       " 7510  0.881991         2021-03-17 07:01:00  \n",
       " 6280  0.877478         2021-04-16 06:58:00  \n",
       " 7690  0.875522         2021-03-12 06:55:00  \n",
       " 5693  0.875320         2021-04-30 06:55:00  )"
      ]
     },
     "metadata": {},
     "output_type": "display_data"
    },
    {
     "name": "stdout",
     "output_type": "stream",
     "text": [
      "\n",
      "\n",
      "60\n",
      "\n",
      "\n"
     ]
    },
    {
     "data": {
      "text/plain": [
       "('New Jersey bans jails from contracting with ICE to hold immigration detainees',\n",
       "                                                                                article_heading  \\\n",
       " 15913  Ice transfers 30 detainees to unknown location amid hunger strike                         \n",
       " 7544   ‘Our state has forgotten us’: Immigrant groups sour on New Jersey’s liberal governor      \n",
       " 1125   Biden stands by nominee linked to tree-spiking plot despite new revelations, Psaki says   \n",
       " 1188   McConnell calls for Biden to withdraw nominee linked to eco-terrorist plot                \n",
       " 261    New Jersey illegal immigrant charged with murder of 18-year-old high school soccer star   \n",
       " \n",
       "        Similarity score               article_date  \n",
       " 15913  0.901773         2021-06-29 20:34:32.000000  \n",
       " 7544   0.829778         2021-03-16 13:41:00.000000  \n",
       " 1125   0.775712         2021-07-18 23:59:59.983972  \n",
       " 1188   0.773981         2021-07-15 23:59:59.982002  \n",
       " 261    0.767860         2021-08-13 23:59:59.982999  )"
      ]
     },
     "metadata": {},
     "output_type": "display_data"
    },
    {
     "name": "stdout",
     "output_type": "stream",
     "text": [
      "\n",
      "\n",
      "30\n",
      "\n",
      "\n"
     ]
    },
    {
     "data": {
      "text/plain": [
       "('New Jersey bans jails from contracting with ICE to hold immigration detainees',\n",
       "                                                                         article_heading  \\\n",
       " 12459  Florida Man Who Posed as Immigration Lawyer Gets 20-Year Sentence                  \n",
       " 9968   Biden Administration Violating Decree on Migrant Children, Court Filing Says       \n",
       " 9194   Biden administration replaces top immigration court official                       \n",
       " 18002  Biden official involved in removal of DoJ lawyer concerned by family separations   \n",
       " 2046   Taliban seize power amid chaos in Afghanistan                                      \n",
       " \n",
       "        Similarity score        article_date  \n",
       " 12459  0.990432         2021-04-15 21:05:03  \n",
       " 9968   0.990313         2021-08-10 01:31:21  \n",
       " 9194   0.983978         2021-01-27 11:06:00  \n",
       " 18002  0.983542         2021-01-23 02:31:07  \n",
       " 2046   0.976060         2021-08-15 10:33:00  )"
      ]
     },
     "metadata": {},
     "output_type": "display_data"
    }
   ],
   "source": [
    "for component in components_saved:\n",
    "    print(\"\\n\")\n",
    "    print(component)\n",
    "    print(\"\\n\")\n",
    "    topic_vectors_train,vectorizer,model = get_saved_models(component)\n",
    "    test_indices = [107]\n",
    "    test_lemmas = text_pipeline(df_test.iloc[test_indices].article_body)\n",
    "    lemma_test_vectors = text_vectorizer(test_lemmas,vectorizer)\n",
    "    topic_vectors_test = get_topic_vectors(lemma_test_vectors,model)\n",
    "    similarity_scores = get_similar_articles(topic_vectors_test,topic_vectors_train)\n",
    "    result = print_similar_articles(test_indices,similarity_scores)\n",
    "    display(result)"
   ]
  },
  {
   "cell_type": "markdown",
   "id": "fc6805dd-325d-4e11-944c-4ac2fa83221a",
   "metadata": {},
   "source": [
    "# Cuomo Sexual harrasement allegations resign"
   ]
  },
  {
   "cell_type": "code",
   "execution_count": 16,
   "id": "8c47431a-276d-4b60-8908-b79e204a5242",
   "metadata": {},
   "outputs": [
    {
     "name": "stdout",
     "output_type": "stream",
     "text": [
      "\n",
      "\n",
      "300\n",
      "\n",
      "\n"
     ]
    },
    {
     "data": {
      "text/plain": [
       "('Cuomo snaps at reporter when confronted about his scandals at hurricane briefing',\n",
       "                                                                                       article_heading  \\\n",
       " 2449   Gov. Andrew Cuomo denies report findings that he sexually harassed women                         \n",
       " 15587  Andrew Cuomo sexual harassment: the key testimony from the report                                \n",
       " 679    Cuomo defiantly declines to resign, denies wrongdoing after bombshell sexual harassment report   \n",
       " 17281  Cuomo accuser recalls toxic workplace culture 'especially for women'                             \n",
       " 2459   AG: Cuomo sexually harassed multiple women, broke state and federal law                          \n",
       " \n",
       "        Similarity score            article_date  \n",
       " 2449   0.990925         2021-08-03 13:35:00.000  \n",
       " 15587  0.990371         2021-08-03 20:18:42.000  \n",
       " 679    0.989831         2021-08-02 23:59:59.981  \n",
       " 17281  0.989769         2021-03-19 22:21:00.000  \n",
       " 2459   0.985904         2021-08-03 11:26:00.000  )"
      ]
     },
     "metadata": {},
     "output_type": "display_data"
    },
    {
     "name": "stdout",
     "output_type": "stream",
     "text": [
      "\n",
      "\n",
      "240\n",
      "\n",
      "\n"
     ]
    },
    {
     "data": {
      "text/plain": [
       "('Cuomo snaps at reporter when confronted about his scandals at hurricane briefing',\n",
       "                                                                            article_heading  \\\n",
       " 15588  Cuomo faces calls to quit after inquiry finds he sexually harassed 11 women           \n",
       " 2449   Gov. Andrew Cuomo denies report findings that he sexually harassed women              \n",
       " 2265   ‘What he did to me was a crime’: Cuomo accuser goes public with groping allegations   \n",
       " 7529   More women reaching out with Cuomo harassment allegations, accuser’s attorney says    \n",
       " 568    DeBlasio calls on 'narcissist' Cuomo to 'get the hell out of the way' and resign      \n",
       " \n",
       "        Similarity score            article_date  \n",
       " 15588  0.982332         2021-08-03 19:27:03.000  \n",
       " 2449   0.980721         2021-08-03 13:35:00.000  \n",
       " 2265   0.978419         2021-08-09 08:24:00.000  \n",
       " 7529   0.977373         2021-03-16 19:05:00.000  \n",
       " 568    0.977216         2021-08-04 23:59:59.983  )"
      ]
     },
     "metadata": {},
     "output_type": "display_data"
    },
    {
     "name": "stdout",
     "output_type": "stream",
     "text": [
      "\n",
      "\n",
      "180\n",
      "\n",
      "\n"
     ]
    },
    {
     "data": {
      "text/plain": [
       "('Cuomo snaps at reporter when confronted about his scandals at hurricane briefing',\n",
       "                                                                                           article_heading  \\\n",
       " 679    Cuomo defiantly declines to resign, denies wrongdoing after bombshell sexual harassment report       \n",
       " 2449   Gov. Andrew Cuomo denies report findings that he sexually harassed women                             \n",
       " 15587  Andrew Cuomo sexual harassment: the key testimony from the report                                    \n",
       " 508    Cuomo executive assistant Brittany Commisso goes public, describes alleged misconduct in interview   \n",
       " 547    Cuomo lawyers blast AG report, saying evidence was left out: 'Doesn't pass muster'                   \n",
       " \n",
       "        Similarity score               article_date  \n",
       " 679    0.992912         2021-08-02 23:59:59.981000  \n",
       " 2449   0.991405         2021-08-03 13:35:00.000000  \n",
       " 15587  0.990869         2021-08-03 20:18:42.000000  \n",
       " 508    0.990610         2021-08-08 23:59:59.984015  \n",
       " 547    0.990206         2021-08-05 23:59:59.983998  )"
      ]
     },
     "metadata": {},
     "output_type": "display_data"
    },
    {
     "name": "stdout",
     "output_type": "stream",
     "text": [
      "\n",
      "\n",
      "150\n",
      "\n",
      "\n"
     ]
    },
    {
     "data": {
      "text/plain": [
       "('Cuomo snaps at reporter when confronted about his scandals at hurricane briefing',\n",
       "                                                                      article_heading  \\\n",
       " 509    Who is Cuomo accuser Brittany Commisso?                                         \n",
       " 518    Cuomo executive assistant comes forward, alleges NY governor 'broke the law'    \n",
       " 1167   Cuomo grilled by AG's lawyers in sexual harassment probe                        \n",
       " 2459   AG: Cuomo sexually harassed multiple women, broke state and federal law         \n",
       " 17529  New York attorney general seeks to investigate Cuomo sexual harassment claims   \n",
       " \n",
       "        Similarity score               article_date  \n",
       " 509    0.994832         2021-08-08 23:59:59.983000  \n",
       " 518    0.994751         2021-08-07 23:59:59.981001  \n",
       " 1167   0.994134         2021-07-16 23:59:59.949000  \n",
       " 2459   0.993738         2021-08-03 11:26:00.000000  \n",
       " 17529  0.993366         2021-02-28 22:55:54.000000  )"
      ]
     },
     "metadata": {},
     "output_type": "display_data"
    },
    {
     "name": "stdout",
     "output_type": "stream",
     "text": [
      "\n",
      "\n",
      "120\n",
      "\n",
      "\n"
     ]
    },
    {
     "data": {
      "text/plain": [
       "('Cuomo snaps at reporter when confronted about his scandals at hurricane briefing',\n",
       "                                                                                                  article_heading  \\\n",
       " 470   Cuomo detractors say resignation shouldn't be end of scandal, governor should be 'prosecuted and arrested'   \n",
       " 7865  Cuomo accuser says governor’s national profile emboldened him                                                \n",
       " 505   Time's Up chairwoman resigns amid backlash for effort to aid Cuomo, discredit one of his accusers            \n",
       " 568   DeBlasio calls on 'narcissist' Cuomo to 'get the hell out of the way' and resign                             \n",
       " 622   Plane flies 'Remove Cuomo' banner above New York state Capitol                                               \n",
       " \n",
       "       Similarity score               article_date  \n",
       " 470   0.988576         2021-08-09 23:59:59.972002  \n",
       " 7865  0.985963         2021-03-04 20:05:00.000000  \n",
       " 505   0.985339         2021-08-08 23:59:59.982566  \n",
       " 568   0.984941         2021-08-04 23:59:59.983000  \n",
       " 622   0.984886         2021-08-03 23:59:59.980278  )"
      ]
     },
     "metadata": {},
     "output_type": "display_data"
    },
    {
     "name": "stdout",
     "output_type": "stream",
     "text": [
      "\n",
      "\n",
      "90\n",
      "\n",
      "\n"
     ]
    },
    {
     "data": {
      "text/plain": [
       "('Cuomo snaps at reporter when confronted about his scandals at hurricane briefing',\n",
       "                                                                            article_heading  \\\n",
       " 7865   Cuomo accuser says governor’s national profile emboldened him                         \n",
       " 15587  Andrew Cuomo sexual harassment: the key testimony from the report                     \n",
       " 8267   New York assemblymember: Cuomo 'berated me,' asked me to lie about alleged cover-up   \n",
       " 475    NY Gov. Cuomo resigns amid sexual harassment scandal                                  \n",
       " 2265   ‘What he did to me was a crime’: Cuomo accuser goes public with groping allegations   \n",
       " \n",
       "        Similarity score               article_date  \n",
       " 7865   0.995420         2021-03-04 20:05:00.000000  \n",
       " 15587  0.995420         2021-08-03 20:18:42.000000  \n",
       " 8267   0.995327         2021-02-18 08:48:00.000000  \n",
       " 475    0.995193         2021-08-09 23:59:59.984001  \n",
       " 2265   0.995124         2021-08-09 08:24:00.000000  )"
      ]
     },
     "metadata": {},
     "output_type": "display_data"
    },
    {
     "name": "stdout",
     "output_type": "stream",
     "text": [
      "\n",
      "\n",
      "60\n",
      "\n",
      "\n"
     ]
    },
    {
     "data": {
      "text/plain": [
       "('Cuomo snaps at reporter when confronted about his scandals at hurricane briefing',\n",
       "                                                                                           article_heading  \\\n",
       " 7865   Cuomo accuser says governor’s national profile emboldened him                                        \n",
       " 17138  Sherry Vill is latest to accuse Andrew Cuomo of sexual misconduct                                    \n",
       " 675    NY Gov. Cuomo was recorded singing ‘Do You Love Me?’ to accuser Charlotte Bennett                    \n",
       " 2265   ‘What he did to me was a crime’: Cuomo accuser goes public with groping allegations                  \n",
       " 508    Cuomo executive assistant Brittany Commisso goes public, describes alleged misconduct in interview   \n",
       " \n",
       "        Similarity score               article_date  \n",
       " 7865   0.994899         2021-03-04 20:05:00.000000  \n",
       " 17138  0.994357         2021-03-29 22:06:54.000000  \n",
       " 675    0.993358         2021-08-02 23:59:59.981015  \n",
       " 2265   0.993221         2021-08-09 08:24:00.000000  \n",
       " 508    0.993210         2021-08-08 23:59:59.984015  )"
      ]
     },
     "metadata": {},
     "output_type": "display_data"
    },
    {
     "name": "stdout",
     "output_type": "stream",
     "text": [
      "\n",
      "\n",
      "30\n",
      "\n",
      "\n"
     ]
    },
    {
     "data": {
      "text/plain": [
       "('Cuomo snaps at reporter when confronted about his scandals at hurricane briefing',\n",
       "                                                                              article_heading  \\\n",
       " 7361   Current staffer publicly accuses Cuomo of sexual harassment                             \n",
       " 13319  Why Al Franken Hovers Over the Debate About Cuomo’s Future                              \n",
       " 9944   Railing at Enemies and Pleading for Time: Inside Cuomo’s Final Days                     \n",
       " 17138  Sherry Vill is latest to accuse Andrew Cuomo of sexual misconduct                       \n",
       " 17302  Cuomo scandal: sexual harassment rife in New York state capitol, female reporters say   \n",
       " \n",
       "        Similarity score        article_date  \n",
       " 7361   0.995708         2021-03-19 17:47:00  \n",
       " 13319  0.995579         2021-03-12 21:33:58  \n",
       " 9944   0.995506         2021-08-11 00:25:15  \n",
       " 17138  0.995452         2021-03-29 22:06:54  \n",
       " 17302  0.995371         2021-03-18 17:37:28  )"
      ]
     },
     "metadata": {},
     "output_type": "display_data"
    }
   ],
   "source": [
    "for component in components_saved:\n",
    "    print(\"\\n\")\n",
    "    print(component)\n",
    "    print(\"\\n\")\n",
    "    topic_vectors_train,vectorizer,model = get_saved_models(component)\n",
    "    test_indices = [95]\n",
    "    test_lemmas = text_pipeline(df_test.iloc[test_indices].article_body)\n",
    "    lemma_test_vectors = text_vectorizer(test_lemmas,vectorizer)\n",
    "    topic_vectors_test = get_topic_vectors(lemma_test_vectors,model)\n",
    "    similarity_scores = get_similar_articles(topic_vectors_test,topic_vectors_train)\n",
    "    result = print_similar_articles(test_indices,similarity_scores)\n",
    "    display(result)"
   ]
  },
  {
   "cell_type": "code",
   "execution_count": null,
   "id": "c59be5df-1615-45a2-8d3d-90315682a563",
   "metadata": {},
   "outputs": [],
   "source": []
  },
  {
   "cell_type": "markdown",
   "id": "c539c1ab-166f-4ecb-b2db-6f3d2afc376b",
   "metadata": {},
   "source": [
    "# Random"
   ]
  },
  {
   "cell_type": "code",
   "execution_count": 17,
   "id": "7c8cc7cf-7a00-43f9-9434-754d4615ad6c",
   "metadata": {},
   "outputs": [
    {
     "name": "stdout",
     "output_type": "stream",
     "text": [
      "\n",
      "\n",
      "300\n",
      "\n",
      "\n"
     ]
    },
    {
     "data": {
      "text/plain": [
       "('Holes in reporting of breakthrough Covid cases hamper CDC response',\n",
       "                                                        article_heading  \\\n",
       " 3479  It feels like 2013                                                 \n",
       " 6664  Why get a farmland tax assessment when you can have a parsonage?   \n",
       " 2850  Guadag-no longer a Republican                                      \n",
       " 6617  A real election in Camden?                                         \n",
       " 7624  The soon-to-be Notorious RWA                                       \n",
       " \n",
       "       Similarity score        article_date  \n",
       " 3479  0.982843         2021-06-28 07:30:00  \n",
       " 6664  0.982386         2021-04-07 06:55:00  \n",
       " 2850  0.982358         2021-07-23 06:55:00  \n",
       " 6617  0.981856         2021-04-08 06:58:00  \n",
       " 7624  0.981621         2021-03-15 07:30:00  )"
      ]
     },
     "metadata": {},
     "output_type": "display_data"
    },
    {
     "name": "stdout",
     "output_type": "stream",
     "text": [
      "\n",
      "\n",
      "240\n",
      "\n",
      "\n"
     ]
    },
    {
     "data": {
      "text/plain": [
       "('Holes in reporting of breakthrough Covid cases hamper CDC response',\n",
       "                                                    article_heading  \\\n",
       " 5254  Massive Hindu temple raided                                    \n",
       " 7397  The details of the Johnson allegation                          \n",
       " 7265  The Asbury Park Pressed                                        \n",
       " 8335  Cannabis gets stuck in the weeds, again                        \n",
       " 2590  Sorry, chief justice. It's not looking good on redistricting   \n",
       " \n",
       "       Similarity score        article_date  \n",
       " 5254  0.980855         2021-05-12 06:55:00  \n",
       " 7397  0.979490         2021-03-19 06:55:00  \n",
       " 7265  0.979266         2021-03-23 07:30:00  \n",
       " 8335  0.976212         2021-02-17 06:55:00  \n",
       " 2590  0.976205         2021-07-30 06:55:00  )"
      ]
     },
     "metadata": {},
     "output_type": "display_data"
    },
    {
     "name": "stdout",
     "output_type": "stream",
     "text": [
      "\n",
      "\n",
      "180\n",
      "\n",
      "\n"
     ]
    },
    {
     "data": {
      "text/plain": [
       "('Holes in reporting of breakthrough Covid cases hamper CDC response',\n",
       "                                      article_heading  Similarity score  \\\n",
       " 3003  Republican senator joins Murphy administration  0.985538           \n",
       " 7265  The Asbury Park Pressed                         0.981996           \n",
       " 9152  Murphy sticks by Hicks amid Edna Mahan scandal  0.980113           \n",
       " 6441  Lisa McCormick is the new Kanye West            0.977843           \n",
       " 5078  It's just another masked Monday                 0.977801           \n",
       " \n",
       "             article_date  \n",
       " 3003 2021-07-20 07:00:00  \n",
       " 7265 2021-03-23 07:30:00  \n",
       " 9152 2021-01-28 06:58:00  \n",
       " 6441 2021-04-13 07:00:00  \n",
       " 5078 2021-05-17 07:00:00  )"
      ]
     },
     "metadata": {},
     "output_type": "display_data"
    },
    {
     "name": "stdout",
     "output_type": "stream",
     "text": [
      "\n",
      "\n",
      "150\n",
      "\n",
      "\n"
     ]
    },
    {
     "data": {
      "text/plain": [
       "('Holes in reporting of breakthrough Covid cases hamper CDC response',\n",
       "                                                                       article_heading  \\\n",
       " 7751  Will a state Senate race have echos of Trumpism?                                  \n",
       " 7453  Murphy goes in for a Gordon                                                       \n",
       " 2138  POLITICO Playbook: Pelosi’s summer squeeze                                        \n",
       " 1994  'I stand squarely behind my decision': Biden holds firm on Afghanistan drawdown   \n",
       " 6441  Lisa McCormick is the new Kanye West                                              \n",
       " \n",
       "       Similarity score        article_date  \n",
       " 7751  0.978549         2021-03-11 06:58:00  \n",
       " 7453  0.978100         2021-03-18 06:58:00  \n",
       " 2138  0.977505         2021-08-12 06:03:00  \n",
       " 1994  0.977505         2021-08-16 16:33:00  \n",
       " 6441  0.977417         2021-04-13 07:00:00  )"
      ]
     },
     "metadata": {},
     "output_type": "display_data"
    },
    {
     "name": "stdout",
     "output_type": "stream",
     "text": [
      "\n",
      "\n",
      "120\n",
      "\n",
      "\n"
     ]
    },
    {
     "data": {
      "text/plain": [
       "('Holes in reporting of breakthrough Covid cases hamper CDC response',\n",
       "                                           article_heading  Similarity score  \\\n",
       " 5693  New Jersey grew because of pizza                     0.981479           \n",
       " 8477  A new idea on mandatory minimum sentences            0.980913           \n",
       " 2955  Ciattarelli asks the right for 'wiggle room'         0.980640           \n",
       " 7453  Murphy goes in for a Gordon                          0.979702           \n",
       " 8960  Senate Republican Leader Kean won't seek reelection  0.979146           \n",
       " \n",
       "             article_date  \n",
       " 5693 2021-04-30 06:55:00  \n",
       " 8477 2021-02-12 06:55:00  \n",
       " 2955 2021-07-21 06:55:00  \n",
       " 7453 2021-03-18 06:58:00  \n",
       " 8960 2021-02-02 07:30:00  )"
      ]
     },
     "metadata": {},
     "output_type": "display_data"
    },
    {
     "name": "stdout",
     "output_type": "stream",
     "text": [
      "\n",
      "\n",
      "90\n",
      "\n",
      "\n"
     ]
    },
    {
     "data": {
      "text/plain": [
       "('Holes in reporting of breakthrough Covid cases hamper CDC response',\n",
       "                                         article_heading  Similarity score  \\\n",
       " 7110  NJ vs. GA on voting laws                           0.986152           \n",
       " 7690  More problems in District 37                       0.985765           \n",
       " 5254  Massive Hindu temple raided                        0.985660           \n",
       " 6836  Ciattarelli and Christie: Still not cool together  0.985141           \n",
       " 6088  Rizzo gets another shot at matching funds          0.984033           \n",
       " \n",
       "             article_date  \n",
       " 7110 2021-03-26 06:55:00  \n",
       " 7690 2021-03-12 06:55:00  \n",
       " 5254 2021-05-12 06:55:00  \n",
       " 6836 2021-04-02 06:55:00  \n",
       " 6088 2021-04-21 06:55:00  )"
      ]
     },
     "metadata": {},
     "output_type": "display_data"
    },
    {
     "name": "stdout",
     "output_type": "stream",
     "text": [
      "\n",
      "\n",
      "60\n",
      "\n",
      "\n"
     ]
    },
    {
     "data": {
      "text/plain": [
       "('Holes in reporting of breakthrough Covid cases hamper CDC response',\n",
       "                                                                       article_heading  \\\n",
       " 5153  O'Toole's Port Authority                                                          \n",
       " 3432  Murphy to sign rushed budget... 5 days later                                      \n",
       " 1994  'I stand squarely behind my decision': Biden holds firm on Afghanistan drawdown   \n",
       " 2138  POLITICO Playbook: Pelosi’s summer squeeze                                        \n",
       " 8653  Donnelly presses ahead                                                            \n",
       " \n",
       "       Similarity score        article_date  \n",
       " 5153  0.982976         2021-05-14 06:55:00  \n",
       " 3432  0.982654         2021-06-29 07:00:00  \n",
       " 1994  0.982300         2021-08-16 16:33:00  \n",
       " 2138  0.982300         2021-08-12 06:03:00  \n",
       " 8653  0.980818         2021-02-09 07:30:00  )"
      ]
     },
     "metadata": {},
     "output_type": "display_data"
    },
    {
     "name": "stdout",
     "output_type": "stream",
     "text": [
      "\n",
      "\n",
      "30\n",
      "\n",
      "\n"
     ]
    },
    {
     "data": {
      "text/plain": [
       "('Holes in reporting of breakthrough Covid cases hamper CDC response',\n",
       "                                        article_heading  Similarity score  \\\n",
       " 7110  NJ vs. GA on voting laws                          0.980599           \n",
       " 5078  It's just another masked Monday                   0.979449           \n",
       " 7751  Will a state Senate race have echos of Trumpism?  0.979217           \n",
       " 8170  Is legal weed finally upon us?                    0.978516           \n",
       " 6710  George Gilmore's latest move                      0.975206           \n",
       " \n",
       "             article_date  \n",
       " 7110 2021-03-26 06:55:00  \n",
       " 5078 2021-05-17 07:00:00  \n",
       " 7751 2021-03-11 06:58:00  \n",
       " 8170 2021-02-22 07:30:00  \n",
       " 6710 2021-04-06 07:00:00  )"
      ]
     },
     "metadata": {},
     "output_type": "display_data"
    }
   ],
   "source": [
    "import random\n",
    "test_indices = random.sample(range(df_test.shape[0]), 1)\n",
    "for component in components_saved:\n",
    "    print(\"\\n\")\n",
    "    print(component)\n",
    "    print(\"\\n\")\n",
    "    topic_vectors_train,vectorizer,model = get_saved_models(component)\n",
    "    test_lemmas = text_pipeline(df_test.iloc[test_indices].article_body)\n",
    "    lemma_test_vectors = text_vectorizer(test_lemmas,vectorizer)\n",
    "    topic_vectors_test = get_topic_vectors(lemma_test_vectors,model)\n",
    "    similarity_scores = get_similar_articles(topic_vectors_test,topic_vectors_train)\n",
    "    result = print_similar_articles(test_indices,similarity_scores)\n",
    "    display(result)"
   ]
  },
  {
   "cell_type": "markdown",
   "id": "7936d000-a542-454e-8049-33301369d192",
   "metadata": {},
   "source": []
  },
  {
   "cell_type": "markdown",
   "id": "2dab2390-86a3-4701-88b1-a5a9425f6ec7",
   "metadata": {},
   "source": [
    "## Article heading in the weightage"
   ]
  },
  {
   "cell_type": "code",
   "execution_count": 18,
   "id": "bf732335-6d87-48b2-8cef-93a43ee0fdcb",
   "metadata": {},
   "outputs": [],
   "source": [
    "def get_similar_articles(test_indices,similarity_scores):\n",
    "    values = np.sort(similarity_scores, axis=0)[::-1,:][:5,:]\n",
    "    similarity_array = np.argsort(similarity_scores, axis=0)[::-1,:][:5,:]\n",
    "    for i in range(similarity_array.shape[1]):\n",
    "        indices = similarity_array[:,i]\n",
    "        return df_test.iloc[test_indices[i]].article_heading,pd.DataFrame({'article_heading':df_train.iloc[indices].article_heading,'Similarity score':values[:,i],'article_date':df_train.iloc[indices].article_published_on})"
   ]
  },
  {
   "cell_type": "code",
   "execution_count": 19,
   "id": "62a14918-48d2-45d0-8e6b-78b4ea417eef",
   "metadata": {},
   "outputs": [],
   "source": [
    "def get_similarity_score(text_vectors, X, top_n_values=10):\n",
    "    \"\"\"\n",
    "    Evalute the cosine similarity between provided 'text_vectors' and trained X (articles trained and stored as a vecotr of topics).\n",
    "    Return dataframe with index as trained articles and columns as text_vector indices with values as similarity scores\n",
    "    \"\"\"\n",
    "    similarity_scores = cosine_similarity(X,text_vectors,dense_output=True)\n",
    "    return similarity_scores\n",
    "#     return np.argsort(similarity_scores, axis=0)[::-1,:][:top_n_values,:]"
   ]
  },
  {
   "cell_type": "code",
   "execution_count": 20,
   "id": "b298bcf0-89f7-49b1-b453-46f65eb7faaf",
   "metadata": {},
   "outputs": [],
   "source": [
    "def process_news_article(component,include_headings=False,heading_weightage=0.6,test_indices=None):\n",
    "    topic_vectors_train,vectorizer,model = get_saved_models(component)\n",
    "    test_lemmas = text_pipeline(df_test.iloc[test_indices].article_body)\n",
    "    lemma_test_vectors = text_vectorizer(test_lemmas,vectorizer)\n",
    "    topic_vectors_test = get_topic_vectors(lemma_test_vectors,model)\n",
    "    similarity_scores = get_similarity_score(topic_vectors_test,topic_vectors_train)\n",
    "    heading, result = get_similar_articles(test_indices,similarity_scores)\n",
    "    if include_headings:\n",
    "        test_lemmas = text_pipeline(df_test.iloc[test_indices].article_heading)\n",
    "        lemma_test_vectors = text_vectorizer(test_lemmas,vectorizer)\n",
    "        topic_vectors_test = get_topic_vectors(lemma_test_vectors,model)\n",
    "        similarity_scores = heading_weightage*(get_similarity_score(topic_vectors_test,topic_vectors_train))+(1-heading_weightage)*similarity_scores\n",
    "        _, result = get_similar_articles(test_indices,similarity_scores)\n",
    "    return heading, result"
   ]
  },
  {
   "cell_type": "code",
   "execution_count": 21,
   "id": "65e420c0-5e3f-4ed5-8e73-fb7e76559471",
   "metadata": {},
   "outputs": [
    {
     "name": "stdout",
     "output_type": "stream",
     "text": [
      "\n",
      "\n",
      "300\n",
      "\n",
      "\n",
      "New Jersey bans jails from contracting with ICE to hold immigration detainees\n"
     ]
    },
    {
     "data": {
      "text/html": [
       "<div>\n",
       "<style scoped>\n",
       "    .dataframe tbody tr th:only-of-type {\n",
       "        vertical-align: middle;\n",
       "    }\n",
       "\n",
       "    .dataframe tbody tr th {\n",
       "        vertical-align: top;\n",
       "    }\n",
       "\n",
       "    .dataframe thead th {\n",
       "        text-align: right;\n",
       "    }\n",
       "</style>\n",
       "<table border=\"1\" class=\"dataframe\">\n",
       "  <thead>\n",
       "    <tr style=\"text-align: right;\">\n",
       "      <th></th>\n",
       "      <th>article_heading</th>\n",
       "      <th>Similarity score</th>\n",
       "      <th>article_date</th>\n",
       "    </tr>\n",
       "  </thead>\n",
       "  <tbody>\n",
       "    <tr>\n",
       "      <th>15913</th>\n",
       "      <td>Ice transfers 30 detainees to unknown location amid hunger strike</td>\n",
       "      <td>0.887850</td>\n",
       "      <td>2021-06-29 20:34:32</td>\n",
       "    </tr>\n",
       "    <tr>\n",
       "      <th>17579</th>\n",
       "      <td>California lawmakers push to stop deportations and end jail transfers to Ice</td>\n",
       "      <td>0.798793</td>\n",
       "      <td>2021-02-24 22:07:16</td>\n",
       "    </tr>\n",
       "    <tr>\n",
       "      <th>16290</th>\n",
       "      <td>California governor pardons formerly incarcerated firefighters</td>\n",
       "      <td>0.789293</td>\n",
       "      <td>2021-05-29 01:45:18</td>\n",
       "    </tr>\n",
       "    <tr>\n",
       "      <th>14961</th>\n",
       "      <td>Manhunt Underway for Six Escaped California Inmates</td>\n",
       "      <td>0.786895</td>\n",
       "      <td>2021-01-11 20:52:27</td>\n",
       "    </tr>\n",
       "    <tr>\n",
       "      <th>14899</th>\n",
       "      <td>One of Six Inmates Who Escaped From California Jail Is Recaptured</td>\n",
       "      <td>0.786895</td>\n",
       "      <td>2021-01-13 04:17:33</td>\n",
       "    </tr>\n",
       "  </tbody>\n",
       "</table>\n",
       "</div>"
      ],
      "text/plain": [
       "                                                                    article_heading  \\\n",
       "15913  Ice transfers 30 detainees to unknown location amid hunger strike              \n",
       "17579  California lawmakers push to stop deportations and end jail transfers to Ice   \n",
       "16290  California governor pardons formerly incarcerated firefighters                 \n",
       "14961  Manhunt Underway for Six Escaped California Inmates                            \n",
       "14899  One of Six Inmates Who Escaped From California Jail Is Recaptured              \n",
       "\n",
       "       Similarity score        article_date  \n",
       "15913  0.887850         2021-06-29 20:34:32  \n",
       "17579  0.798793         2021-02-24 22:07:16  \n",
       "16290  0.789293         2021-05-29 01:45:18  \n",
       "14961  0.786895         2021-01-11 20:52:27  \n",
       "14899  0.786895         2021-01-13 04:17:33  "
      ]
     },
     "metadata": {},
     "output_type": "display_data"
    },
    {
     "name": "stdout",
     "output_type": "stream",
     "text": [
      "\n",
      "\n",
      "240\n",
      "\n",
      "\n",
      "New Jersey bans jails from contracting with ICE to hold immigration detainees\n"
     ]
    },
    {
     "data": {
      "text/html": [
       "<div>\n",
       "<style scoped>\n",
       "    .dataframe tbody tr th:only-of-type {\n",
       "        vertical-align: middle;\n",
       "    }\n",
       "\n",
       "    .dataframe tbody tr th {\n",
       "        vertical-align: top;\n",
       "    }\n",
       "\n",
       "    .dataframe thead th {\n",
       "        text-align: right;\n",
       "    }\n",
       "</style>\n",
       "<table border=\"1\" class=\"dataframe\">\n",
       "  <thead>\n",
       "    <tr style=\"text-align: right;\">\n",
       "      <th></th>\n",
       "      <th>article_heading</th>\n",
       "      <th>Similarity score</th>\n",
       "      <th>article_date</th>\n",
       "    </tr>\n",
       "  </thead>\n",
       "  <tbody>\n",
       "    <tr>\n",
       "      <th>15913</th>\n",
       "      <td>Ice transfers 30 detainees to unknown location amid hunger strike</td>\n",
       "      <td>0.875368</td>\n",
       "      <td>2021-06-29 20:34:32</td>\n",
       "    </tr>\n",
       "    <tr>\n",
       "      <th>9356</th>\n",
       "      <td>The Trump implosion auction, brought to you by a Republican?</td>\n",
       "      <td>0.692033</td>\n",
       "      <td>2021-01-22 06:55:00</td>\n",
       "    </tr>\n",
       "    <tr>\n",
       "      <th>5570</th>\n",
       "      <td>Brent Spiner has spoken</td>\n",
       "      <td>0.686218</td>\n",
       "      <td>2021-05-04 07:00:00</td>\n",
       "    </tr>\n",
       "    <tr>\n",
       "      <th>7397</th>\n",
       "      <td>The details of the Johnson allegation</td>\n",
       "      <td>0.684969</td>\n",
       "      <td>2021-03-19 06:55:00</td>\n",
       "    </tr>\n",
       "    <tr>\n",
       "      <th>6933</th>\n",
       "      <td>Should reporters be a protected class in N.J.?</td>\n",
       "      <td>0.684514</td>\n",
       "      <td>2021-03-31 06:55:00</td>\n",
       "    </tr>\n",
       "  </tbody>\n",
       "</table>\n",
       "</div>"
      ],
      "text/plain": [
       "                                                         article_heading  \\\n",
       "15913  Ice transfers 30 detainees to unknown location amid hunger strike   \n",
       "9356   The Trump implosion auction, brought to you by a Republican?        \n",
       "5570   Brent Spiner has spoken                                             \n",
       "7397   The details of the Johnson allegation                               \n",
       "6933   Should reporters be a protected class in N.J.?                      \n",
       "\n",
       "       Similarity score        article_date  \n",
       "15913  0.875368         2021-06-29 20:34:32  \n",
       "9356   0.692033         2021-01-22 06:55:00  \n",
       "5570   0.686218         2021-05-04 07:00:00  \n",
       "7397   0.684969         2021-03-19 06:55:00  \n",
       "6933   0.684514         2021-03-31 06:55:00  "
      ]
     },
     "metadata": {},
     "output_type": "display_data"
    },
    {
     "name": "stdout",
     "output_type": "stream",
     "text": [
      "\n",
      "\n",
      "180\n",
      "\n",
      "\n",
      "New Jersey bans jails from contracting with ICE to hold immigration detainees\n"
     ]
    },
    {
     "data": {
      "text/html": [
       "<div>\n",
       "<style scoped>\n",
       "    .dataframe tbody tr th:only-of-type {\n",
       "        vertical-align: middle;\n",
       "    }\n",
       "\n",
       "    .dataframe tbody tr th {\n",
       "        vertical-align: top;\n",
       "    }\n",
       "\n",
       "    .dataframe thead th {\n",
       "        text-align: right;\n",
       "    }\n",
       "</style>\n",
       "<table border=\"1\" class=\"dataframe\">\n",
       "  <thead>\n",
       "    <tr style=\"text-align: right;\">\n",
       "      <th></th>\n",
       "      <th>article_heading</th>\n",
       "      <th>Similarity score</th>\n",
       "      <th>article_date</th>\n",
       "    </tr>\n",
       "  </thead>\n",
       "  <tbody>\n",
       "    <tr>\n",
       "      <th>15913</th>\n",
       "      <td>Ice transfers 30 detainees to unknown location amid hunger strike</td>\n",
       "      <td>0.780847</td>\n",
       "      <td>2021-06-29 20:34:32</td>\n",
       "    </tr>\n",
       "    <tr>\n",
       "      <th>5570</th>\n",
       "      <td>Brent Spiner has spoken</td>\n",
       "      <td>0.728121</td>\n",
       "      <td>2021-05-04 07:00:00</td>\n",
       "    </tr>\n",
       "    <tr>\n",
       "      <th>6280</th>\n",
       "      <td>Murphy challenges Sweeney on gun control</td>\n",
       "      <td>0.723129</td>\n",
       "      <td>2021-04-16 06:58:00</td>\n",
       "    </tr>\n",
       "    <tr>\n",
       "      <th>4885</th>\n",
       "      <td>Senate moves bill to ban ICE jail contracts</td>\n",
       "      <td>0.720480</td>\n",
       "      <td>2021-05-21 06:55:00</td>\n",
       "    </tr>\n",
       "    <tr>\n",
       "      <th>6441</th>\n",
       "      <td>Lisa McCormick is the new Kanye West</td>\n",
       "      <td>0.719970</td>\n",
       "      <td>2021-04-13 07:00:00</td>\n",
       "    </tr>\n",
       "  </tbody>\n",
       "</table>\n",
       "</div>"
      ],
      "text/plain": [
       "                                                         article_heading  \\\n",
       "15913  Ice transfers 30 detainees to unknown location amid hunger strike   \n",
       "5570   Brent Spiner has spoken                                             \n",
       "6280   Murphy challenges Sweeney on gun control                            \n",
       "4885   Senate moves bill to ban ICE jail contracts                         \n",
       "6441   Lisa McCormick is the new Kanye West                                \n",
       "\n",
       "       Similarity score        article_date  \n",
       "15913  0.780847         2021-06-29 20:34:32  \n",
       "5570   0.728121         2021-05-04 07:00:00  \n",
       "6280   0.723129         2021-04-16 06:58:00  \n",
       "4885   0.720480         2021-05-21 06:55:00  \n",
       "6441   0.719970         2021-04-13 07:00:00  "
      ]
     },
     "metadata": {},
     "output_type": "display_data"
    },
    {
     "name": "stdout",
     "output_type": "stream",
     "text": [
      "\n",
      "\n",
      "150\n",
      "\n",
      "\n",
      "New Jersey bans jails from contracting with ICE to hold immigration detainees\n"
     ]
    },
    {
     "data": {
      "text/html": [
       "<div>\n",
       "<style scoped>\n",
       "    .dataframe tbody tr th:only-of-type {\n",
       "        vertical-align: middle;\n",
       "    }\n",
       "\n",
       "    .dataframe tbody tr th {\n",
       "        vertical-align: top;\n",
       "    }\n",
       "\n",
       "    .dataframe thead th {\n",
       "        text-align: right;\n",
       "    }\n",
       "</style>\n",
       "<table border=\"1\" class=\"dataframe\">\n",
       "  <thead>\n",
       "    <tr style=\"text-align: right;\">\n",
       "      <th></th>\n",
       "      <th>article_heading</th>\n",
       "      <th>Similarity score</th>\n",
       "      <th>article_date</th>\n",
       "    </tr>\n",
       "  </thead>\n",
       "  <tbody>\n",
       "    <tr>\n",
       "      <th>15913</th>\n",
       "      <td>Ice transfers 30 detainees to unknown location amid hunger strike</td>\n",
       "      <td>0.899883</td>\n",
       "      <td>2021-06-29 20:34:32</td>\n",
       "    </tr>\n",
       "    <tr>\n",
       "      <th>17880</th>\n",
       "      <td>New claims of migrant abuse as Ice defies Biden to continue deportations</td>\n",
       "      <td>0.856205</td>\n",
       "      <td>2021-02-02 23:50:11</td>\n",
       "    </tr>\n",
       "    <tr>\n",
       "      <th>18138</th>\n",
       "      <td>Ice flies African asylum seekers to Nairobi in last-minute deportation push</td>\n",
       "      <td>0.855822</td>\n",
       "      <td>2021-01-16 10:00:28</td>\n",
       "    </tr>\n",
       "    <tr>\n",
       "      <th>17856</th>\n",
       "      <td>Exclusive: Ice cancels deportation flight to Africa after claims of brutality</td>\n",
       "      <td>0.853252</td>\n",
       "      <td>2021-02-04 21:06:33</td>\n",
       "    </tr>\n",
       "    <tr>\n",
       "      <th>11934</th>\n",
       "      <td>South Carolina is set to become the 4th state to allow firing squads to carry out capital punishment.</td>\n",
       "      <td>0.838575</td>\n",
       "      <td>2021-05-07 14:30:03</td>\n",
       "    </tr>\n",
       "  </tbody>\n",
       "</table>\n",
       "</div>"
      ],
      "text/plain": [
       "                                                                                             article_heading  \\\n",
       "15913  Ice transfers 30 detainees to unknown location amid hunger strike                                       \n",
       "17880  New claims of migrant abuse as Ice defies Biden to continue deportations                                \n",
       "18138  Ice flies African asylum seekers to Nairobi in last-minute deportation push                             \n",
       "17856  Exclusive: Ice cancels deportation flight to Africa after claims of brutality                           \n",
       "11934  South Carolina is set to become the 4th state to allow firing squads to carry out capital punishment.   \n",
       "\n",
       "       Similarity score        article_date  \n",
       "15913  0.899883         2021-06-29 20:34:32  \n",
       "17880  0.856205         2021-02-02 23:50:11  \n",
       "18138  0.855822         2021-01-16 10:00:28  \n",
       "17856  0.853252         2021-02-04 21:06:33  \n",
       "11934  0.838575         2021-05-07 14:30:03  "
      ]
     },
     "metadata": {},
     "output_type": "display_data"
    },
    {
     "name": "stdout",
     "output_type": "stream",
     "text": [
      "\n",
      "\n",
      "120\n",
      "\n",
      "\n",
      "New Jersey bans jails from contracting with ICE to hold immigration detainees\n"
     ]
    },
    {
     "data": {
      "text/html": [
       "<div>\n",
       "<style scoped>\n",
       "    .dataframe tbody tr th:only-of-type {\n",
       "        vertical-align: middle;\n",
       "    }\n",
       "\n",
       "    .dataframe tbody tr th {\n",
       "        vertical-align: top;\n",
       "    }\n",
       "\n",
       "    .dataframe thead th {\n",
       "        text-align: right;\n",
       "    }\n",
       "</style>\n",
       "<table border=\"1\" class=\"dataframe\">\n",
       "  <thead>\n",
       "    <tr style=\"text-align: right;\">\n",
       "      <th></th>\n",
       "      <th>article_heading</th>\n",
       "      <th>Similarity score</th>\n",
       "      <th>article_date</th>\n",
       "    </tr>\n",
       "  </thead>\n",
       "  <tbody>\n",
       "    <tr>\n",
       "      <th>15913</th>\n",
       "      <td>Ice transfers 30 detainees to unknown location amid hunger strike</td>\n",
       "      <td>0.881812</td>\n",
       "      <td>2021-06-29 20:34:32.000000</td>\n",
       "    </tr>\n",
       "    <tr>\n",
       "      <th>14417</th>\n",
       "      <td>In the first blow to Biden’s immigration agenda, a federal judge blocks a 100-day pause on deportations.</td>\n",
       "      <td>0.702081</td>\n",
       "      <td>2021-01-26 22:10:01.000000</td>\n",
       "    </tr>\n",
       "    <tr>\n",
       "      <th>13149</th>\n",
       "      <td>Democrats Confront a Surge at the Border</td>\n",
       "      <td>0.701934</td>\n",
       "      <td>2021-03-19 23:00:04.000000</td>\n",
       "    </tr>\n",
       "    <tr>\n",
       "      <th>1180</th>\n",
       "      <td>Federal judge orders Biden administration to end new DACA applications</td>\n",
       "      <td>0.701287</td>\n",
       "      <td>2021-07-15 23:59:59.982002</td>\n",
       "    </tr>\n",
       "    <tr>\n",
       "      <th>11153</th>\n",
       "      <td>Biden extends temporary work permissions for some undocumented immigrants who are victims of crime.</td>\n",
       "      <td>0.701254</td>\n",
       "      <td>2021-06-14 21:49:22.000000</td>\n",
       "    </tr>\n",
       "  </tbody>\n",
       "</table>\n",
       "</div>"
      ],
      "text/plain": [
       "                                                                                                article_heading  \\\n",
       "15913  Ice transfers 30 detainees to unknown location amid hunger strike                                          \n",
       "14417  In the first blow to Biden’s immigration agenda, a federal judge blocks a 100-day pause on deportations.   \n",
       "13149  Democrats Confront a Surge at the Border                                                                   \n",
       "1180   Federal judge orders Biden administration to end new DACA applications                                     \n",
       "11153  Biden extends temporary work permissions for some undocumented immigrants who are victims of crime.        \n",
       "\n",
       "       Similarity score               article_date  \n",
       "15913  0.881812         2021-06-29 20:34:32.000000  \n",
       "14417  0.702081         2021-01-26 22:10:01.000000  \n",
       "13149  0.701934         2021-03-19 23:00:04.000000  \n",
       "1180   0.701287         2021-07-15 23:59:59.982002  \n",
       "11153  0.701254         2021-06-14 21:49:22.000000  "
      ]
     },
     "metadata": {},
     "output_type": "display_data"
    },
    {
     "name": "stdout",
     "output_type": "stream",
     "text": [
      "\n",
      "\n",
      "90\n",
      "\n",
      "\n",
      "New Jersey bans jails from contracting with ICE to hold immigration detainees\n"
     ]
    },
    {
     "data": {
      "text/html": [
       "<div>\n",
       "<style scoped>\n",
       "    .dataframe tbody tr th:only-of-type {\n",
       "        vertical-align: middle;\n",
       "    }\n",
       "\n",
       "    .dataframe tbody tr th {\n",
       "        vertical-align: top;\n",
       "    }\n",
       "\n",
       "    .dataframe thead th {\n",
       "        text-align: right;\n",
       "    }\n",
       "</style>\n",
       "<table border=\"1\" class=\"dataframe\">\n",
       "  <thead>\n",
       "    <tr style=\"text-align: right;\">\n",
       "      <th></th>\n",
       "      <th>article_heading</th>\n",
       "      <th>Similarity score</th>\n",
       "      <th>article_date</th>\n",
       "    </tr>\n",
       "  </thead>\n",
       "  <tbody>\n",
       "    <tr>\n",
       "      <th>15913</th>\n",
       "      <td>Ice transfers 30 detainees to unknown location amid hunger strike</td>\n",
       "      <td>0.948649</td>\n",
       "      <td>2021-06-29 20:34:32</td>\n",
       "    </tr>\n",
       "    <tr>\n",
       "      <th>7544</th>\n",
       "      <td>‘Our state has forgotten us’: Immigrant groups sour on New Jersey’s liberal governor</td>\n",
       "      <td>0.783868</td>\n",
       "      <td>2021-03-16 13:41:00</td>\n",
       "    </tr>\n",
       "    <tr>\n",
       "      <th>7510</th>\n",
       "      <td>Johnson and Huttle and ICE contracts</td>\n",
       "      <td>0.763587</td>\n",
       "      <td>2021-03-17 07:01:00</td>\n",
       "    </tr>\n",
       "    <tr>\n",
       "      <th>6280</th>\n",
       "      <td>Murphy challenges Sweeney on gun control</td>\n",
       "      <td>0.760162</td>\n",
       "      <td>2021-04-16 06:58:00</td>\n",
       "    </tr>\n",
       "    <tr>\n",
       "      <th>5693</th>\n",
       "      <td>New Jersey grew because of pizza</td>\n",
       "      <td>0.755846</td>\n",
       "      <td>2021-04-30 06:55:00</td>\n",
       "    </tr>\n",
       "  </tbody>\n",
       "</table>\n",
       "</div>"
      ],
      "text/plain": [
       "                                                                            article_heading  \\\n",
       "15913  Ice transfers 30 detainees to unknown location amid hunger strike                      \n",
       "7544   ‘Our state has forgotten us’: Immigrant groups sour on New Jersey’s liberal governor   \n",
       "7510   Johnson and Huttle and ICE contracts                                                   \n",
       "6280   Murphy challenges Sweeney on gun control                                               \n",
       "5693   New Jersey grew because of pizza                                                       \n",
       "\n",
       "       Similarity score        article_date  \n",
       "15913  0.948649         2021-06-29 20:34:32  \n",
       "7544   0.783868         2021-03-16 13:41:00  \n",
       "7510   0.763587         2021-03-17 07:01:00  \n",
       "6280   0.760162         2021-04-16 06:58:00  \n",
       "5693   0.755846         2021-04-30 06:55:00  "
      ]
     },
     "metadata": {},
     "output_type": "display_data"
    },
    {
     "name": "stdout",
     "output_type": "stream",
     "text": [
      "\n",
      "\n",
      "60\n",
      "\n",
      "\n",
      "New Jersey bans jails from contracting with ICE to hold immigration detainees\n"
     ]
    },
    {
     "data": {
      "text/html": [
       "<div>\n",
       "<style scoped>\n",
       "    .dataframe tbody tr th:only-of-type {\n",
       "        vertical-align: middle;\n",
       "    }\n",
       "\n",
       "    .dataframe tbody tr th {\n",
       "        vertical-align: top;\n",
       "    }\n",
       "\n",
       "    .dataframe thead th {\n",
       "        text-align: right;\n",
       "    }\n",
       "</style>\n",
       "<table border=\"1\" class=\"dataframe\">\n",
       "  <thead>\n",
       "    <tr style=\"text-align: right;\">\n",
       "      <th></th>\n",
       "      <th>article_heading</th>\n",
       "      <th>Similarity score</th>\n",
       "      <th>article_date</th>\n",
       "    </tr>\n",
       "  </thead>\n",
       "  <tbody>\n",
       "    <tr>\n",
       "      <th>15913</th>\n",
       "      <td>Ice transfers 30 detainees to unknown location amid hunger strike</td>\n",
       "      <td>0.941161</td>\n",
       "      <td>2021-06-29 20:34:32.000000</td>\n",
       "    </tr>\n",
       "    <tr>\n",
       "      <th>17769</th>\n",
       "      <td>Authorities investigate reports of 80 migrants trapped in truck in Texas</td>\n",
       "      <td>0.832672</td>\n",
       "      <td>2021-02-11 18:33:02.000000</td>\n",
       "    </tr>\n",
       "    <tr>\n",
       "      <th>17351</th>\n",
       "      <td>Omar urges end to prison contracts to fix 'abuse-ridden' immigration detention system</td>\n",
       "      <td>0.783777</td>\n",
       "      <td>2021-03-15 18:26:22.000000</td>\n",
       "    </tr>\n",
       "    <tr>\n",
       "      <th>7544</th>\n",
       "      <td>‘Our state has forgotten us’: Immigrant groups sour on New Jersey’s liberal governor</td>\n",
       "      <td>0.783665</td>\n",
       "      <td>2021-03-16 13:41:00.000000</td>\n",
       "    </tr>\n",
       "    <tr>\n",
       "      <th>1361</th>\n",
       "      <td>Border agents in Del Rio Sector nab migrants with convictions for child molestation, attempted murder</td>\n",
       "      <td>0.772428</td>\n",
       "      <td>2021-07-09 23:59:59.983001</td>\n",
       "    </tr>\n",
       "  </tbody>\n",
       "</table>\n",
       "</div>"
      ],
      "text/plain": [
       "                                                                                             article_heading  \\\n",
       "15913  Ice transfers 30 detainees to unknown location amid hunger strike                                       \n",
       "17769  Authorities investigate reports of 80 migrants trapped in truck in Texas                                \n",
       "17351  Omar urges end to prison contracts to fix 'abuse-ridden' immigration detention system                   \n",
       "7544   ‘Our state has forgotten us’: Immigrant groups sour on New Jersey’s liberal governor                    \n",
       "1361   Border agents in Del Rio Sector nab migrants with convictions for child molestation, attempted murder   \n",
       "\n",
       "       Similarity score               article_date  \n",
       "15913  0.941161         2021-06-29 20:34:32.000000  \n",
       "17769  0.832672         2021-02-11 18:33:02.000000  \n",
       "17351  0.783777         2021-03-15 18:26:22.000000  \n",
       "7544   0.783665         2021-03-16 13:41:00.000000  \n",
       "1361   0.772428         2021-07-09 23:59:59.983001  "
      ]
     },
     "metadata": {},
     "output_type": "display_data"
    },
    {
     "name": "stdout",
     "output_type": "stream",
     "text": [
      "\n",
      "\n",
      "30\n",
      "\n",
      "\n",
      "New Jersey bans jails from contracting with ICE to hold immigration detainees\n"
     ]
    },
    {
     "data": {
      "text/html": [
       "<div>\n",
       "<style scoped>\n",
       "    .dataframe tbody tr th:only-of-type {\n",
       "        vertical-align: middle;\n",
       "    }\n",
       "\n",
       "    .dataframe tbody tr th {\n",
       "        vertical-align: top;\n",
       "    }\n",
       "\n",
       "    .dataframe thead th {\n",
       "        text-align: right;\n",
       "    }\n",
       "</style>\n",
       "<table border=\"1\" class=\"dataframe\">\n",
       "  <thead>\n",
       "    <tr style=\"text-align: right;\">\n",
       "      <th></th>\n",
       "      <th>article_heading</th>\n",
       "      <th>Similarity score</th>\n",
       "      <th>article_date</th>\n",
       "    </tr>\n",
       "  </thead>\n",
       "  <tbody>\n",
       "    <tr>\n",
       "      <th>11285</th>\n",
       "      <td>El Chapo’s Wife Set to Plead Guilty to Helping Run Drug Empire</td>\n",
       "      <td>0.982683</td>\n",
       "      <td>2021-06-08 21:00:06.000000</td>\n",
       "    </tr>\n",
       "    <tr>\n",
       "      <th>11085</th>\n",
       "      <td>U.S. Ends Trump Policy Limiting Asylum for Gang and Domestic Violence Survivors</td>\n",
       "      <td>0.979400</td>\n",
       "      <td>2021-06-16 23:19:48.000000</td>\n",
       "    </tr>\n",
       "    <tr>\n",
       "      <th>443</th>\n",
       "      <td>ICE emails show how agency chief halted deportation after 'Abolish ICE' activist's request</td>\n",
       "      <td>0.974774</td>\n",
       "      <td>2021-08-09 23:59:59.982002</td>\n",
       "    </tr>\n",
       "    <tr>\n",
       "      <th>5998</th>\n",
       "      <td>Trump group teams with Texas in challenge to Biden immigration policies</td>\n",
       "      <td>0.970573</td>\n",
       "      <td>2021-04-22 18:15:00.000000</td>\n",
       "    </tr>\n",
       "    <tr>\n",
       "      <th>1523</th>\n",
       "      <td>Texas sheriffs sue Biden administration over immigration policy barring deportations</td>\n",
       "      <td>0.970311</td>\n",
       "      <td>2021-07-01 23:59:59.983000</td>\n",
       "    </tr>\n",
       "  </tbody>\n",
       "</table>\n",
       "</div>"
      ],
      "text/plain": [
       "                                                                                  article_heading  \\\n",
       "11285  El Chapo’s Wife Set to Plead Guilty to Helping Run Drug Empire                               \n",
       "11085  U.S. Ends Trump Policy Limiting Asylum for Gang and Domestic Violence Survivors              \n",
       "443    ICE emails show how agency chief halted deportation after 'Abolish ICE' activist's request   \n",
       "5998   Trump group teams with Texas in challenge to Biden immigration policies                      \n",
       "1523   Texas sheriffs sue Biden administration over immigration policy barring deportations         \n",
       "\n",
       "       Similarity score               article_date  \n",
       "11285  0.982683         2021-06-08 21:00:06.000000  \n",
       "11085  0.979400         2021-06-16 23:19:48.000000  \n",
       "443    0.974774         2021-08-09 23:59:59.982002  \n",
       "5998   0.970573         2021-04-22 18:15:00.000000  \n",
       "1523   0.970311         2021-07-01 23:59:59.983000  "
      ]
     },
     "metadata": {},
     "output_type": "display_data"
    }
   ],
   "source": [
    "import random\n",
    "# test_indices = random.sample(range(df_test.shape[0]), 1)\n",
    "test_indices = [107]\n",
    "for component in components_saved:\n",
    "    print(\"\\n\")\n",
    "    print(component)\n",
    "    print(\"\\n\")\n",
    "    heading, result = process_news_article(component,include_headings=True,heading_weightage=0.75,test_indices=test_indices)\n",
    "    print(heading)\n",
    "    display(result)"
   ]
  },
  {
   "cell_type": "code",
   "execution_count": null,
   "id": "0f4c9e6c-e5f7-46c7-891f-d0734e723972",
   "metadata": {},
   "outputs": [],
   "source": []
  },
  {
   "cell_type": "markdown",
   "id": "60586ea4-01da-4e4b-953c-af884db59564",
   "metadata": {},
   "source": [
    "# weightage to recent articles"
   ]
  },
  {
   "cell_type": "code",
   "execution_count": 22,
   "id": "6df83825-f5e7-4da0-99b5-1a5d3b240dd1",
   "metadata": {},
   "outputs": [],
   "source": [
    "import math"
   ]
  },
  {
   "cell_type": "code",
   "execution_count": 23,
   "id": "0090b805-cd5b-4011-a043-c4c6a904ed2b",
   "metadata": {},
   "outputs": [
    {
     "data": {
      "text/plain": [
       "0.7408182206817179"
      ]
     },
     "execution_count": 23,
     "metadata": {},
     "output_type": "execute_result"
    }
   ],
   "source": [
    "#exponential deay of importance: day_diff/100\n",
    "math.exp(-0.3)"
   ]
  },
  {
   "cell_type": "code",
   "execution_count": 24,
   "id": "d46a2f3d-6e6e-4780-a714-89a305861c1d",
   "metadata": {},
   "outputs": [],
   "source": [
    "import math\n",
    "def get_article_importance_day_wise(growth=1000):\n",
    "    diff_from_max_date = (df_train.article_published_on-(df_train.article_published_on.max())).dt.days\n",
    "    return np.exp(diff_from_max_date/growth)"
   ]
  },
  {
   "cell_type": "code",
   "execution_count": 25,
   "id": "672fa41b-e7f0-4053-8680-5f55dda1c1f6",
   "metadata": {},
   "outputs": [],
   "source": [
    "def get_similarity_score(text_vectors, X, top_n_values=10,factor=None):\n",
    "    \"\"\"\n",
    "    Evalute the cosine similarity between provided 'text_vectors' and trained X (articles trained and stored as a vecotr of topics).\n",
    "    Return dataframe with index as trained articles and columns as text_vector indices with values as similarity scores\n",
    "    \"\"\"\n",
    "    similarity_scores = cosine_similarity(X,text_vectors,dense_output=True)\n",
    "    return similarity_scores*factor\n",
    "#     return np.argsort(similarity_scores, axis=0)[::-1,:][:top_n_values,:]"
   ]
  },
  {
   "cell_type": "code",
   "execution_count": 26,
   "id": "0886a123-aaf8-450f-8bbe-b33c96329986",
   "metadata": {},
   "outputs": [],
   "source": [
    "def process_news_article(component,include_headings=False,heading_weightage=0.6,test_indices=None,factor=np.ones((df_train.shape[0])).reshape(-1,1)):\n",
    "    topic_vectors_train,vectorizer,model = get_saved_models(component)\n",
    "    test_lemmas = text_pipeline(df_test.iloc[test_indices].article_body)\n",
    "    lemma_test_vectors = text_vectorizer(test_lemmas,vectorizer)\n",
    "    topic_vectors_test = get_topic_vectors(lemma_test_vectors,model)\n",
    "    similarity_scores = get_similarity_score(topic_vectors_test,topic_vectors_train,factor=factor)\n",
    "    heading, result = get_similar_articles(test_indices,similarity_scores)\n",
    "    if include_headings:\n",
    "        test_lemmas = text_pipeline(df_test.iloc[test_indices].article_heading)\n",
    "        lemma_test_vectors = text_vectorizer(test_lemmas,vectorizer)\n",
    "        topic_vectors_test = get_topic_vectors(lemma_test_vectors,model)\n",
    "        similarity_scores = heading_weightage*(get_similarity_score(topic_vectors_test,topic_vectors_train,factor=factor))+(1-heading_weightage)*similarity_scores\n",
    "        _, result = get_similar_articles(test_indices,similarity_scores)\n",
    "    return heading, result"
   ]
  },
  {
   "cell_type": "code",
   "execution_count": 27,
   "id": "9a293df4-0d8a-4f5d-803a-6d3487224120",
   "metadata": {},
   "outputs": [
    {
     "data": {
      "text/plain": [
       "array([[1],\n",
       "       [2],\n",
       "       [3]])"
      ]
     },
     "execution_count": 27,
     "metadata": {},
     "output_type": "execute_result"
    }
   ],
   "source": [
    "b=np.array([1,2,3])\n",
    "b.reshape(-1,1)"
   ]
  },
  {
   "cell_type": "code",
   "execution_count": 28,
   "id": "4600e86f-4582-4567-a1aa-810dfc4c79d7",
   "metadata": {},
   "outputs": [
    {
     "name": "stdout",
     "output_type": "stream",
     "text": [
      "\n",
      "\n",
      "300\n",
      "\n",
      "\n",
      "New Jersey bans jails from contracting with ICE to hold immigration detainees\n"
     ]
    },
    {
     "data": {
      "text/html": [
       "<div>\n",
       "<style scoped>\n",
       "    .dataframe tbody tr th:only-of-type {\n",
       "        vertical-align: middle;\n",
       "    }\n",
       "\n",
       "    .dataframe tbody tr th {\n",
       "        vertical-align: top;\n",
       "    }\n",
       "\n",
       "    .dataframe thead th {\n",
       "        text-align: right;\n",
       "    }\n",
       "</style>\n",
       "<table border=\"1\" class=\"dataframe\">\n",
       "  <thead>\n",
       "    <tr style=\"text-align: right;\">\n",
       "      <th></th>\n",
       "      <th>article_heading</th>\n",
       "      <th>Similarity score</th>\n",
       "      <th>article_date</th>\n",
       "    </tr>\n",
       "  </thead>\n",
       "  <tbody>\n",
       "    <tr>\n",
       "      <th>15913</th>\n",
       "      <td>Ice transfers 30 detainees to unknown location amid hunger strike</td>\n",
       "      <td>0.842861</td>\n",
       "      <td>2021-06-29 20:34:32</td>\n",
       "    </tr>\n",
       "    <tr>\n",
       "      <th>15721</th>\n",
       "      <td>Survivors of California’s forced sterilizations: ‘It’s like my life wasn’t worth anything’</td>\n",
       "      <td>0.743036</td>\n",
       "      <td>2021-07-19 10:00:55</td>\n",
       "    </tr>\n",
       "    <tr>\n",
       "      <th>10426</th>\n",
       "      <td>Biden Administration Transfers Its First Detainee From Guantánamo Bay</td>\n",
       "      <td>0.740073</td>\n",
       "      <td>2021-07-19 09:02:45</td>\n",
       "    </tr>\n",
       "    <tr>\n",
       "      <th>16290</th>\n",
       "      <td>California governor pardons formerly incarcerated firefighters</td>\n",
       "      <td>0.726427</td>\n",
       "      <td>2021-05-29 01:45:18</td>\n",
       "    </tr>\n",
       "    <tr>\n",
       "      <th>10474</th>\n",
       "      <td>A Pause in Federal Executions, but Uncertainty About What’s Next</td>\n",
       "      <td>0.724096</td>\n",
       "      <td>2021-07-16 19:59:07</td>\n",
       "    </tr>\n",
       "  </tbody>\n",
       "</table>\n",
       "</div>"
      ],
      "text/plain": [
       "                                                                                  article_heading  \\\n",
       "15913  Ice transfers 30 detainees to unknown location amid hunger strike                            \n",
       "15721  Survivors of California’s forced sterilizations: ‘It’s like my life wasn’t worth anything’   \n",
       "10426  Biden Administration Transfers Its First Detainee From Guantánamo Bay                        \n",
       "16290  California governor pardons formerly incarcerated firefighters                               \n",
       "10474  A Pause in Federal Executions, but Uncertainty About What’s Next                             \n",
       "\n",
       "       Similarity score        article_date  \n",
       "15913  0.842861         2021-06-29 20:34:32  \n",
       "15721  0.743036         2021-07-19 10:00:55  \n",
       "10426  0.740073         2021-07-19 09:02:45  \n",
       "16290  0.726427         2021-05-29 01:45:18  \n",
       "10474  0.724096         2021-07-16 19:59:07  "
      ]
     },
     "metadata": {},
     "output_type": "display_data"
    },
    {
     "name": "stdout",
     "output_type": "stream",
     "text": [
      "\n",
      "\n",
      "240\n",
      "\n",
      "\n",
      "New Jersey bans jails from contracting with ICE to hold immigration detainees\n"
     ]
    },
    {
     "data": {
      "text/html": [
       "<div>\n",
       "<style scoped>\n",
       "    .dataframe tbody tr th:only-of-type {\n",
       "        vertical-align: middle;\n",
       "    }\n",
       "\n",
       "    .dataframe tbody tr th {\n",
       "        vertical-align: top;\n",
       "    }\n",
       "\n",
       "    .dataframe thead th {\n",
       "        text-align: right;\n",
       "    }\n",
       "</style>\n",
       "<table border=\"1\" class=\"dataframe\">\n",
       "  <thead>\n",
       "    <tr style=\"text-align: right;\">\n",
       "      <th></th>\n",
       "      <th>article_heading</th>\n",
       "      <th>Similarity score</th>\n",
       "      <th>article_date</th>\n",
       "    </tr>\n",
       "  </thead>\n",
       "  <tbody>\n",
       "    <tr>\n",
       "      <th>15913</th>\n",
       "      <td>Ice transfers 30 detainees to unknown location amid hunger strike</td>\n",
       "      <td>0.831012</td>\n",
       "      <td>2021-06-29 20:34:32.000000</td>\n",
       "    </tr>\n",
       "    <tr>\n",
       "      <th>1994</th>\n",
       "      <td>'I stand squarely behind my decision': Biden holds firm on Afghanistan drawdown</td>\n",
       "      <td>0.673443</td>\n",
       "      <td>2021-08-16 16:33:00.000000</td>\n",
       "    </tr>\n",
       "    <tr>\n",
       "      <th>2138</th>\n",
       "      <td>POLITICO Playbook: Pelosi’s summer squeeze</td>\n",
       "      <td>0.670755</td>\n",
       "      <td>2021-08-12 06:03:00.000000</td>\n",
       "    </tr>\n",
       "    <tr>\n",
       "      <th>2223</th>\n",
       "      <td>The governor's race has left the state</td>\n",
       "      <td>0.667445</td>\n",
       "      <td>2021-08-10 06:56:00.000000</td>\n",
       "    </tr>\n",
       "    <tr>\n",
       "      <th>269</th>\n",
       "      <td>New Jersey Dem governor jets off to Italy for vacation as coronavirus spikes in state</td>\n",
       "      <td>0.662628</td>\n",
       "      <td>2021-08-13 23:59:59.980998</td>\n",
       "    </tr>\n",
       "  </tbody>\n",
       "</table>\n",
       "</div>"
      ],
      "text/plain": [
       "                                                                             article_heading  \\\n",
       "15913  Ice transfers 30 detainees to unknown location amid hunger strike                       \n",
       "1994   'I stand squarely behind my decision': Biden holds firm on Afghanistan drawdown         \n",
       "2138   POLITICO Playbook: Pelosi’s summer squeeze                                              \n",
       "2223   The governor's race has left the state                                                  \n",
       "269    New Jersey Dem governor jets off to Italy for vacation as coronavirus spikes in state   \n",
       "\n",
       "       Similarity score               article_date  \n",
       "15913  0.831012         2021-06-29 20:34:32.000000  \n",
       "1994   0.673443         2021-08-16 16:33:00.000000  \n",
       "2138   0.670755         2021-08-12 06:03:00.000000  \n",
       "2223   0.667445         2021-08-10 06:56:00.000000  \n",
       "269    0.662628         2021-08-13 23:59:59.980998  "
      ]
     },
     "metadata": {},
     "output_type": "display_data"
    },
    {
     "name": "stdout",
     "output_type": "stream",
     "text": [
      "\n",
      "\n",
      "180\n",
      "\n",
      "\n",
      "New Jersey bans jails from contracting with ICE to hold immigration detainees\n"
     ]
    },
    {
     "data": {
      "text/html": [
       "<div>\n",
       "<style scoped>\n",
       "    .dataframe tbody tr th:only-of-type {\n",
       "        vertical-align: middle;\n",
       "    }\n",
       "\n",
       "    .dataframe tbody tr th {\n",
       "        vertical-align: top;\n",
       "    }\n",
       "\n",
       "    .dataframe thead th {\n",
       "        text-align: right;\n",
       "    }\n",
       "</style>\n",
       "<table border=\"1\" class=\"dataframe\">\n",
       "  <thead>\n",
       "    <tr style=\"text-align: right;\">\n",
       "      <th></th>\n",
       "      <th>article_heading</th>\n",
       "      <th>Similarity score</th>\n",
       "      <th>article_date</th>\n",
       "    </tr>\n",
       "  </thead>\n",
       "  <tbody>\n",
       "    <tr>\n",
       "      <th>15913</th>\n",
       "      <td>Ice transfers 30 detainees to unknown location amid hunger strike</td>\n",
       "      <td>0.741280</td>\n",
       "      <td>2021-06-29 20:34:32.000000</td>\n",
       "    </tr>\n",
       "    <tr>\n",
       "      <th>1928</th>\n",
       "      <td>Another tough choice for Rabner</td>\n",
       "      <td>0.717575</td>\n",
       "      <td>2021-08-18 07:00:00.000000</td>\n",
       "    </tr>\n",
       "    <tr>\n",
       "      <th>2331</th>\n",
       "      <td>Redistricting about to get started</td>\n",
       "      <td>0.703368</td>\n",
       "      <td>2021-08-06 06:55:00.000000</td>\n",
       "    </tr>\n",
       "    <tr>\n",
       "      <th>269</th>\n",
       "      <td>New Jersey Dem governor jets off to Italy for vacation as coronavirus spikes in state</td>\n",
       "      <td>0.694654</td>\n",
       "      <td>2021-08-13 23:59:59.980998</td>\n",
       "    </tr>\n",
       "    <tr>\n",
       "      <th>177</th>\n",
       "      <td>Chris Christie slams Phil Murphy over NJ Dem's Italy vacation</td>\n",
       "      <td>0.693490</td>\n",
       "      <td>2021-08-17 23:59:59.976001</td>\n",
       "    </tr>\n",
       "  </tbody>\n",
       "</table>\n",
       "</div>"
      ],
      "text/plain": [
       "                                                                             article_heading  \\\n",
       "15913  Ice transfers 30 detainees to unknown location amid hunger strike                       \n",
       "1928   Another tough choice for Rabner                                                         \n",
       "2331   Redistricting about to get started                                                      \n",
       "269    New Jersey Dem governor jets off to Italy for vacation as coronavirus spikes in state   \n",
       "177    Chris Christie slams Phil Murphy over NJ Dem's Italy vacation                           \n",
       "\n",
       "       Similarity score               article_date  \n",
       "15913  0.741280         2021-06-29 20:34:32.000000  \n",
       "1928   0.717575         2021-08-18 07:00:00.000000  \n",
       "2331   0.703368         2021-08-06 06:55:00.000000  \n",
       "269    0.694654         2021-08-13 23:59:59.980998  \n",
       "177    0.693490         2021-08-17 23:59:59.976001  "
      ]
     },
     "metadata": {},
     "output_type": "display_data"
    },
    {
     "name": "stdout",
     "output_type": "stream",
     "text": [
      "\n",
      "\n",
      "150\n",
      "\n",
      "\n",
      "New Jersey bans jails from contracting with ICE to hold immigration detainees\n"
     ]
    },
    {
     "data": {
      "text/html": [
       "<div>\n",
       "<style scoped>\n",
       "    .dataframe tbody tr th:only-of-type {\n",
       "        vertical-align: middle;\n",
       "    }\n",
       "\n",
       "    .dataframe tbody tr th {\n",
       "        vertical-align: top;\n",
       "    }\n",
       "\n",
       "    .dataframe thead th {\n",
       "        text-align: right;\n",
       "    }\n",
       "</style>\n",
       "<table border=\"1\" class=\"dataframe\">\n",
       "  <thead>\n",
       "    <tr style=\"text-align: right;\">\n",
       "      <th></th>\n",
       "      <th>article_heading</th>\n",
       "      <th>Similarity score</th>\n",
       "      <th>article_date</th>\n",
       "    </tr>\n",
       "  </thead>\n",
       "  <tbody>\n",
       "    <tr>\n",
       "      <th>15913</th>\n",
       "      <td>Ice transfers 30 detainees to unknown location amid hunger strike</td>\n",
       "      <td>0.854285</td>\n",
       "      <td>2021-06-29 20:34:32</td>\n",
       "    </tr>\n",
       "    <tr>\n",
       "      <th>15486</th>\n",
       "      <td>Cameroonian asylum-seeker sues US for alleged assault by Ice officers</td>\n",
       "      <td>0.782426</td>\n",
       "      <td>2021-08-12 10:00:14</td>\n",
       "    </tr>\n",
       "    <tr>\n",
       "      <th>16014</th>\n",
       "      <td>Leader behind bleach ‘miracle cure’ claims Trump consumed his product</td>\n",
       "      <td>0.780865</td>\n",
       "      <td>2021-06-22 09:00:01</td>\n",
       "    </tr>\n",
       "    <tr>\n",
       "      <th>3582</th>\n",
       "      <td>Biden bans solar panel material from Chinese firm over forced labor</td>\n",
       "      <td>0.764931</td>\n",
       "      <td>2021-06-24 13:21:00</td>\n",
       "    </tr>\n",
       "    <tr>\n",
       "      <th>11945</th>\n",
       "      <td>After a Decade Without Executions, South Carolina’s Solution: Bring Out the Firing Squad</td>\n",
       "      <td>0.754990</td>\n",
       "      <td>2021-05-07 07:00:06</td>\n",
       "    </tr>\n",
       "  </tbody>\n",
       "</table>\n",
       "</div>"
      ],
      "text/plain": [
       "                                                                                article_heading  \\\n",
       "15913  Ice transfers 30 detainees to unknown location amid hunger strike                          \n",
       "15486  Cameroonian asylum-seeker sues US for alleged assault by Ice officers                      \n",
       "16014  Leader behind bleach ‘miracle cure’ claims Trump consumed his product                      \n",
       "3582   Biden bans solar panel material from Chinese firm over forced labor                        \n",
       "11945  After a Decade Without Executions, South Carolina’s Solution: Bring Out the Firing Squad   \n",
       "\n",
       "       Similarity score        article_date  \n",
       "15913  0.854285         2021-06-29 20:34:32  \n",
       "15486  0.782426         2021-08-12 10:00:14  \n",
       "16014  0.780865         2021-06-22 09:00:01  \n",
       "3582   0.764931         2021-06-24 13:21:00  \n",
       "11945  0.754990         2021-05-07 07:00:06  "
      ]
     },
     "metadata": {},
     "output_type": "display_data"
    },
    {
     "name": "stdout",
     "output_type": "stream",
     "text": [
      "\n",
      "\n",
      "120\n",
      "\n",
      "\n",
      "New Jersey bans jails from contracting with ICE to hold immigration detainees\n"
     ]
    },
    {
     "data": {
      "text/html": [
       "<div>\n",
       "<style scoped>\n",
       "    .dataframe tbody tr th:only-of-type {\n",
       "        vertical-align: middle;\n",
       "    }\n",
       "\n",
       "    .dataframe tbody tr th {\n",
       "        vertical-align: top;\n",
       "    }\n",
       "\n",
       "    .dataframe thead th {\n",
       "        text-align: right;\n",
       "    }\n",
       "</style>\n",
       "<table border=\"1\" class=\"dataframe\">\n",
       "  <thead>\n",
       "    <tr style=\"text-align: right;\">\n",
       "      <th></th>\n",
       "      <th>article_heading</th>\n",
       "      <th>Similarity score</th>\n",
       "      <th>article_date</th>\n",
       "    </tr>\n",
       "  </thead>\n",
       "  <tbody>\n",
       "    <tr>\n",
       "      <th>15913</th>\n",
       "      <td>Ice transfers 30 detainees to unknown location amid hunger strike</td>\n",
       "      <td>0.837129</td>\n",
       "      <td>2021-06-29 20:34:32.000000</td>\n",
       "    </tr>\n",
       "    <tr>\n",
       "      <th>998</th>\n",
       "      <td>Harris tells DACA recipients that administration will take 'action' after program is ruled unlawful</td>\n",
       "      <td>0.679593</td>\n",
       "      <td>2021-07-21 23:59:59.981999</td>\n",
       "    </tr>\n",
       "    <tr>\n",
       "      <th>1180</th>\n",
       "      <td>Federal judge orders Biden administration to end new DACA applications</td>\n",
       "      <td>0.677166</td>\n",
       "      <td>2021-07-15 23:59:59.982002</td>\n",
       "    </tr>\n",
       "    <tr>\n",
       "      <th>1172</th>\n",
       "      <td>Biden calls DACA ruling 'deeply disappointing,' urges Congress to pass citizenship path</td>\n",
       "      <td>0.676993</td>\n",
       "      <td>2021-07-16 23:59:59.968998</td>\n",
       "    </tr>\n",
       "    <tr>\n",
       "      <th>15729</th>\n",
       "      <td>US justice department to appeal Daca court decision, says Biden</td>\n",
       "      <td>0.664803</td>\n",
       "      <td>2021-07-17 15:25:51.000000</td>\n",
       "    </tr>\n",
       "  </tbody>\n",
       "</table>\n",
       "</div>"
      ],
      "text/plain": [
       "                                                                                           article_heading  \\\n",
       "15913  Ice transfers 30 detainees to unknown location amid hunger strike                                     \n",
       "998    Harris tells DACA recipients that administration will take 'action' after program is ruled unlawful   \n",
       "1180   Federal judge orders Biden administration to end new DACA applications                                \n",
       "1172   Biden calls DACA ruling 'deeply disappointing,' urges Congress to pass citizenship path               \n",
       "15729  US justice department to appeal Daca court decision, says Biden                                       \n",
       "\n",
       "       Similarity score               article_date  \n",
       "15913  0.837129         2021-06-29 20:34:32.000000  \n",
       "998    0.679593         2021-07-21 23:59:59.981999  \n",
       "1180   0.677166         2021-07-15 23:59:59.982002  \n",
       "1172   0.676993         2021-07-16 23:59:59.968998  \n",
       "15729  0.664803         2021-07-17 15:25:51.000000  "
      ]
     },
     "metadata": {},
     "output_type": "display_data"
    },
    {
     "name": "stdout",
     "output_type": "stream",
     "text": [
      "\n",
      "\n",
      "90\n",
      "\n",
      "\n",
      "New Jersey bans jails from contracting with ICE to hold immigration detainees\n"
     ]
    },
    {
     "data": {
      "text/html": [
       "<div>\n",
       "<style scoped>\n",
       "    .dataframe tbody tr th:only-of-type {\n",
       "        vertical-align: middle;\n",
       "    }\n",
       "\n",
       "    .dataframe tbody tr th {\n",
       "        vertical-align: top;\n",
       "    }\n",
       "\n",
       "    .dataframe thead th {\n",
       "        text-align: right;\n",
       "    }\n",
       "</style>\n",
       "<table border=\"1\" class=\"dataframe\">\n",
       "  <thead>\n",
       "    <tr style=\"text-align: right;\">\n",
       "      <th></th>\n",
       "      <th>article_heading</th>\n",
       "      <th>Similarity score</th>\n",
       "      <th>article_date</th>\n",
       "    </tr>\n",
       "  </thead>\n",
       "  <tbody>\n",
       "    <tr>\n",
       "      <th>15913</th>\n",
       "      <td>Ice transfers 30 detainees to unknown location amid hunger strike</td>\n",
       "      <td>0.900580</td>\n",
       "      <td>2021-06-29 20:34:32</td>\n",
       "    </tr>\n",
       "    <tr>\n",
       "      <th>1928</th>\n",
       "      <td>Another tough choice for Rabner</td>\n",
       "      <td>0.751137</td>\n",
       "      <td>2021-08-18 07:00:00</td>\n",
       "    </tr>\n",
       "    <tr>\n",
       "      <th>2223</th>\n",
       "      <td>The governor's race has left the state</td>\n",
       "      <td>0.739743</td>\n",
       "      <td>2021-08-10 06:56:00</td>\n",
       "    </tr>\n",
       "    <tr>\n",
       "      <th>1886</th>\n",
       "      <td>It's not 2009</td>\n",
       "      <td>0.739618</td>\n",
       "      <td>2021-08-19 06:58:00</td>\n",
       "    </tr>\n",
       "    <tr>\n",
       "      <th>2069</th>\n",
       "      <td>'I feel like I did the right thing,' Cuomo tells mag in first interview since resignation</td>\n",
       "      <td>0.739536</td>\n",
       "      <td>2021-08-13 20:15:00</td>\n",
       "    </tr>\n",
       "  </tbody>\n",
       "</table>\n",
       "</div>"
      ],
      "text/plain": [
       "                                                                                 article_heading  \\\n",
       "15913  Ice transfers 30 detainees to unknown location amid hunger strike                           \n",
       "1928   Another tough choice for Rabner                                                             \n",
       "2223   The governor's race has left the state                                                      \n",
       "1886   It's not 2009                                                                               \n",
       "2069   'I feel like I did the right thing,' Cuomo tells mag in first interview since resignation   \n",
       "\n",
       "       Similarity score        article_date  \n",
       "15913  0.900580         2021-06-29 20:34:32  \n",
       "1928   0.751137         2021-08-18 07:00:00  \n",
       "2223   0.739743         2021-08-10 06:56:00  \n",
       "1886   0.739618         2021-08-19 06:58:00  \n",
       "2069   0.739536         2021-08-13 20:15:00  "
      ]
     },
     "metadata": {},
     "output_type": "display_data"
    },
    {
     "name": "stdout",
     "output_type": "stream",
     "text": [
      "\n",
      "\n",
      "60\n",
      "\n",
      "\n",
      "New Jersey bans jails from contracting with ICE to hold immigration detainees\n"
     ]
    },
    {
     "data": {
      "text/html": [
       "<div>\n",
       "<style scoped>\n",
       "    .dataframe tbody tr th:only-of-type {\n",
       "        vertical-align: middle;\n",
       "    }\n",
       "\n",
       "    .dataframe tbody tr th {\n",
       "        vertical-align: top;\n",
       "    }\n",
       "\n",
       "    .dataframe thead th {\n",
       "        text-align: right;\n",
       "    }\n",
       "</style>\n",
       "<table border=\"1\" class=\"dataframe\">\n",
       "  <thead>\n",
       "    <tr style=\"text-align: right;\">\n",
       "      <th></th>\n",
       "      <th>article_heading</th>\n",
       "      <th>Similarity score</th>\n",
       "      <th>article_date</th>\n",
       "    </tr>\n",
       "  </thead>\n",
       "  <tbody>\n",
       "    <tr>\n",
       "      <th>15913</th>\n",
       "      <td>Ice transfers 30 detainees to unknown location amid hunger strike</td>\n",
       "      <td>0.893471</td>\n",
       "      <td>2021-06-29 20:34:32.000000</td>\n",
       "    </tr>\n",
       "    <tr>\n",
       "      <th>533</th>\n",
       "      <td>Border agents in Texas pick up MS-13 gang members, sex offender</td>\n",
       "      <td>0.755731</td>\n",
       "      <td>2021-08-06 23:59:59.978002</td>\n",
       "    </tr>\n",
       "    <tr>\n",
       "      <th>443</th>\n",
       "      <td>ICE emails show how agency chief halted deportation after 'Abolish ICE' activist's request</td>\n",
       "      <td>0.741623</td>\n",
       "      <td>2021-08-09 23:59:59.982002</td>\n",
       "    </tr>\n",
       "    <tr>\n",
       "      <th>1361</th>\n",
       "      <td>Border agents in Del Rio Sector nab migrants with convictions for child molestation, attempted murder</td>\n",
       "      <td>0.741399</td>\n",
       "      <td>2021-07-09 23:59:59.983001</td>\n",
       "    </tr>\n",
       "    <tr>\n",
       "      <th>10506</th>\n",
       "      <td>Biden’s nominees to lead ICE and the Border Patrol are a sharp departure from the Trump era.</td>\n",
       "      <td>0.740953</td>\n",
       "      <td>2021-07-15 09:00:15.000000</td>\n",
       "    </tr>\n",
       "  </tbody>\n",
       "</table>\n",
       "</div>"
      ],
      "text/plain": [
       "                                                                                             article_heading  \\\n",
       "15913  Ice transfers 30 detainees to unknown location amid hunger strike                                       \n",
       "533    Border agents in Texas pick up MS-13 gang members, sex offender                                         \n",
       "443    ICE emails show how agency chief halted deportation after 'Abolish ICE' activist's request              \n",
       "1361   Border agents in Del Rio Sector nab migrants with convictions for child molestation, attempted murder   \n",
       "10506  Biden’s nominees to lead ICE and the Border Patrol are a sharp departure from the Trump era.            \n",
       "\n",
       "       Similarity score               article_date  \n",
       "15913  0.893471         2021-06-29 20:34:32.000000  \n",
       "533    0.755731         2021-08-06 23:59:59.978002  \n",
       "443    0.741623         2021-08-09 23:59:59.982002  \n",
       "1361   0.741399         2021-07-09 23:59:59.983001  \n",
       "10506  0.740953         2021-07-15 09:00:15.000000  "
      ]
     },
     "metadata": {},
     "output_type": "display_data"
    },
    {
     "name": "stdout",
     "output_type": "stream",
     "text": [
      "\n",
      "\n",
      "30\n",
      "\n",
      "\n",
      "New Jersey bans jails from contracting with ICE to hold immigration detainees\n"
     ]
    },
    {
     "data": {
      "text/html": [
       "<div>\n",
       "<style scoped>\n",
       "    .dataframe tbody tr th:only-of-type {\n",
       "        vertical-align: middle;\n",
       "    }\n",
       "\n",
       "    .dataframe tbody tr th {\n",
       "        vertical-align: top;\n",
       "    }\n",
       "\n",
       "    .dataframe thead th {\n",
       "        text-align: right;\n",
       "    }\n",
       "</style>\n",
       "<table border=\"1\" class=\"dataframe\">\n",
       "  <thead>\n",
       "    <tr style=\"text-align: right;\">\n",
       "      <th></th>\n",
       "      <th>article_heading</th>\n",
       "      <th>Similarity score</th>\n",
       "      <th>article_date</th>\n",
       "    </tr>\n",
       "  </thead>\n",
       "  <tbody>\n",
       "    <tr>\n",
       "      <th>443</th>\n",
       "      <td>ICE emails show how agency chief halted deportation after 'Abolish ICE' activist's request</td>\n",
       "      <td>0.965075</td>\n",
       "      <td>2021-08-09 23:59:59.982002</td>\n",
       "    </tr>\n",
       "    <tr>\n",
       "      <th>9968</th>\n",
       "      <td>Biden Administration Violating Decree on Migrant Children, Court Filing Says</td>\n",
       "      <td>0.935759</td>\n",
       "      <td>2021-08-10 01:31:21.000000</td>\n",
       "    </tr>\n",
       "    <tr>\n",
       "      <th>1980</th>\n",
       "      <td>Can America Still Help Afghanistan? 8 Former Officials on What’s Next.</td>\n",
       "      <td>0.935002</td>\n",
       "      <td>2021-08-17 04:30:00.000000</td>\n",
       "    </tr>\n",
       "    <tr>\n",
       "      <th>2226</th>\n",
       "      <td>Biden railed against Trump’s immigration policies, now defends them in courts</td>\n",
       "      <td>0.927516</td>\n",
       "      <td>2021-08-10 04:31:00.000000</td>\n",
       "    </tr>\n",
       "    <tr>\n",
       "      <th>2124</th>\n",
       "      <td>In Africa, a second effort to fight a third Covid wave</td>\n",
       "      <td>0.926837</td>\n",
       "      <td>2021-08-12 10:00:00.000000</td>\n",
       "    </tr>\n",
       "  </tbody>\n",
       "</table>\n",
       "</div>"
      ],
      "text/plain": [
       "                                                                                 article_heading  \\\n",
       "443   ICE emails show how agency chief halted deportation after 'Abolish ICE' activist's request   \n",
       "9968  Biden Administration Violating Decree on Migrant Children, Court Filing Says                 \n",
       "1980  Can America Still Help Afghanistan? 8 Former Officials on What’s Next.                       \n",
       "2226  Biden railed against Trump’s immigration policies, now defends them in courts                \n",
       "2124  In Africa, a second effort to fight a third Covid wave                                       \n",
       "\n",
       "      Similarity score               article_date  \n",
       "443   0.965075         2021-08-09 23:59:59.982002  \n",
       "9968  0.935759         2021-08-10 01:31:21.000000  \n",
       "1980  0.935002         2021-08-17 04:30:00.000000  \n",
       "2226  0.927516         2021-08-10 04:31:00.000000  \n",
       "2124  0.926837         2021-08-12 10:00:00.000000  "
      ]
     },
     "metadata": {},
     "output_type": "display_data"
    }
   ],
   "source": [
    "import random\n",
    "# test_indices = random.sample(range(df_test.shape[0]), 1)\n",
    "test_indices = [107]\n",
    "for component in components_saved:\n",
    "    print(\"\\n\")\n",
    "    print(component)\n",
    "    print(\"\\n\")\n",
    "    factor = get_article_importance_day_wise(growth=1000).values.reshape(-1,1)\n",
    "    heading, result = process_news_article(component,include_headings=True,heading_weightage=0.75,test_indices=test_indices,factor=factor)\n",
    "    print(heading)\n",
    "    display(result)"
   ]
  },
  {
   "cell_type": "code",
   "execution_count": null,
   "id": "3a6b5a1f-24f2-4fb5-aee9-e74df02f2bdf",
   "metadata": {},
   "outputs": [],
   "source": []
  },
  {
   "cell_type": "code",
   "execution_count": null,
   "id": "aad47f6a-de0c-42e7-a0db-18acb2669720",
   "metadata": {},
   "outputs": [],
   "source": []
  },
  {
   "cell_type": "markdown",
   "id": "de57baa1-4680-4e03-ab46-9a2348e73d5e",
   "metadata": {},
   "source": [
    "## Ensemble"
   ]
  },
  {
   "cell_type": "code",
   "execution_count": 68,
   "id": "19c4e60c-8c2f-46b0-9294-a0839d648cd2",
   "metadata": {},
   "outputs": [],
   "source": [
    "def get_similar_articles(test_indices,similarity_scores, top_n_values = 5):\n",
    "    values = np.sort(similarity_scores, axis=0)[::-1,:][:top_n_values,:]\n",
    "    similarity_array = np.argsort(similarity_scores, axis=0)[::-1,:][:top_n_values,:]\n",
    "    for i in range(similarity_array.shape[1]):\n",
    "        indices = similarity_array[:,i]\n",
    "    return df_test.iloc[test_indices[i]].article_heading,pd.DataFrame({'article_heading':df_train.iloc[indices].article_heading,'Similarity score':values[:,i],'article_date':df_train.iloc[indices].article_published_on})"
   ]
  },
  {
   "cell_type": "code",
   "execution_count": 69,
   "id": "5d3bcc4b-3479-4925-9dbf-6f91b864b013",
   "metadata": {},
   "outputs": [],
   "source": [
    "import math\n",
    "def get_article_importance_day_wise(growth=1000):\n",
    "    diff_from_max_date = (df_train.article_published_on-(df_train.article_published_on.max())).dt.days\n",
    "    return np.exp(diff_from_max_date/growth)"
   ]
  },
  {
   "cell_type": "code",
   "execution_count": 70,
   "id": "a3768203-d75e-416a-90f8-d7b8734070f2",
   "metadata": {},
   "outputs": [],
   "source": [
    "def get_similarity_score(text_vectors, X, factor=None):\n",
    "    \"\"\"\n",
    "    Evalute the cosine similarity between provided 'text_vectors' and trained X (articles trained and stored as a vecotr of topics).\n",
    "    Return dataframe with index as trained articles and columns as text_vector indices with values as similarity scores\n",
    "    \"\"\"\n",
    "    similarity_scores = cosine_similarity(X,text_vectors,dense_output=True)\n",
    "    return similarity_scores*factor\n",
    "#     return np.argsort(similarity_scores, axis=0)[::-1,:][:top_n_values,:]"
   ]
  },
  {
   "cell_type": "code",
   "execution_count": 71,
   "id": "1dbc0f39-c5bc-41b7-aa3d-3400e8a9c246",
   "metadata": {},
   "outputs": [],
   "source": [
    "def process_news_article(component,include_headings=False,heading_weightage=0.6,test_indices=None,factor=np.ones((df_train.shape[0])).reshape(-1,1)):\n",
    "    topic_vectors_train,vectorizer,model = get_saved_models(component)\n",
    "    test_lemmas = text_pipeline(df_test.iloc[test_indices].article_body)\n",
    "    lemma_test_vectors = text_vectorizer(test_lemmas,vectorizer)\n",
    "    topic_vectors_test = get_topic_vectors(lemma_test_vectors,model)\n",
    "    similarity_scores = get_similarity_score(topic_vectors_test,topic_vectors_train,factor=factor)\n",
    "    heading, result = get_similar_articles(test_indices,similarity_scores)\n",
    "    if include_headings:\n",
    "        test_lemmas = text_pipeline(df_test.iloc[test_indices].article_heading)\n",
    "        lemma_test_vectors = text_vectorizer(test_lemmas,vectorizer)\n",
    "        topic_vectors_test = get_topic_vectors(lemma_test_vectors,model)\n",
    "        similarity_scores = heading_weightage*(get_similarity_score(topic_vectors_test,topic_vectors_train,factor=factor))+(1-heading_weightage)*similarity_scores\n",
    "        _, result = get_similar_articles(test_indices,similarity_scores)\n",
    "    return heading, result"
   ]
  },
  {
   "cell_type": "code",
   "execution_count": 72,
   "id": "0db7daa3-9b0f-46ca-b928-20c7e4c29577",
   "metadata": {},
   "outputs": [],
   "source": [
    "def ensemble_similarity_scores(components,include_headings=False,heading_weightage=0.6,test_indices=None,factor=np.ones((df_train.shape[0])).reshape(-1,1)):\n",
    "    component_similarity_scores = []\n",
    "    for component in components:\n",
    "        topic_vectors_train,vectorizer,model = get_saved_models(component)\n",
    "        test_lemmas = text_pipeline(df_test.iloc[test_indices].article_body)\n",
    "        lemma_test_vectors = text_vectorizer(test_lemmas,vectorizer)\n",
    "        topic_vectors_test = get_topic_vectors(lemma_test_vectors,model)\n",
    "        similarity_scores = get_similarity_score(topic_vectors_test,topic_vectors_train,factor=factor)\n",
    "#         heading, result = get_similar_articles(test_indices,similarity_scores)\n",
    "        if include_headings:\n",
    "            test_lemmas = text_pipeline(df_test.iloc[test_indices].article_heading)\n",
    "            lemma_test_vectors = text_vectorizer(test_lemmas,vectorizer)\n",
    "            topic_vectors_test = get_topic_vectors(lemma_test_vectors,model)\n",
    "            similarity_scores = heading_weightage*(get_similarity_score(topic_vectors_test,topic_vectors_train,factor=factor))+(1-heading_weightage)*similarity_scores\n",
    "#             _, result = get_similar_articles(test_indices,similarity_scores)\n",
    "        component_similarity_scores.append(similarity_scores)\n",
    "    return component_similarity_scores"
   ]
  },
  {
   "cell_type": "code",
   "execution_count": 73,
   "id": "f587cf8f-f13a-4624-b1a5-cdd57a3a19ef",
   "metadata": {},
   "outputs": [
    {
     "name": "stdout",
     "output_type": "stream",
     "text": [
      "Biden Nominates Burns and Emanuel to Be His Ambassadors to China and Japan\n"
     ]
    },
    {
     "data": {
      "text/html": [
       "<div>\n",
       "<style scoped>\n",
       "    .dataframe tbody tr th:only-of-type {\n",
       "        vertical-align: middle;\n",
       "    }\n",
       "\n",
       "    .dataframe tbody tr th {\n",
       "        vertical-align: top;\n",
       "    }\n",
       "\n",
       "    .dataframe thead th {\n",
       "        text-align: right;\n",
       "    }\n",
       "</style>\n",
       "<table border=\"1\" class=\"dataframe\">\n",
       "  <thead>\n",
       "    <tr style=\"text-align: right;\">\n",
       "      <th></th>\n",
       "      <th>article_heading</th>\n",
       "      <th>Similarity score</th>\n",
       "      <th>article_date</th>\n",
       "    </tr>\n",
       "  </thead>\n",
       "  <tbody>\n",
       "    <tr>\n",
       "      <th>2109</th>\n",
       "      <td>Ervin Graves adds top EPA aide</td>\n",
       "      <td>0.660873</td>\n",
       "      <td>2021-08-12 17:11:00</td>\n",
       "    </tr>\n",
       "    <tr>\n",
       "      <th>1965</th>\n",
       "      <td>The Sierra Club spat</td>\n",
       "      <td>0.656117</td>\n",
       "      <td>2021-08-17 10:00:00</td>\n",
       "    </tr>\n",
       "    <tr>\n",
       "      <th>8921</th>\n",
       "      <td>Cruz delays vote on U.N. nominee Thomas-Greenfield as impeachment trial looms</td>\n",
       "      <td>0.653987</td>\n",
       "      <td>2021-02-02 20:45:00</td>\n",
       "    </tr>\n",
       "    <tr>\n",
       "      <th>13724</th>\n",
       "      <td>Senate confirms Linda Thomas-Greenfield to be U.N. ambassador and Tom Vilsack to be agriculture secretary.</td>\n",
       "      <td>0.646475</td>\n",
       "      <td>2021-02-23 17:15:31</td>\n",
       "    </tr>\n",
       "    <tr>\n",
       "      <th>3631</th>\n",
       "      <td>Biden nominates Cindy McCain for U.N. food agency ambassadorship</td>\n",
       "      <td>0.628590</td>\n",
       "      <td>2021-06-23 18:34:00</td>\n",
       "    </tr>\n",
       "    <tr>\n",
       "      <th>13225</th>\n",
       "      <td>Katherine Tai is confirmed as U.S. trade representative.</td>\n",
       "      <td>0.627484</td>\n",
       "      <td>2021-03-17 16:22:48</td>\n",
       "    </tr>\n",
       "    <tr>\n",
       "      <th>3095</th>\n",
       "      <td>Former Sen. Tom Udall is Biden's pick as ambassador to New Zealand and Samoa</td>\n",
       "      <td>0.627106</td>\n",
       "      <td>2021-07-16 15:36:00</td>\n",
       "    </tr>\n",
       "    <tr>\n",
       "      <th>14428</th>\n",
       "      <td>Biden’s pick for commerce secretary, Gina Raimondo, has a confirmation hearing.</td>\n",
       "      <td>0.595459</td>\n",
       "      <td>2021-01-26 13:32:47</td>\n",
       "    </tr>\n",
       "    <tr>\n",
       "      <th>9439</th>\n",
       "      <td>Biden names his acting Cabinet</td>\n",
       "      <td>0.595289</td>\n",
       "      <td>2021-01-20 19:00:00</td>\n",
       "    </tr>\n",
       "    <tr>\n",
       "      <th>13564</th>\n",
       "      <td>Gina Raimondo is confirmed as commerce secretary.</td>\n",
       "      <td>0.593168</td>\n",
       "      <td>2021-03-02 20:08:21</td>\n",
       "    </tr>\n",
       "  </tbody>\n",
       "</table>\n",
       "</div>"
      ],
      "text/plain": [
       "                                                                                                  article_heading  \\\n",
       "2109   Ervin Graves adds top EPA aide                                                                               \n",
       "1965   The Sierra Club spat                                                                                         \n",
       "8921   Cruz delays vote on U.N. nominee Thomas-Greenfield as impeachment trial looms                                \n",
       "13724  Senate confirms Linda Thomas-Greenfield to be U.N. ambassador and Tom Vilsack to be agriculture secretary.   \n",
       "3631   Biden nominates Cindy McCain for U.N. food agency ambassadorship                                             \n",
       "13225  Katherine Tai is confirmed as U.S. trade representative.                                                     \n",
       "3095   Former Sen. Tom Udall is Biden's pick as ambassador to New Zealand and Samoa                                 \n",
       "14428  Biden’s pick for commerce secretary, Gina Raimondo, has a confirmation hearing.                              \n",
       "9439   Biden names his acting Cabinet                                                                               \n",
       "13564  Gina Raimondo is confirmed as commerce secretary.                                                            \n",
       "\n",
       "       Similarity score        article_date  \n",
       "2109   0.660873         2021-08-12 17:11:00  \n",
       "1965   0.656117         2021-08-17 10:00:00  \n",
       "8921   0.653987         2021-02-02 20:45:00  \n",
       "13724  0.646475         2021-02-23 17:15:31  \n",
       "3631   0.628590         2021-06-23 18:34:00  \n",
       "13225  0.627484         2021-03-17 16:22:48  \n",
       "3095   0.627106         2021-07-16 15:36:00  \n",
       "14428  0.595459         2021-01-26 13:32:47  \n",
       "9439   0.595289         2021-01-20 19:00:00  \n",
       "13564  0.593168         2021-03-02 20:08:21  "
      ]
     },
     "metadata": {},
     "output_type": "display_data"
    }
   ],
   "source": [
    "import random\n",
    "test_indices = random.sample(range(df_test.shape[0]), 1)\n",
    "# test_indices = [0]\n",
    "factor=np.ones((df_train.shape[0])).reshape(-1,1)\n",
    "# weights = np.random.dirichlet(np.ones(8),size=1).reshape(8,)\n",
    "# factor = get_article_importance_day_wise(growth=1000).values.reshape(-1,1)\n",
    "component_similarity_scores = ensemble_similarity_scores(components=components_saved,include_headings=True,heading_weightage=0.75,test_indices=test_indices,factor=factor)\n",
    "similarity_scores = np.average(np.array(component_similarity_scores),axis=0,weights=weights)\n",
    "heading, result = get_similar_articles(test_indices,similarity_scores,top_n_values=10)\n",
    "print(heading)\n",
    "display(result)"
   ]
  },
  {
   "cell_type": "code",
   "execution_count": 35,
   "id": "c5d0f242-414a-4c40-8d0d-b0db2a1d923a",
   "metadata": {},
   "outputs": [
    {
     "data": {
      "text/plain": [
       "8"
      ]
     },
     "execution_count": 35,
     "metadata": {},
     "output_type": "execute_result"
    }
   ],
   "source": [
    "len(components_saved)"
   ]
  },
  {
   "cell_type": "code",
   "execution_count": 58,
   "id": "e349f899-33c5-4bf6-b4eb-a89acee6842e",
   "metadata": {},
   "outputs": [],
   "source": [
    "old_weights = weights"
   ]
  },
  {
   "cell_type": "code",
   "execution_count": null,
   "id": "5d2e4d9a-9155-4ac5-9edf-b399c28704e9",
   "metadata": {},
   "outputs": [],
   "source": []
  },
  {
   "cell_type": "code",
   "execution_count": 74,
   "id": "07f5d3d9-1c69-4313-8b95-9b9fdae1cc0e",
   "metadata": {},
   "outputs": [],
   "source": [
    "a = pd.DataFrame({'A':[1,2,3],'B':[10,11,2]})"
   ]
  },
  {
   "cell_type": "code",
   "execution_count": 75,
   "id": "418376b4-4187-4462-8f53-1c8286ce85e8",
   "metadata": {},
   "outputs": [
    {
     "data": {
      "text/html": [
       "<div>\n",
       "<style scoped>\n",
       "    .dataframe tbody tr th:only-of-type {\n",
       "        vertical-align: middle;\n",
       "    }\n",
       "\n",
       "    .dataframe tbody tr th {\n",
       "        vertical-align: top;\n",
       "    }\n",
       "\n",
       "    .dataframe thead th {\n",
       "        text-align: right;\n",
       "    }\n",
       "</style>\n",
       "<table border=\"1\" class=\"dataframe\">\n",
       "  <thead>\n",
       "    <tr style=\"text-align: right;\">\n",
       "      <th></th>\n",
       "      <th>A</th>\n",
       "      <th>B</th>\n",
       "    </tr>\n",
       "  </thead>\n",
       "  <tbody>\n",
       "    <tr>\n",
       "      <th>0</th>\n",
       "      <td>1</td>\n",
       "      <td>10</td>\n",
       "    </tr>\n",
       "    <tr>\n",
       "      <th>1</th>\n",
       "      <td>2</td>\n",
       "      <td>11</td>\n",
       "    </tr>\n",
       "    <tr>\n",
       "      <th>2</th>\n",
       "      <td>3</td>\n",
       "      <td>2</td>\n",
       "    </tr>\n",
       "  </tbody>\n",
       "</table>\n",
       "</div>"
      ],
      "text/plain": [
       "   A   B\n",
       "0  1  10\n",
       "1  2  11\n",
       "2  3   2"
      ]
     },
     "execution_count": 75,
     "metadata": {},
     "output_type": "execute_result"
    }
   ],
   "source": [
    "a"
   ]
  },
  {
   "cell_type": "code",
   "execution_count": 80,
   "id": "c8709640-235f-4a7a-94a4-4bbfde2254b1",
   "metadata": {},
   "outputs": [
    {
     "data": {
      "text/plain": [
       "[{'A': 1, 'B': 10}, {'A': 2, 'B': 11}, {'A': 3, 'B': 2}]"
      ]
     },
     "execution_count": 80,
     "metadata": {},
     "output_type": "execute_result"
    }
   ],
   "source": [
    "result=[]\n",
    "for _,row in a.iterrows():\n",
    "    result.append(row.to_dict())\n",
    "result"
   ]
  },
  {
   "cell_type": "code",
   "execution_count": 81,
   "id": "4a538e57-245a-468f-845a-4aa740d00610",
   "metadata": {},
   "outputs": [
    {
     "data": {
      "text/plain": [
       "[634]"
      ]
     },
     "execution_count": 81,
     "metadata": {},
     "output_type": "execute_result"
    }
   ],
   "source": [
    "test_indices"
   ]
  },
  {
   "cell_type": "code",
   "execution_count": 83,
   "id": "c4a6a7e5-33aa-46ce-97e7-90784961dd0c",
   "metadata": {},
   "outputs": [
    {
     "data": {
      "text/plain": [
       "'Biden Nominates Burns and Emanuel to Be His Ambassadors to China and Japan'"
      ]
     },
     "execution_count": 83,
     "metadata": {},
     "output_type": "execute_result"
    }
   ],
   "source": [
    "df_test.iloc[634].article_heading"
   ]
  },
  {
   "cell_type": "code",
   "execution_count": 84,
   "id": "b2742e5b-ec67-4ca7-91c6-61fc5783c934",
   "metadata": {},
   "outputs": [
    {
     "data": {
      "text/plain": [
       "'WASHINGTON — President Biden on Friday nominated R. Nicholas Burns, a veteran Foreign Service officer and a former ambassador to NATO, as ambassador to China and Rahm Emanuel, the former mayor of Chicago and former President Barack Obama’s first chief of staff, as ambassador to Japan.'"
      ]
     },
     "execution_count": 84,
     "metadata": {},
     "output_type": "execute_result"
    }
   ],
   "source": [
    "df_test.iloc[634].article_body"
   ]
  },
  {
   "cell_type": "code",
   "execution_count": null,
   "id": "4e4799ec-8377-48b6-a181-b55bf6f6b60f",
   "metadata": {},
   "outputs": [],
   "source": [
    "WASHINGTON — President Biden on Friday nominated R. Nicholas Burns, a veteran Foreign Service officer and a former ambassador to NATO, as ambassador to China and Rahm Emanuel, the former mayor of Chicago and former President Barack Obama’s first chief of staff, as ambassador to Japan."
   ]
  },
  {
   "cell_type": "code",
   "execution_count": 93,
   "id": "d0111642-f1f6-40ce-8d7b-ad8c46113e16",
   "metadata": {},
   "outputs": [
    {
     "data": {
      "text/plain": [
       "'Biden Nominates Burns and Emanuel to Be His Ambassadors to China and Japan'"
      ]
     },
     "execution_count": 93,
     "metadata": {},
     "output_type": "execute_result"
    }
   ],
   "source": [
    "df_test.iloc[test_indices].article_heading.values[0]"
   ]
  },
  {
   "cell_type": "code",
   "execution_count": null,
   "id": "b872b1f1-4653-4fcb-8e92-96d3d5b4e0dc",
   "metadata": {},
   "outputs": [],
   "source": []
  }
 ],
 "metadata": {
  "kernelspec": {
   "display_name": "Default Environment",
   "language": "python",
   "name": "default"
  },
  "language_info": {
   "codemirror_mode": {
    "name": "ipython",
    "version": 3
   },
   "file_extension": ".py",
   "mimetype": "text/x-python",
   "name": "python",
   "nbconvert_exporter": "python",
   "pygments_lexer": "ipython3",
   "version": "3.9.6"
  }
 },
 "nbformat": 4,
 "nbformat_minor": 5
}
