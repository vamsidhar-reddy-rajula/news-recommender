{
 "cells": [
  {
   "cell_type": "code",
   "execution_count": 1,
   "id": "0aea7189-cd29-462e-9b32-270d8914e732",
   "metadata": {},
   "outputs": [],
   "source": [
    "import pandas as pd\n",
    "import numpy as np\n",
    "from datetime import datetime"
   ]
  },
  {
   "cell_type": "code",
   "execution_count": 3,
   "id": "d92aa6c4-8424-45b9-b6e6-511aee850b75",
   "metadata": {},
   "outputs": [],
   "source": [
    "df_articles = pd.read_csv(\"../data/interim/articles_processed.csv\")"
   ]
  },
  {
   "cell_type": "code",
   "execution_count": 4,
   "id": "5c16f743-5f30-4bf5-8afe-f44841c5296e",
   "metadata": {},
   "outputs": [],
   "source": [
    "df_articles.article_published_on = df_articles.article_published_on.astype(np.datetime64)"
   ]
  },
  {
   "cell_type": "code",
   "execution_count": 5,
   "id": "a58f0d8a-2b16-4ec5-87a2-655ed1afa208",
   "metadata": {},
   "outputs": [],
   "source": [
    "df_train,df_test = df_articles[df_articles.article_published_on<datetime(year=2021,day=20,month=8)],df_articles[df_articles.article_published_on>=datetime(year=2021,day=20,month=8)]"
   ]
  },
  {
   "cell_type": "code",
   "execution_count": 6,
   "id": "ddb69944-9131-48aa-ab3f-12da8b9e0cc8",
   "metadata": {},
   "outputs": [
    {
     "data": {
      "text/plain": [
       "(17655, 9)"
      ]
     },
     "execution_count": 6,
     "metadata": {},
     "output_type": "execute_result"
    }
   ],
   "source": [
    "df_train.shape"
   ]
  },
  {
   "cell_type": "code",
   "execution_count": 7,
   "id": "1bcc5ab1-ae26-44ab-867b-000a61291d96",
   "metadata": {},
   "outputs": [
    {
     "data": {
      "text/plain": [
       "(736, 9)"
      ]
     },
     "execution_count": 7,
     "metadata": {},
     "output_type": "execute_result"
    }
   ],
   "source": [
    "df_test.shape"
   ]
  },
  {
   "cell_type": "markdown",
   "id": "7d176db4-566c-468a-b182-058714c43006",
   "metadata": {
    "tags": []
   },
   "source": [
    "# Text preprocessing"
   ]
  },
  {
   "cell_type": "code",
   "execution_count": 15,
   "id": "a784e344-8426-4322-a5dd-d88b5ac7a8d6",
   "metadata": {},
   "outputs": [],
   "source": [
    "from nltk.tokenize import word_tokenize"
   ]
  },
  {
   "cell_type": "markdown",
   "id": "73297579-91bf-4217-8b26-ae3ace88b149",
   "metadata": {
    "tags": []
   },
   "source": [
    "## Punctuations"
   ]
  },
  {
   "cell_type": "code",
   "execution_count": 16,
   "id": "65c420a7-558f-45f4-a4a6-3bb0df9239c2",
   "metadata": {
    "tags": []
   },
   "outputs": [],
   "source": [
    "from string import punctuation"
   ]
  },
  {
   "cell_type": "code",
   "execution_count": 17,
   "id": "51ded716-72d9-4941-95d9-e4cab42d1dfb",
   "metadata": {},
   "outputs": [
    {
     "data": {
      "text/plain": [
       "'!\"#$%&\\'()*+,-./:;<=>?@[\\\\]^_`{|}~'"
      ]
     },
     "execution_count": 17,
     "metadata": {},
     "output_type": "execute_result"
    }
   ],
   "source": [
    "punctuation"
   ]
  },
  {
   "cell_type": "code",
   "execution_count": 18,
   "id": "6a472950-531b-43ea-a839-49d113996cad",
   "metadata": {},
   "outputs": [],
   "source": [
    "removed_punctuation_train = df_train.article_body.apply(lambda x: \"\".join([c for c in x if c not in punctuation]))\n",
    "removed_punctuation_test = df_test.article_body.apply(lambda x: \"\".join([c for c in x if c not in punctuation]))"
   ]
  },
  {
   "cell_type": "code",
   "execution_count": null,
   "id": "297b3bc2-b0f1-42a8-94df-f5edbad1eaac",
   "metadata": {},
   "outputs": [],
   "source": []
  },
  {
   "cell_type": "markdown",
   "id": "fdff485e-03c8-494b-855b-294c8a471cda",
   "metadata": {
    "tags": []
   },
   "source": [
    "## Stop words"
   ]
  },
  {
   "cell_type": "code",
   "execution_count": 19,
   "id": "54869926-4346-40f8-9f5b-b03f5aa8be73",
   "metadata": {},
   "outputs": [],
   "source": [
    "from nltk.corpus import stopwords"
   ]
  },
  {
   "cell_type": "code",
   "execution_count": 20,
   "id": "a5a66a5e-b545-4784-9a3e-d8fff2897a7b",
   "metadata": {},
   "outputs": [],
   "source": [
    "stop_words = stopwords.words('english')"
   ]
  },
  {
   "cell_type": "code",
   "execution_count": 21,
   "id": "96d1dd4a-5dfa-41bb-a06b-94f6c02795da",
   "metadata": {},
   "outputs": [],
   "source": [
    "removed_stop_words_train = removed_punctuation_train.apply(lambda x: \" \".join([word for word in word_tokenize(x) if word not in stop_words]))\n",
    "removed_stop_words_test = removed_punctuation_test.apply(lambda x: \" \".join([word for word in word_tokenize(x) if word not in stop_words]))"
   ]
  },
  {
   "cell_type": "code",
   "execution_count": 22,
   "id": "3a67d6c3-82d6-44ef-949a-a01d6cafc6ca",
   "metadata": {},
   "outputs": [
    {
     "data": {
      "text/plain": [
       "'A federal judge on Thursday imposed a preliminary injunction'"
      ]
     },
     "execution_count": 22,
     "metadata": {},
     "output_type": "execute_result"
    }
   ],
   "source": [
    "removed_punctuation_train.iloc[0][:60]"
   ]
  },
  {
   "cell_type": "markdown",
   "id": "6d00fe0f-f21f-4b82-8327-23c8a584a302",
   "metadata": {},
   "source": []
  },
  {
   "cell_type": "code",
   "execution_count": 23,
   "id": "8c3a403e-772e-4b98-9488-d374b22bb45d",
   "metadata": {},
   "outputs": [],
   "source": [
    "from gensim.parsing.preprocessing import remove_stopwords"
   ]
  },
  {
   "cell_type": "code",
   "execution_count": 24,
   "id": "113ae9a0-2517-4781-bcea-978e485b0dd5",
   "metadata": {},
   "outputs": [],
   "source": [
    "removed_stop_words_train = removed_stop_words_train.apply(lambda x: remove_stopwords(x))\n",
    "removed_stop_words_test = removed_stop_words_test.apply(lambda x: remove_stopwords(x))"
   ]
  },
  {
   "cell_type": "code",
   "execution_count": 25,
   "id": "bb8203e9-9036-4aa4-96b6-13a8dba802ff",
   "metadata": {},
   "outputs": [
    {
     "data": {
      "text/plain": [
       "'A federal judge on Thursday imposed a preliminary injunction'"
      ]
     },
     "execution_count": 25,
     "metadata": {},
     "output_type": "execute_result"
    }
   ],
   "source": [
    "removed_punctuation_train.iloc[0][:60]"
   ]
  },
  {
   "cell_type": "code",
   "execution_count": null,
   "id": "509eab35-4726-4808-9085-542b515d2f38",
   "metadata": {},
   "outputs": [],
   "source": []
  },
  {
   "cell_type": "code",
   "execution_count": 26,
   "id": "1beedf46-366c-4ca3-a956-99712f91a869",
   "metadata": {},
   "outputs": [],
   "source": [
    "import gensim\n",
    "all_stopwords = gensim.parsing.preprocessing.STOPWORDS"
   ]
  },
  {
   "cell_type": "code",
   "execution_count": 27,
   "id": "d33a17a1-bba8-42e2-abd4-db5a153bf978",
   "metadata": {},
   "outputs": [],
   "source": [
    "from gensim.parsing.preprocessing import STOPWORDS\n",
    "\n",
    "all_stopwords_gensim = STOPWORDS.union(set(['the','say','said','get','it','in','like','new','year']))"
   ]
  },
  {
   "cell_type": "code",
   "execution_count": 28,
   "id": "26113ec8-6e2b-4605-9996-61ecefc0820c",
   "metadata": {},
   "outputs": [],
   "source": [
    "removed_stop_words_train = removed_stop_words_train.apply(lambda x: \" \".join([word for word in word_tokenize(x) if word not in all_stopwords_gensim]))\n",
    "removed_stop_words_test = removed_stop_words_test.apply(lambda x: \" \".join([word for word in word_tokenize(x) if word not in all_stopwords_gensim]))"
   ]
  },
  {
   "cell_type": "code",
   "execution_count": null,
   "id": "3a7a637d-e7e4-4650-b519-a42ee2b074d4",
   "metadata": {},
   "outputs": [],
   "source": []
  },
  {
   "cell_type": "code",
   "execution_count": 29,
   "id": "c3714c09-9c30-457a-8d32-ebebd79559f6",
   "metadata": {},
   "outputs": [],
   "source": [
    "import spacy\n",
    "sp = spacy.load('en_core_web_sm')\n",
    "\n",
    "all_stopwords = sp.Defaults.stop_words"
   ]
  },
  {
   "cell_type": "code",
   "execution_count": 30,
   "id": "5c44bb75-de69-4f49-92d3-0e4d71ef80cb",
   "metadata": {},
   "outputs": [],
   "source": [
    "removed_stop_words_train = removed_stop_words_train.apply(lambda x: \" \".join([word for word in word_tokenize(x) if word not in all_stopwords]))\n",
    "removed_stop_words_test = removed_stop_words_test.apply(lambda x: \" \".join([word for word in word_tokenize(x) if word not in all_stopwords]))"
   ]
  },
  {
   "cell_type": "code",
   "execution_count": null,
   "id": "859b1ede-3b05-4342-9740-7ce5cb07070d",
   "metadata": {},
   "outputs": [],
   "source": []
  },
  {
   "cell_type": "code",
   "execution_count": null,
   "id": "b1337e67-6c51-4684-ad5a-2fe165bb62df",
   "metadata": {},
   "outputs": [],
   "source": []
  },
  {
   "cell_type": "markdown",
   "id": "cf8e6a42-f29d-4ece-9507-ff9dd9b3b9ad",
   "metadata": {
    "jp-MarkdownHeadingCollapsed": true,
    "tags": []
   },
   "source": [
    "## Stem and Lemmatize"
   ]
  },
  {
   "cell_type": "code",
   "execution_count": 31,
   "id": "038d073a-7bda-4747-b1db-ce3b039dc966",
   "metadata": {},
   "outputs": [],
   "source": [
    "from nltk.stem.porter import PorterStemmer"
   ]
  },
  {
   "cell_type": "code",
   "execution_count": 32,
   "id": "dd61b44a-372b-4583-b4a7-c902ae0bf2fc",
   "metadata": {},
   "outputs": [],
   "source": [
    "stemmer = PorterStemmer()"
   ]
  },
  {
   "cell_type": "code",
   "execution_count": 33,
   "id": "9f71f47f-702c-45fd-817a-e02f358b8cb9",
   "metadata": {},
   "outputs": [],
   "source": [
    "stem_train = removed_stop_words_train.apply(lambda x: \" \".join([stemmer.stem(word) for word in word_tokenize(x)]))\n",
    "stem_test = removed_stop_words_test.apply(lambda x: \" \".join([stemmer.stem(word) for word in word_tokenize(x)]))"
   ]
  },
  {
   "cell_type": "code",
   "execution_count": null,
   "id": "3bd9353f-24b3-4029-a6d5-55f00b7d215e",
   "metadata": {},
   "outputs": [],
   "source": []
  },
  {
   "cell_type": "code",
   "execution_count": 34,
   "id": "a4d0009f-4115-4a5a-97e0-d3076f3ef761",
   "metadata": {},
   "outputs": [],
   "source": [
    "from nltk.stem import WordNetLemmatizer"
   ]
  },
  {
   "cell_type": "code",
   "execution_count": 35,
   "id": "f382476c-3cbc-431c-a894-f7e75adff2f8",
   "metadata": {},
   "outputs": [],
   "source": [
    "lemmatizer = WordNetLemmatizer()"
   ]
  },
  {
   "cell_type": "code",
   "execution_count": 36,
   "id": "748fb7e6-b581-4bb7-8c3b-4aa5554812ab",
   "metadata": {},
   "outputs": [],
   "source": [
    "lemma_train = stem_train.apply(lambda x: \" \".join([lemmatizer.lemmatize(word) for word in word_tokenize(x)]))\n",
    "lemma_test = stem_test.apply(lambda x: \" \".join([lemmatizer.lemmatize(word) for word in word_tokenize(x)]))"
   ]
  },
  {
   "cell_type": "code",
   "execution_count": null,
   "id": "210c5e14-3501-47e4-ac42-408334b49413",
   "metadata": {},
   "outputs": [],
   "source": []
  },
  {
   "cell_type": "markdown",
   "id": "dc4ddea5-e039-4ace-8752-76308136a1bb",
   "metadata": {},
   "source": [
    "# Topic modelling"
   ]
  },
  {
   "cell_type": "code",
   "execution_count": 37,
   "id": "360a6673-51c5-4f2d-9a37-b46a6c3871fc",
   "metadata": {},
   "outputs": [],
   "source": [
    "from sklearn.feature_extraction.text import CountVectorizer,TfidfVectorizer\n",
    "from sklearn.decomposition import LatentDirichletAllocation\n"
   ]
  },
  {
   "cell_type": "code",
   "execution_count": 38,
   "id": "cc2f428c-82b1-4d0f-90a1-634429f66547",
   "metadata": {},
   "outputs": [],
   "source": [
    "vectorizer = CountVectorizer(stop_words='english')\n",
    "dtm = vectorizer.fit_transform(lemma_train)"
   ]
  },
  {
   "cell_type": "markdown",
   "id": "21190c3c-b955-4515-9327-b34af1c5d377",
   "metadata": {
    "jp-MarkdownHeadingCollapsed": true,
    "tags": []
   },
   "source": [
    "## Old models"
   ]
  },
  {
   "cell_type": "code",
   "execution_count": 73,
   "id": "f28048c2-0971-413b-bf32-b81ec218b6a2",
   "metadata": {},
   "outputs": [],
   "source": [
    "lda_30 = LatentDirichletAllocation(n_components=30)"
   ]
  },
  {
   "cell_type": "code",
   "execution_count": 74,
   "id": "aa569828-240c-4c9f-a04c-4b2fdb013c59",
   "metadata": {},
   "outputs": [
    {
     "data": {
      "text/plain": [
       "array([[1.11482720e-04, 3.97984778e-02, 1.11482720e-04, ...,\n",
       "        1.11482720e-04, 1.11482720e-04, 1.11482720e-04],\n",
       "       [1.14942529e-04, 1.14942529e-04, 1.14942529e-04, ...,\n",
       "        1.14942529e-04, 1.14942529e-04, 1.14942529e-04],\n",
       "       [3.30033003e-04, 3.30033003e-04, 3.30033003e-04, ...,\n",
       "        3.30033003e-04, 3.30033003e-04, 3.30033003e-04],\n",
       "       ...,\n",
       "       [3.00347024e-01, 4.90918017e-05, 3.16059712e-01, ...,\n",
       "        4.90918017e-05, 4.90918017e-05, 6.61894150e-02],\n",
       "       [1.29592102e-01, 5.73723465e-05, 2.06598048e-01, ...,\n",
       "        6.63064510e-02, 5.73723465e-05, 5.73723465e-05],\n",
       "       [4.39753738e-05, 4.39753738e-05, 4.39753738e-05, ...,\n",
       "        4.39753738e-05, 4.39753738e-05, 2.18044985e-02]])"
      ]
     },
     "execution_count": 74,
     "metadata": {},
     "output_type": "execute_result"
    }
   ],
   "source": [
    "lda_30.fit_transform(dtm)"
   ]
  },
  {
   "cell_type": "code",
   "execution_count": 75,
   "id": "6cb38829-ba41-43bb-bf2e-adbd3a74b904",
   "metadata": {},
   "outputs": [],
   "source": [
    "sorting = np.argsort(lda_30.components_)[:,::-1]\n",
    "features = np.array(vectorizer.get_feature_names())"
   ]
  },
  {
   "cell_type": "code",
   "execution_count": 76,
   "id": "9de855fe-dbe0-4a74-93ff-638aa22f9fd3",
   "metadata": {},
   "outputs": [
    {
     "name": "stdout",
     "output_type": "stream",
     "text": [
      "topic 0       topic 1       topic 2       topic 3       topic 4       topic 5       topic 6       topic 7       topic 8       topic 9       \n",
      "--------      --------      --------      --------      --------      --------      --------      --------      --------      --------      \n",
      "peopl         china         new           capitol       border        tax           citi          florida       peopl         woman         \n",
      "famili        chine         white         polic         immigr        percent       school        desanti       polit         child         \n",
      "home          state         polit         offic         biden         trade         new           state         trump         care          \n",
      "live          world         time          attack        administr     increas       student       ron           medium        famili        \n",
      "year          global        peopl         violenc       migrant       rate          mayor         miami         social        report        \n",
      "day           countri       hous          secur         texa          ir            york          gaetz         think         peopl         \n",
      "time          govern        biden         peopl         polici        propos        educ          governor      facebook      health        \n",
      "work          beij          presid        member        trump         state         state         canada        way           parent        \n",
      "life          foreign       report        protest       child         billion       adam          gov           right         work          \n",
      "die           intern        playbook      report        presid        democrat      candid        politico      time          medic         \n",
      "\n",
      "\n",
      "topic 10      topic 11      topic 12      topic 13      topic 14      topic 15      topic 16      topic 17      topic 18      topic 19      \n",
      "--------      --------      --------      --------      --------      --------      --------      --------      --------      --------      \n",
      "russia        tech          state         depart        worker        new           mask          republican    trump         vaccin        \n",
      "russian       compani       boston        investig      feder         state         state         democrat      presid        health        \n",
      "biden         facebook      chicago       attorney      state         cuomo         mandat        state         republican    covid19       \n",
      "putin         googl         illinoi       justic        administr     york          texa          parti         hous          peopl         \n",
      "state         antitrust     massachusett  feder         program       jersey        hous          campaign      senat         biden         \n",
      "secur         platform      citi          gener         work          governor      republican    gop           elect         state         \n",
      "offici        amazon        mayor         case          biden         offic         vaccin        elect         impeach       administr     \n",
      "govern        technolog     report        court         hous          citi          vote          rep           donald        dose          \n",
      "sanction      appl          vaccin        prosecutor    job           counti        requir        candid        vote          offici        \n",
      "cyber         ftc           rep           law           need          nj            wear          run           capitol       pandem        \n",
      "\n",
      "\n",
      "topic 20      topic 21      topic 22      topic 23      topic 24      topic 25      topic 26      topic 27      topic 28      topic 29      \n",
      "--------      --------      --------      --------      --------      --------      --------      --------      --------      --------      \n",
      "hous          polic         infrastructur court         group         bank          biden         climat        california    senat         \n",
      "democrat      floyd         senat         state         llc           economi       presid        energi        newsom        democrat      \n",
      "biden         offic         democrat      elect         associ        biden         administr     biden         state         vote          \n",
      "senat         chauvin       republican    vote          space         tax           hous          israel        recal         biden         \n",
      "rep           black         hous          law           strategi      econom        white         emiss         san           republican    \n",
      "committe      georg         bipartisan    suprem        govern        financi       secretari     ga            counti        legisl        \n",
      "leader        death         biden         right         compani       market        offici        iran          time          hous          \n",
      "vote          murder        sen           voter         lobbi         percent       militari      carbon        la            presid        \n",
      "member        trial         plan          ballot        affair        job           trump         oil           asian         pas           \n",
      "gop           minneapoli    packag        justic        pac           inflat        afghanistan   administr     gavin         right         \n",
      "\n",
      "\n"
     ]
    }
   ],
   "source": [
    "import mglearn\n",
    "mglearn.tools.print_topics(topics=range(30),feature_names=features,\n",
    "                           sorting= sorting, topics_per_chunk=10,n_words=10)"
   ]
  },
  {
   "cell_type": "code",
   "execution_count": null,
   "id": "8811c0f4-30d5-42b7-9405-3e2f83bb6a9a",
   "metadata": {},
   "outputs": [],
   "source": []
  },
  {
   "cell_type": "code",
   "execution_count": null,
   "id": "b1cdc83b-1d5a-4366-9420-574b146faf33",
   "metadata": {},
   "outputs": [],
   "source": []
  },
  {
   "cell_type": "code",
   "execution_count": 77,
   "id": "0bf80832-61df-46af-bdde-917419e80af1",
   "metadata": {},
   "outputs": [],
   "source": [
    "lda_40 = LatentDirichletAllocation(n_components=40)"
   ]
  },
  {
   "cell_type": "code",
   "execution_count": 78,
   "id": "fa493338-4fb9-4be8-b01d-afa45f800411",
   "metadata": {},
   "outputs": [
    {
     "data": {
      "text/plain": [
       "array([[8.36120401e-05, 8.36120401e-05, 8.36120401e-05, ...,\n",
       "        8.36120401e-05, 8.36120401e-05, 8.36120401e-05],\n",
       "       [8.62068966e-05, 8.62068966e-05, 8.62068966e-05, ...,\n",
       "        8.62068966e-05, 9.31281673e-01, 8.62068966e-05],\n",
       "       [2.47524752e-04, 2.47524752e-04, 2.47524752e-04, ...,\n",
       "        2.47524752e-04, 9.90346535e-01, 2.47524752e-04],\n",
       "       ...,\n",
       "       [3.68188513e-05, 2.38410412e-01, 3.32716223e-02, ...,\n",
       "        3.68188513e-05, 3.68188513e-05, 3.68188513e-05],\n",
       "       [4.30292599e-05, 2.80962809e-01, 4.30292599e-05, ...,\n",
       "        2.59201089e-02, 4.30292599e-05, 4.30292599e-05],\n",
       "       [3.29815303e-05, 3.29815303e-05, 3.29815303e-05, ...,\n",
       "        3.29815303e-05, 3.29815303e-05, 3.29815303e-05]])"
      ]
     },
     "execution_count": 78,
     "metadata": {},
     "output_type": "execute_result"
    }
   ],
   "source": [
    "lda_40.fit_transform(dtm)"
   ]
  },
  {
   "cell_type": "code",
   "execution_count": 79,
   "id": "085cd214-7dce-4741-a83d-358e2305b614",
   "metadata": {},
   "outputs": [],
   "source": [
    "sorting = np.argsort(lda_40.components_)[:,::-1]\n",
    "features = np.array(vectorizer.get_feature_names())"
   ]
  },
  {
   "cell_type": "code",
   "execution_count": 80,
   "id": "dbdb7d6c-41a3-44e3-a293-6cb49932b39d",
   "metadata": {},
   "outputs": [
    {
     "name": "stdout",
     "output_type": "stream",
     "text": [
      "topic 0       topic 1       topic 2       topic 3       topic 4       topic 5       topic 6       topic 7       topic 8       topic 9       \n",
      "--------      --------      --------      --------      --------      --------      --------      --------      --------      --------      \n",
      "cuomo         biden         rep           polit         drug          school        vaccin        hous          florida       texa          \n",
      "new           presid        hous          woman         fda           student       health        committe      desanti       abbott        \n",
      "governor      white         state         think         approv        educ          dose          mccarthi      state         state         \n",
      "york          hous          illinoi       peopl         agenc         state         shot          space         ron           school        \n",
      "investig      administr     chicago       time          report        cyber         million       republican    miami         critic        \n",
      "sexual        trump         report        republican    opioid        govern        countri       rep           governor      race          \n",
      "attorney      secretari     director      state         price         depart        peopl         cheney        gov           theori        \n",
      "report        joe           playbook      democrat      medic         agenc         covid19       pelosi        beach         teach         \n",
      "alleg         press         sen           parti         patient       secur         pandem        member        counti        greg          \n",
      "state         offici        democrat      elect         health        attack        offici        commiss       school        new           \n",
      "\n",
      "\n",
      "topic 10      topic 11      topic 12      topic 13      topic 14      topic 15      topic 16      topic 17      topic 18      topic 19      \n",
      "--------      --------      --------      --------      --------      --------      --------      --------      --------      --------      \n",
      "vaccin        trump         democrat      biden         trump         climat        polic         california    new           state         \n",
      "mask          republican    parti         administr     presid        energi        black         newsom        citi          boston        \n",
      "covid19       parti         polit         immigr        donald        biden         peopl         state         york          new           \n",
      "peopl         campaign      progress      border        claim         administr     famili        recal         mayor         jersey        \n",
      "state         presid        peopl         polici        new           ga            offic         san           state         citi          \n",
      "health        gop           republican    trump         giuliani      environment   kill          time          adam          massachusett  \n",
      "coronaviru    run           american      presid        elect         emiss         citi          la            candid        mayor         \n",
      "case          candid        campaign      hous          polit         chang         shoot         counti        yang          school        \n",
      "cdc           elect         biden         migrant       compani       infrastructur commun        democrat      time          murphi        \n",
      "mandat        state         think         offici        medium        industri      white         politico      blasio        nj            \n",
      "\n",
      "\n",
      "topic 20      topic 21      topic 22      topic 23      topic 24      topic 25      topic 26      topic 27      topic 28      topic 29      \n",
      "--------      --------      --------      --------      --------      --------      --------      --------      --------      --------      \n",
      "elect         farmer        trump         senat         facebook      capitol       compani       health        china         israel        \n",
      "vote          group         investig      democrat      tech          offic         politico      care          defens        canada        \n",
      "state         domest        depart        republican    compani       polic         industri      administr     militari      isra          \n",
      "voter         secur         report        vote          platform      trump         morn          biden         biden         minist        \n",
      "georgia       terror        offici        hous          googl         attack        group         feder         state         palestinian   \n",
      "republican    agricultur    justic        biden         antitrust     riot          director      union         nation        govern        \n",
      "ballot        usda          inform        legisl        social        januari       firm          worker        foreign       canadian      \n",
      "law           threat        intellig      pas           twitter       charg         report        polici        countri       prime         \n",
      "gun           extremist     presid        sen           medium        jan           technolog     politico      iran          trudeau       \n",
      "democrat      farm          record        bipartisan    ftc           insurrect     polici        state         secur         gaza          \n",
      "\n",
      "\n",
      "topic 30      topic 31      topic 32      topic 33      topic 34      topic 35      topic 36      topic 37      topic 38      topic 39      \n",
      "--------      --------      --------      --------      --------      --------      --------      --------      --------      --------      \n",
      "gaetz         peopl         water         green         floyd         court         trump         asian         afghanistan   tax           \n",
      "sex           right         state         border        polic         suprem        impeach       american      taliban       percent       \n",
      "epstein       state         peopl         migrant       chauvin       judg          llc           hate          afghan        job           \n",
      "greenberg     law           citi          fox           offic         justic        group         cheney        troop         biden         \n",
      "feder         work          home          republican    trial         case          presid        crime         militari      pandem        \n",
      "investig      child         resid         marjori       georg         law           trial         atlanta       biden         plan          \n",
      "charg         school        area          new           minneapoli    rule          senat         woman         forc          econom        \n",
      "alleg         live          counti        hous          murder        feder         associ        commun        american      economi       \n",
      "traffick      woman         heat          taylor        death         decis         strategi      shoot         countri       worker        \n",
      "woman         famili        marijuana     comment       derek         appeal        manag         attack        withdraw      increas       \n",
      "\n",
      "\n"
     ]
    }
   ],
   "source": [
    "import mglearn\n",
    "mglearn.tools.print_topics(topics=range(40),feature_names=features,\n",
    "                           sorting= sorting, topics_per_chunk=10,n_words=10)"
   ]
  },
  {
   "cell_type": "code",
   "execution_count": null,
   "id": "b4e844af-a8f9-4d00-8151-c57d036d7d17",
   "metadata": {},
   "outputs": [],
   "source": []
  },
  {
   "cell_type": "code",
   "execution_count": null,
   "id": "2380fb80-f480-4a11-802b-a390aeb504ad",
   "metadata": {},
   "outputs": [],
   "source": []
  },
  {
   "cell_type": "code",
   "execution_count": null,
   "id": "4d5f3fc9-6cf6-4a47-af8b-29a22aab9745",
   "metadata": {},
   "outputs": [],
   "source": []
  },
  {
   "cell_type": "code",
   "execution_count": 81,
   "id": "d50e248c-d311-4c82-897d-165eac30de19",
   "metadata": {},
   "outputs": [],
   "source": [
    "lda_50 = LatentDirichletAllocation(n_components=50)"
   ]
  },
  {
   "cell_type": "code",
   "execution_count": null,
   "id": "37fb04cd-1ba8-43f5-b215-4eafa8fce273",
   "metadata": {},
   "outputs": [
    {
     "data": {
      "text/plain": [
       "array([[6.68896321e-05, 6.68896321e-05, 6.68896321e-05, ...,\n",
       "        6.68896321e-05, 6.68896321e-05, 6.68896321e-05],\n",
       "       [6.89655172e-05, 6.89655172e-05, 6.89655172e-05, ...,\n",
       "        6.89655172e-05, 6.89655172e-05, 6.89655172e-05],\n",
       "       [1.98019802e-04, 1.98019802e-04, 1.98019802e-04, ...,\n",
       "        1.98019802e-04, 1.98019802e-04, 1.98019802e-04],\n",
       "       ...,\n",
       "       [2.94550810e-05, 2.94550810e-05, 2.94550810e-05, ...,\n",
       "        2.94550810e-05, 2.94550810e-05, 1.02842594e-01],\n",
       "       [3.44234079e-05, 3.44234079e-05, 3.44234079e-05, ...,\n",
       "        1.87434262e-02, 3.44234079e-05, 3.44234079e-05],\n",
       "       [2.63852243e-05, 2.63852243e-05, 2.63852243e-05, ...,\n",
       "        2.63852243e-05, 2.63852243e-05, 2.63852243e-05]])"
      ]
     },
     "execution_count": 82,
     "metadata": {},
     "output_type": "execute_result"
    }
   ],
   "source": [
    "lda_50.fit_transform(dtm)"
   ]
  },
  {
   "cell_type": "code",
   "execution_count": null,
   "id": "7785e5bb-9806-4e58-9a8f-b3cf050dc746",
   "metadata": {},
   "outputs": [],
   "source": [
    "sorting = np.argsort(lda_50.components_)[:,::-1]\n",
    "features = np.array(vectorizer.get_feature_names())"
   ]
  },
  {
   "cell_type": "code",
   "execution_count": null,
   "id": "1c4b5be5-1981-4604-a6b4-3c984f1d8727",
   "metadata": {},
   "outputs": [
    {
     "name": "stdout",
     "output_type": "stream",
     "text": [
      "topic 0       topic 1       topic 2       topic 3       topic 4       topic 5       topic 6       topic 7       topic 8       topic 9       \n",
      "--------      --------      --------      --------      --------      --------      --------      --------      --------      --------      \n",
      "woman         tax           polic         vaccin        polit         state         state         space         biden         compani       \n",
      "epstein       infrastructur offic         health        peopl         vote          citi          forc          presid        facebook      \n",
      "sex           democrat      flight        covid19       percent       elect         new           govern        russia        tech          \n",
      "athlet        biden         spear         peopl         voter         texa          mayor         nation        russian       platform      \n",
      "girl          senat         video         state         democrat      democrat      offic         war           administr     googl         \n",
      "sexual        plan          spray         dose          republican    republican    vaccin        nuclear       putin         antitrust     \n",
      "transgend     packag        passeng       shot          think         voter         public        year          offici        twitter       \n",
      "sport         republican    evan          offici        american      law           time          state         trump         social        \n",
      "jordan        propos        footag        covid         parti         georgia       report        unit          state         medium        \n",
      "victim        hous          capitol       pandem        elect         legisl        governor      militari      foreign       technolog     \n",
      "\n",
      "\n",
      "topic 10      topic 11      topic 12      topic 13      topic 14      topic 15      topic 16      topic 17      topic 18      topic 19      \n",
      "--------      --------      --------      --------      --------      --------      --------      --------      --------      --------      \n",
      "democrat      climat        border        black         iran          group         florida       program       union         biden         \n",
      "senat         energi        immigr        peopl         nuclear       llc           state         worker        labor         presid        \n",
      "republican    biden         administr     citi          deal          associ        desanti       feder         worker        white         \n",
      "hous          emiss         migrant       commun        iranian       strategi      chicago       work          organ         hous          \n",
      "vote          administr     biden         american      state         pac           illinoi       fund          support       joe           \n",
      "rep           chang         child         white         offici        lobbi         counti        pandem        member        american      \n",
      "sen           carbon        polici        live          sanction      llp           report        state         right         administr     \n",
      "gop           environment   famili        racial        report        affair        rep           depart        amazon        psaki         \n",
      "parti         electr        trump         home          tehran        govern        politico      administr     group         press         \n",
      "committe      infrastructur evict         histori       agreement     firm          democrat      provid        sander        harri         \n",
      "\n",
      "\n",
      "topic 20      topic 21      topic 22      topic 23      topic 24      topic 25      topic 26      topic 27      topic 28      topic 29      \n",
      "--------      --------      --------      --------      --------      --------      --------      --------      --------      --------      \n",
      "news          boston        trade         water         biden         china         israel        counti        health        gun           \n",
      "stori         massachusett  biden         state         presid        global        isra          arizona       care          violenc       \n",
      "time          state         administr     power         trump         countri       palestinian   audit         abort         prison        \n",
      "journalist    baker         cuba          environment   senat         world         gaza          heat          drug          shoot         \n",
      "publish       globe         cuban         oil           hous          chine         netanyahu     elect         biden         firearm       \n",
      "newspap       vaccin        tariff        industri      polit         govern        hama          temperatur    medic         peopl         \n",
      "editor        mayor         china         energi        today         state         ceasefir      state         administr     weapon        \n",
      "medium        school        polici        project       day           intern        haiti         offici        politico      kill          \n",
      "new           rep           presid        ga            week          foreign       rocket        wildfir       state         mass          \n",
      "outlet        janey         countri       texa          democrat      biden         biden         worker        polici        check         \n",
      "\n",
      "\n",
      "topic 30      topic 31      topic 32      topic 33      topic 34      topic 35      topic 36      topic 37      topic 38      topic 39      \n",
      "--------      --------      --------      --------      --------      --------      --------      --------      --------      --------      \n",
      "peopl         trump         senat         new           trump         secur         trump         california    court         defens        \n",
      "think         republican    biden         citi          impeach       cyber         capitol       newsom        data          militari      \n",
      "time          elect         right         york          senat         attack        hous          recal         district      pentagon      \n",
      "know          parti         vote          mayor         trial         agenc         presid        state         censu         senat         \n",
      "thing         presid        democrat      adam          presid        cybersecur    offic         san           tree          servic        \n",
      "work          state         justic        state         vote          govern        attack        la            redistrict    forc          \n",
      "want          campaign      republican    candid        gaetz         ransomwar     republican    gavin         map           biden         \n",
      "say           run           presid        yang          republican    intellig      jan           time          popul         committe      \n",
      "way           gop           hous          campaign      hous          pipelin       member        counti        bureau        secretari     \n",
      "year          candid        legisl        blasio        manag         report        day           governor      state         nation        \n",
      "\n",
      "\n",
      "topic 40      topic 41      topic 42      topic 43      topic 44      topic 45      topic 46      topic 47      topic 48      topic 49      \n",
      "--------      --------      --------      --------      --------      --------      --------      --------      --------      --------      \n",
      "polic         afghanistan   asian         court         jersey        school        green         bank          cuomo         biden         \n",
      "floyd         taliban       shoot         case          new           mask          taylor        financi       investig      hous          \n",
      "offic         afghan        american      justic        state         student       marjori       market        new           white         \n",
      "chauvin       biden         crime         law           nj            educ          comment       economi       york          administr     \n",
      "georg         troop         hate          depart        murphi        child         democrat      percent       governor      secretari     \n",
      "minneapoli    american      polic         judg          counti        teacher       hous          econom        attorney      presid        \n",
      "death         militari      kill          charg         school        mandat        tweet         busi          report        director      \n",
      "murder        countri       woman         feder         citi          district      omar          compani       alleg         report        \n",
      "trial         forc          peopl         attorney      offic         state         mccarthi      job           state         playbook      \n",
      "black         presid        commun        polic         record        wear          qanon         inflat        trump         staff         \n",
      "\n",
      "\n"
     ]
    }
   ],
   "source": [
    "import mglearn\n",
    "mglearn.tools.print_topics(topics=range(50),feature_names=features,\n",
    "                           sorting= sorting, topics_per_chunk=10,n_words=10)"
   ]
  },
  {
   "cell_type": "code",
   "execution_count": null,
   "id": "712219d5-3e25-46e8-8142-dcd9e20e6539",
   "metadata": {},
   "outputs": [],
   "source": []
  },
  {
   "cell_type": "code",
   "execution_count": null,
   "id": "11a27e54-b032-46e8-a78b-af9fb97c04aa",
   "metadata": {},
   "outputs": [],
   "source": []
  },
  {
   "cell_type": "code",
   "execution_count": 39,
   "id": "ad763646-2632-48e3-92ce-43be165b71c3",
   "metadata": {},
   "outputs": [],
   "source": [
    "lda_100 = LatentDirichletAllocation(n_components=100)"
   ]
  },
  {
   "cell_type": "code",
   "execution_count": 40,
   "id": "0b5520ab-5c4c-4008-b651-8bc0a7cda2ac",
   "metadata": {},
   "outputs": [
    {
     "data": {
      "text/plain": [
       "array([[3.34448161e-05, 3.34448161e-05, 3.34448161e-05, ...,\n",
       "        3.34448161e-05, 3.34448161e-05, 3.34448161e-05],\n",
       "       [3.44827586e-05, 3.44827586e-05, 3.44827586e-05, ...,\n",
       "        3.44827586e-05, 3.44827586e-05, 3.44827586e-05],\n",
       "       [9.90099010e-05, 9.90099010e-05, 9.90099010e-05, ...,\n",
       "        9.90099010e-05, 9.90099010e-05, 9.90099010e-05],\n",
       "       ...,\n",
       "       [1.47275405e-05, 1.78846843e-02, 1.75608717e-02, ...,\n",
       "        1.47275405e-05, 1.47275405e-05, 1.47275405e-05],\n",
       "       [1.72117040e-05, 1.72117040e-05, 1.72117040e-05, ...,\n",
       "        1.72117040e-05, 1.72117040e-05, 1.73442148e-02],\n",
       "       [1.31926121e-05, 1.31926121e-05, 1.31926121e-05, ...,\n",
       "        1.31926121e-05, 1.31926121e-05, 3.42146013e-02]])"
      ]
     },
     "execution_count": 40,
     "metadata": {},
     "output_type": "execute_result"
    }
   ],
   "source": [
    "lda_100.fit_transform(dtm)"
   ]
  },
  {
   "cell_type": "code",
   "execution_count": 41,
   "id": "9377edf8-d079-4325-ac9e-edd2ac92a668",
   "metadata": {},
   "outputs": [],
   "source": [
    "sorting = np.argsort(lda_100.components_)[:,::-1]\n",
    "features = np.array(vectorizer.get_feature_names())"
   ]
  },
  {
   "cell_type": "code",
   "execution_count": 42,
   "id": "76537ced-0829-4337-bf14-879a2dcb00fa",
   "metadata": {
    "tags": []
   },
   "outputs": [
    {
     "name": "stdout",
     "output_type": "stream",
     "text": [
      "topic 0       topic 1       topic 2       topic 3       topic 4       topic 5       topic 6       topic 7       topic 8       topic 9       \n",
      "--------      --------      --------      --------      --------      --------      --------      --------      --------      --------      \n",
      "epstein       fish          electr        vote          iran          travel        california    korea         virginia      holiday       \n",
      "sex           state         vehicl        state         israel        border        newsom        north         mcauliff      juneteenth    \n",
      "victim        tribe         car           elect         isra          princ         state         korean        bennett       repar         \n",
      "traffick      florida       batteri       right         palestinian   restrict      san           senat         netanyahu     cathol        \n",
      "maxwel        wildlif       compani       voter         nuclear       canada        la            amend         youngkin      state         \n",
      "charg         bay           truck         law           deal          vaccin        counti        jayap         parti         church        \n",
      "prison        casino        ford          republican    state         queen         francisco     infrastructur govern        celebr        \n",
      "abus          water         plant         legisl        gaza          king          lo            kim           carrol        feder         \n",
      "girl          speci         manufactur    georgia       biden         royal         angel         cryptocurr    northam       slaveri       \n",
      "gate          environment   industri      ballot        iranian       fulli         time          portman       terri         day           \n",
      "\n",
      "\n",
      "topic 10      topic 11      topic 12      topic 13      topic 14      topic 15      topic 16      topic 17      topic 18      topic 19      \n",
      "--------      --------      --------      --------      --------      --------      --------      --------      --------      --------      \n",
      "transport     nightli       polic         sea           tanden        state         recast        floyd         citi          agricultur    \n",
      "politico      peopl         offic         boat          nomin         lindel        think         wright        mayor         farmer        \n",
      "buttigieg     power         floyd         coast         confirm       vaccin        black         chauvin       adam          program       \n",
      "infrastructur pandem        black         bezo          budget        hochul        peopl         death         new           farm          \n",
      "transit       winter        georg         elli          omb           new           im            offic         yang          food          \n",
      "report        state         justic        calif         neera         york          american      polic         york          usda          \n",
      "rail          storm         murder        eat           young         passport      thing         nelson        candid        loan          \n",
      "pro           covid         kill          ocean         director      govern        know          caus          campaign      busi          \n",
      "new           citi          protest       water         tweet         governor      dont          heart         garcia        administr     \n",
      "feder         today         minneapoli    reffitt       uber          hutchinson    talk          say           race          vilsack       \n",
      "\n",
      "\n",
      "topic 20      topic 21      topic 22      topic 23      topic 24      topic 25      topic 26      topic 27      topic 28      topic 29      \n",
      "--------      --------      --------      --------      --------      --------      --------      --------      --------      --------      \n",
      "florida       senat         floyd         state         wage          recal         black         jersey        home          space         \n",
      "desanti       democrat      chauvin       new           minimum       newsom        american      new           nurs          fda           \n",
      "state         vote          trial         public        15            california    white         nj            veteran       drug          \n",
      "ron           republican    derek         health        sander        governor      peopl         murphi        death         agenc         \n",
      "miami         sen           georg         budget        relief        state         racial        state         die           compani       \n",
      "gov           legisl        minneapoli    offici        increas       republican    race          counti        state         test          \n",
      "republican    manchin       offic         citi          parliamentarianjenner        group         citi          resid         nasa          \n",
      "democrat      filibust      murder        politico      rais          elect         commun        record        va            report        \n",
      "politico      major         neck          law           hour          democrat      right         phil          facil         approv        \n",
      "senat         schumer       knee          fund          worker        campaign      polit         democrat      staff         product       \n",
      "\n",
      "\n",
      "topic 30      topic 31      topic 32      topic 33      topic 34      topic 35      topic 36      topic 37      topic 38      topic 39      \n",
      "--------      --------      --------      --------      --------      --------      --------      --------      --------      --------      \n",
      "trump         attorney      desanti       sexual        peopl         border        cuomo         new           compani       biden         \n",
      "presid        justic        florida       militari      year          immigr        new           citi          tech          presid        \n",
      "impeach       court         trump         assault       time          migrant       governor      york          facebook      white         \n",
      "senat         gener         penc          gillibrand    know          administr     york          state         googl         hous          \n",
      "republican    garland       governor      command       thing         biden         investig      mayor         platform      secretari     \n",
      "capitol       biden         conserv       chang         think         child         alleg         cuomo         antitrust     administr     \n",
      "trial         confirm       2024          servic        work          polici        state         time          appl          want          \n",
      "vote          senat         beach         shultz        day           mexico        report        offic         ftc           meet          \n",
      "hous          presid        presid        crime         way           trump         sexual        blasio        twitter       report        \n",
      "elect         trump         event         hyde          famili        famili        harass        andrew        social        press         \n",
      "\n",
      "\n",
      "topic 40      topic 41      topic 42      topic 43      topic 44      topic 45      topic 46      topic 47      topic 48      topic 49      \n",
      "--------      --------      --------      --------      --------      --------      --------      --------      --------      --------      \n",
      "tax           tree          infrastructur new           polit         bank          board         energi        state         olymp         \n",
      "democrat      stoneman      biden         idaho         think         market        report        climat        peopl         game          \n",
      "biden         forest        hous          mondal        peopl         financi       politico      administr     vaccin        hong          \n",
      "corpor        pfa           plan          carter        medium        economi       facebook      environment   citi          kong          \n",
      "plan          land          democrat      york          time          inflat        hous          ga            lotteri       tokyo         \n",
      "propos        chemic        republican    polit         news          stock         polici        oil           governor      athlet        \n",
      "credit        nomin         packag        democrat      work          percent       today         biden         announc       china         \n",
      "debt          lead          bipartisan    state         way           compani       morn          pro           week          sign          \n",
      "pay           letter        spend         giuliani      stori         investor      trump         compani       parker        right         \n",
      "incom         burn          senat         governor      want          econom        director      epa           resid         polit         \n",
      "\n",
      "\n",
      "topic 50      topic 51      topic 52      topic 53      topic 54      topic 55      topic 56      topic 57      topic 58      topic 59      \n",
      "--------      --------      --------      --------      --------      --------      --------      --------      --------      --------      \n",
      "trump         brown         worker        chicago       trump         mask          health        depart        china         school        \n",
      "presid        opioid        job           illinoi       republican    vaccin        care          offici        chine         student       \n",
      "gaetz         suicid        work          state         state         mandat        patient       secur         state         educ          \n",
      "giuliani      addict        pandem        report        senat         cdc           medic         report        foreign       teacher       \n",
      "pardon        ross          benefit       tribun        run           wear          data          investig      beij          colleg        \n",
      "hous          cicada        unemploy      citi          presid        requir        pandem        agenc         unit          district      \n",
      "white         bailey        million       suntim        gop           peopl         peopl         administr     world         univers       \n",
      "campaign      painkil       peopl         counti        primari       covid19       hospit        inform        nation        child         \n",
      "miller        oxycontin     program       public        candid        health        doctor        offic         blinken       reopen        \n",
      "donald        swarm         pay           mayor         campaign      state         research      nation        govern        learn         \n",
      "\n",
      "\n",
      "topic 60      topic 61      topic 62      topic 63      topic 64      topic 65      topic 66      topic 67      topic 68      topic 69      \n",
      "--------      --------      --------      --------      --------      --------      --------      --------      --------      --------      \n",
      "protest       biden         cyber         citi          trade         cuba          defens        climat        texa          biden         \n",
      "polic         administr     amazon        peopl         tariff        protest       militari      chang         state         famili        \n",
      "citi          presid        union         commun        biden         cuban         pentagon      biden         abbott        tulsa         \n",
      "blake         white         hawley        homeless      agreement     peopl         forc          emiss         democrat      massacr       \n",
      "black         hous          daili         neighborhood  administr     state         servic        world         cruz          presid        \n",
      "statu         obama         secur         park          tai           right         arm           carbon        republican    state         \n",
      "peopl         trump         nation        hous          industri      govern        austin        global        hous          year          \n",
      "counti        polici        compani       live          wto           biden         nation        nation        lawmak        genocid       \n",
      "shoot         secretari     natsec        resid         product       myanmar       politico      kerri         power         survivor      \n",
      "remov         offici        employe       san           deal          haiti         secretari     administr     texan         armenian      \n",
      "\n",
      "\n",
      "topic 70      topic 71      topic 72      topic 73      topic 74      topic 75      topic 76      topic 77      topic 78      topic 79      \n",
      "--------      --------      --------      --------      --------      --------      --------      --------      --------      --------      \n",
      "countri       court         pipelin       boston        woman         asian         afghanistan   new           percent       flight        \n",
      "global        case          attack        massachusett  men           crime         taliban       counti        poll          disclosur     \n",
      "world         rule          compani       state         femal         american      afghan        caulfield     survey        saudi         \n",
      "eu            suprem        ransomwar     mayor         ufo           hate          biden         state         voter         barrack       \n",
      "european      law           cyber         citi          peopl         shoot         troop         clerk         rate          airlin        \n",
      "minist        justic        cybersecur    baker         gender        violenc       american      report        approv        plane         \n",
      "uk            decis         coloni        globe         report        atlanta       withdraw      presid        support       privat        \n",
      "india         legal         hack          vaccin        year          commun        countri       york          favor         uae           \n",
      "govern        judg          hacker        rep           post          polic         forc          machin        point         arabia        \n",
      "g7            state         oper          school        work          kill          kabul         wednesday     compar        disclos       \n",
      "\n",
      "\n",
      "topic 80      topic 81      topic 82      topic 83      topic 84      topic 85      topic 86      topic 87      topic 88      topic 89      \n",
      "--------      --------      --------      --------      --------      --------      --------      --------      --------      --------      \n",
      "republican    cheney        health        biden         transgend     canada        new           polic         democrat      russia        \n",
      "parti         republican    care          trump         sport         canadian      time          offic         district      biden         \n",
      "trump         green         abort         presid        athlet        trudeau       politico      video         rep           russian       \n",
      "arizona       mccarthi      state         joe           tran          liber         democrat      kill          seat          putin         \n",
      "audit         parti         politico      report        woman         minist        polit         man           hous          presid        \n",
      "state         confer        insur         hous          lgbtq         govern        report        told          congression   meet          \n",
      "bush          hous          feder         capitol       gender        conserv       state         peopl         republican    ukrain        \n",
      "michigan      gop           drug          white         girl          week          peopl         report        member        state         \n",
      "elect         leadership    medicaid      today         ban           leader        offic         shot          redistrict    summit        \n",
      "gop           liz           administr     american      right         elect         hous          incid         gop           leader        \n",
      "\n",
      "\n",
      "topic 90      topic 91      topic 92      topic 93      topic 94      topic 95      topic 96      topic 97      topic 98      topic 99      \n",
      "--------      --------      --------      --------      --------      --------      --------      --------      --------      --------      \n",
      "trump         vaccin        elect         gun           capitol       group         harri         vaccin        hous          water         \n",
      "biden         variant       republican    worker        charg         llc           kamala        health        rep           state         \n",
      "director      peopl         state         violenc       prosecutor    associ        woman         dose          committe      peopl         \n",
      "hous          case          democrat      biden         riot          pac           vice          shot          republican    resid         \n",
      "new           covid19       trump         union         jan           strategi      presid        million       capitol       counti        \n",
      "rep           hous          parti         law           case          lobbi         vicepresid    covid19       pelosi        citi          \n",
      "nyt           biden         campaign      feder         group         llp           offic         biden         member        commun        \n",
      "presid        white         voter         labor         arrest        affair        nation        administr     democrat      area          \n",
      "pm            american      candid        shoot         feder         govern        senat         offici        gop           california    \n",
      "sen           viru          run           firearm       washington    firm          work          state         mccarthi      heat          \n",
      "\n",
      "\n"
     ]
    }
   ],
   "source": [
    "import mglearn\n",
    "mglearn.tools.print_topics(topics=range(100),feature_names=features,\n",
    "                           sorting= sorting, topics_per_chunk=10,n_words=10)"
   ]
  },
  {
   "cell_type": "code",
   "execution_count": null,
   "id": "b1ccf910-994f-4338-be49-eae9d333edab",
   "metadata": {},
   "outputs": [],
   "source": []
  },
  {
   "cell_type": "code",
   "execution_count": null,
   "id": "b8a3b3c7-65a6-4f83-a3f7-ebd0c0c4b874",
   "metadata": {},
   "outputs": [],
   "source": []
  },
  {
   "cell_type": "code",
   "execution_count": null,
   "id": "01333b8e-97a7-40a8-a2f8-e72845b1e2fe",
   "metadata": {},
   "outputs": [],
   "source": []
  },
  {
   "cell_type": "code",
   "execution_count": null,
   "id": "9c056357-4d40-45b9-9c45-57040063b8b2",
   "metadata": {},
   "outputs": [],
   "source": []
  },
  {
   "cell_type": "code",
   "execution_count": null,
   "id": "9eac5de9-71b6-4f2c-9e61-bfdfed05c11a",
   "metadata": {},
   "outputs": [],
   "source": []
  },
  {
   "cell_type": "markdown",
   "id": "036c4d14-5b32-4a8b-9655-7cf2101c8bac",
   "metadata": {
    "tags": []
   },
   "source": [
    "## 150 topics"
   ]
  },
  {
   "cell_type": "code",
   "execution_count": null,
   "id": "1eee5524-f6d6-4223-90e0-152350a68233",
   "metadata": {},
   "outputs": [],
   "source": []
  },
  {
   "cell_type": "code",
   "execution_count": 39,
   "id": "c22c98ed-44bc-48a0-addd-5c20e8fbbac7",
   "metadata": {},
   "outputs": [],
   "source": [
    "lda_150 = LatentDirichletAllocation(n_components=150)"
   ]
  },
  {
   "cell_type": "code",
   "execution_count": 40,
   "id": "6b234bbd-f2e8-4028-944a-2b43e3f1092a",
   "metadata": {},
   "outputs": [
    {
     "data": {
      "text/plain": [
       "array([[2.22965440e-05, 2.22965440e-05, 2.22965440e-05, ...,\n",
       "        2.22965440e-05, 2.22965440e-05, 2.22965440e-05],\n",
       "       [2.29885057e-05, 2.29885057e-05, 2.29885057e-05, ...,\n",
       "        2.29885057e-05, 2.29885057e-05, 2.29885057e-05],\n",
       "       [6.60066007e-05, 6.60066007e-05, 6.60066007e-05, ...,\n",
       "        6.60066007e-05, 6.60066007e-05, 6.60066007e-05],\n",
       "       ...,\n",
       "       [9.81836033e-06, 9.81836033e-06, 9.81836033e-06, ...,\n",
       "        9.81836033e-06, 9.81836033e-06, 9.81836033e-06],\n",
       "       [1.14744693e-05, 1.14744693e-05, 1.14744693e-05, ...,\n",
       "        1.14744693e-05, 1.14744693e-05, 1.14744693e-05],\n",
       "       [8.79507476e-06, 8.79507476e-06, 8.79507476e-06, ...,\n",
       "        8.79507476e-06, 2.40544293e-02, 8.79507476e-06]])"
      ]
     },
     "execution_count": 40,
     "metadata": {},
     "output_type": "execute_result"
    }
   ],
   "source": [
    "lda_150.fit_transform(dtm)"
   ]
  },
  {
   "cell_type": "code",
   "execution_count": 41,
   "id": "e9758e14-2c9e-4d83-976d-520f05319ccb",
   "metadata": {},
   "outputs": [],
   "source": [
    "sorting = np.argsort(lda_150.components_)[:,::-1]\n",
    "features = np.array(vectorizer.get_feature_names())"
   ]
  },
  {
   "cell_type": "code",
   "execution_count": 42,
   "id": "804de243-9441-427c-a33b-ab16ab5d0533",
   "metadata": {
    "collapsed": true,
    "jupyter": {
     "outputs_hidden": true
    },
    "tags": []
   },
   "outputs": [
    {
     "name": "stdout",
     "output_type": "stream",
     "text": [
      "topic 0       topic 1       topic 2       topic 3       topic 4       topic 5       topic 6       topic 7       topic 8       topic 9       \n",
      "--------      --------      --------      --------      --------      --------      --------      --------      --------      --------      \n",
      "vaccin        report        chicago       player        group         news          saudi         new           rep           bank          \n",
      "state         carter        illinoi       member        llc           morn          princ         citi          hous          market        \n",
      "peopl         ufo           state         committe      associ        politico      arabia        state         senat         financi       \n",
      "shot          haitian       report        athlet        strategi      help          king          york          gop           compani       \n",
      "health        haiti         tribun        confeder      lobbi         report        crown         offic         sen           percent       \n",
      "covid19       phenomenon    citi          ncaa          pac           time          khashoggi     time          democrat      stock         \n",
      "offici        govern        suntim        lofgren       llp           twitter       dejoy         cuomo         huddl         investor      \n",
      "dose          intellig      counti        lawmak        affair        send          hous          mayor         republican    price         \n",
      "biden         public        public        includ        govern        tech          salman        million       vote          morn          \n",
      "commun        uap           mayor         hous          firm          say           bin           public        biden         inflat        \n",
      "\n",
      "\n",
      "topic 10      topic 11      topic 12      topic 13      topic 14      topic 15      topic 16      topic 17      topic 18      topic 19      \n",
      "--------      --------      --------      --------      --------      --------      --------      --------      --------      --------      \n",
      "nixon         san           pipelin       bush          rep           floyd         green         school        canada        democrat      \n",
      "cryptocurr    francisco     oil           dog           hous          chauvin       democrat      student       liber         vote          \n",
      "industri      tran          haaland       presid        pm            offic         ocasiocortez  educ          conserv       legisl        \n",
      "crypto        peopl         ga            tree          senat         polic         rep           child         canadian      hous          \n",
      "van           oakland       administr     mondal        director      trial         hous          teacher       trudeau       state         \n",
      "tarrio        jose          stream        obama         sen           death         comment       state         minist        senat         \n",
      "raimondo      bay           land          biden         democrat      minneapoli    marjori       parent        mp            republican    \n",
      "report        suicid        project       forest        gop           neck          omar          district      week          right         \n",
      "requir        youth         biden         reagan        republican    nelson        taylor        colleg        elect         pas           \n",
      "chip          child         state         georg         wapo          georg         tweet         reopen        parti         lawmak        \n",
      "\n",
      "\n",
      "topic 20      topic 21      topic 22      topic 23      topic 24      topic 25      topic 26      topic 27      topic 28      topic 29      \n",
      "--------      --------      --------      --------      --------      --------      --------      --------      --------      --------      \n",
      "worker        turkey        boston        million       hawaii        asian         cruz          defens        whistleblow   biden         \n",
      "union         armenian      citi          donat         bigg          american      texa          militari      bolton        russia        \n",
      "labor         turkish       state         fundrais      nordean       hate          ted           pentagon      buckley       russian       \n",
      "job           death         massachusett  money         honolulu      crime         houston       servic        cia           putin         \n",
      "work          execut        mayor         donor         malcolm       atlanta       evan          austin        orlean        presid        \n",
      "employ        erdogan       baker         campaign      emin          shoot         state         secretari     offic         meet          \n",
      "employe       cicada        globe         pac           prison        woman         dalla         arm           new           ukrain        \n",
      "wage          ia            janey         rais          domain        commun        rourk         forc          azar          leader        \n",
      "feder         ankara        councilor     fund          famili        kill          paxton        nation        katrina       summit        \n",
      "compani       penalti       candid        contribut     parish        attack        bush          command       willi         vladimir      \n",
      "\n",
      "\n",
      "topic 30      topic 31      topic 32      topic 33      topic 34      topic 35      topic 36      topic 37      topic 38      topic 39      \n",
      "--------      --------      --------      --------      --------      --------      --------      --------      --------      --------      \n",
      "busi          foreign       home          fda           fox           citi          loan          wood          counti        energi        \n",
      "program       flynn         nurs          drug          report        mayor         student       walsh         member        pro           \n",
      "small         lobbi         veteran       agenc         pompeo        new           administr     citi          hous          politico      \n",
      "applic        regist        state         vaccin        carlson       york          educ          black         board         administr     \n",
      "fund          fara          death         report        new           adam          depart        boston        director      climat        \n",
      "loan          govern        facil         approv        depart        yang          debt          shana         say           today         \n",
      "ppp           agent         die           compani       post          candid        biden         mckissick     oakland       biden         \n",
      "money         registr       va            use           tucker        campaign      feder         polic         offic         report        \n",
      "gate          2016          resid         covid19       newsroom      race          borrow        lightn        rep           infrastructur \n",
      "billion       requir        staff         test          journalist    today         warren        woman         republican    morn          \n",
      "\n",
      "\n",
      "topic 40      topic 41      topic 42      topic 43      topic 44      topic 45      topic 46      topic 47      topic 48      topic 49      \n",
      "--------      --------      --------      --------      --------      --------      --------      --------      --------      --------      \n",
      "gaetz         mcafe         homeless      republican    tech          state         trump         trump         attorney      biden         \n",
      "sex           colleg        citi          democrat      compani       administr     investig      presid        prosecutor    white         \n",
      "greenberg     station       hous          parti         googl         biden         depart        impeach       charg         hous          \n",
      "investig      martinez      peopl         run           appl          offici        offici        senat         investig      presid        \n",
      "alleg         algorithm     work          campaign      technolog     myanmar       report        donald        crimin        administr     \n",
      "pardon        swim          hotel         state         privaci       korea         hous          trial         case          secretari     \n",
      "traffick      univers       live          candid        broadband     north         inform        republican    justic        director      \n",
      "matt          dolphin       shelter       trump         antitrust     blinken       presid        hous          feder         work          \n",
      "feder         quot          pandem        elect         report        militari      committe      capitol       law           offic         \n",
      "florida       sonoma        worker        gop           morn          sanction      justic        elect         gener         want          \n",
      "\n",
      "\n",
      "topic 50      topic 51      topic 52      topic 53      topic 54      topic 55      topic 56      topic 57      topic 58      topic 59      \n",
      "--------      --------      --------      --------      --------      --------      --------      --------      --------      --------      \n",
      "opioid        immigr        vote          woman         border        michigan      hous          offici        fetterman     polit         \n",
      "drug          percent       voter         femal         migrant       whitmer       psaki         administr     politico      edward        \n",
      "jr            state         elect         male          administr     morn          biden         biden         lee           gohmert       \n",
      "joseph        benefit       state         men           biden         good          senat         serv          team          power         \n",
      "addict        unemploy      republican    comey         child         mcdaniel      joe           presid        work          state         \n",
      "overdos       polici        georgia       offic         immigr        gretchen      press         ambassador    say           peopl         \n",
      "presidentelectundocu        law           record        polici        ronna         secretari     trump         role          louisiana     \n",
      "epidem        citizenship   right         pay           famili        rnc           white         offic         braddock      time          \n",
      "fentanyl      work          ballot        work          mexico        coon          report        career        pennsylvania  way           \n",
      "west          million       restrict      staff         palestinian   bender        today         hous          lieuten       year          \n",
      "\n",
      "\n",
      "topic 60      topic 61      topic 62      topic 63      topic 64      topic 65      topic 66      topic 67      topic 68      topic 69      \n",
      "--------      --------      --------      --------      --------      --------      --------      --------      --------      --------      \n",
      "elect         iowa          transgend     agricultur    group         water         biden         virginia      polic         florida       \n",
      "state         state         woman         food          threat        famili        presid        counti        offic         desanti       \n",
      "arizona       nevada        sport         farm          extremist     home          egypt         polic         kill          state         \n",
      "audit         carolina      lgbtq         farmer        domest        day           famili        peopl         shot          ron           \n",
      "counti        south         gender        usda          terror        peopl         inaugur       rain          shoot         gov           \n",
      "2020          hampshir      state         pipelin       fbi           child         sackler       storm         wright        governor      \n",
      "trump         meat          girl          coloni        white         live          purdu         area          famili        miami         \n",
      "fraud         new           ban           fuel          extrem        giuliani      state         offic         man           republican    \n",
      "result        calendar      right         vilsack       supremacist   thing         time          flood         releas        democrat      \n",
      "ballot        north         athlet        suppli        attack        die           year          new           counti        beach         \n",
      "\n",
      "\n",
      "topic 70      topic 71      topic 72      topic 73      topic 74      topic 75      topic 76      topic 77      topic 78      topic 79      \n",
      "--------      --------      --------      --------      --------      --------      --------      --------      --------      --------      \n",
      "black         energi        black         olymp         jersey        transport     refuge        health        forc          israel        \n",
      "farmer        biden         peopl         game          new           rail          cap           politico      defens        netanyahu     \n",
      "discrimin     administr     polic         athlet        murphi        driver        newspap       care          nation        isra          \n",
      "racial        climat        commun        tokyo         nj            highway       news          biden         secur         minist        \n",
      "white         environment   citi          japan         state         passeng       time          vaccin        administr     prime         \n",
      "program       clean         think         sport         counti        car           local         administr     militari      bennett       \n",
      "color         epa           woman         event         citi          buttigieg     resettl       covid         nuclear       parti         \n",
      "usda          hous          chang         ceremoni      school        amtrak        stori         report        politico      govern        \n",
      "equiti        electr        time          summer        record        dot           admiss        offici        weapon        palestinian   \n",
      "address       commun        year          host          phil          train         book          hh            arm           california    \n",
      "\n",
      "\n",
      "topic 80      topic 81      topic 82      topic 83      topic 84      topic 85      topic 86      topic 87      topic 88      topic 89      \n",
      "--------      --------      --------      --------      --------      --------      --------      --------      --------      --------      \n",
      "secur         parti         black         avenatti      climat        facebook      senat         jordan        biden         confirm       \n",
      "agenc         republican    massacr       lane          emiss         medium        vote          cdc           presid        biden         \n",
      "cyber         cathol        tulsa         thao          chang         social        bipartisan    spear         joe           nomin         \n",
      "govern        bishop        repar         time          carbon        platform      republican    offici        republican    nomine        \n",
      "cybersecur    state         histori       alleg         ga            twitter       sen           agenc         white         senat         \n",
      "attack        mccain        survivor      month         energi        compani       democrat      data          hous          presid        \n",
      "nation        censur        white         kueng         electr        post          schumer       conservatorshipreport        court         \n",
      "administr     polit         american      funer         biden         account       infrastructur britney       today         justic        \n",
      "depart        trump         oklahoma      smith         fuel          trump         hous          report        press         hear          \n",
      "ransomwar     flake         commiss       offic         environment   board         biden         senior        american      committe      \n",
      "\n",
      "\n",
      "topic 90      topic 91      topic 92      topic 93      topic 94      topic 95      topic 96      topic 97      topic 98      topic 99      \n",
      "--------      --------      --------      --------      --------      --------      --------      --------      --------      --------      \n",
      "miller        travel        marijuana     report        charg         angel         democrat      senat         china         cuba          \n",
      "trump         canada        legal         politico      capitol       lo            biden         mcconnel      trade         protest       \n",
      "endors        border        cannabi       week          jan           park          plan          filibust      chine         cuban         \n",
      "primari       vaccin        medic         govern        prosecutor    la            infrastructur democrat      state         peopl         \n",
      "ohio          restrict      state         editor        riot          counti        hous          sen           beij          biden         \n",
      "candid        canadian      church        new           defend        thompson      packag        hawley        foreign       govern        \n",
      "turner        govern        recreat       news          boy           citi          propos        republican    biden         regim         \n",
      "virginia      trudeau       weed          write         case          center        budget        mitch         countri       administr     \n",
      "state         reopen        drug          time          proud         peopl         republican    major         intern        state         \n",
      "support       passport      sale          morn          court         california    senat         minor         polici        island        \n",
      "\n",
      "\n",
      "topic 100     topic 101     topic 102     topic 103     topic 104     topic 105     topic 106     topic 107     topic 108     topic 109     \n",
      "--------      --------      --------      --------      --------      --------      --------      --------      --------      --------      \n",
      "program       gun           texa          health        cuomo         republican    antitrust     epstein       state         schiff        \n",
      "daca          shoot         abbott        pandem        new           trump         ftc           maxwel        grenel        bonta         \n",
      "depart        violenc       state         care          governor      hous          googl         woman         alten         bleach        \n",
      "lawmak        mass          power         peopl         york          cheney        khan          new           plant         california    \n",
      "fund          firearm       storm         data          sexual        gop           compani       say           report        inaugur       \n",
      "offic         background    winter        research      state         mccarthi      agenc         victim        tobin         cure          \n",
      "capitol       weapon        weather       patient       alleg         parti         tech          peopl         tearga        sold          \n",
      "legisl        check         greg          medic         report        committe      amazon        abus          water         grenon        \n",
      "million       peopl         texan         public        investig      vote          competit      year          edward        water         \n",
      "budget        boulder       governor      covid19       harass        rep           facebook      time          area          state         \n",
      "\n",
      "\n",
      "topic 110     topic 111     topic 112     topic 113     topic 114     topic 115     topic 116     topic 117     topic 118     topic 119     \n",
      "--------      --------      --------      --------      --------      --------      --------      --------      --------      --------      \n",
      "ice           polit         temper        jackson       elect         senat         heat          iran          build         intellig      \n",
      "arrest        trump         harrison      mississippi   state         biden         temperatur    nuclear       collaps       attack        \n",
      "immigr        peopl         clerk         citi          politico      coronaviru    ad            deal          tower         incid         \n",
      "deport        think         white         lumumba       report        report        seattl        iranian       rescu         report        \n",
      "releas        time          douglas       reev          day           vote          heatwav       agreement     condo         offici        \n",
      "detent        presid        mccloskey     mayor         vote          joe           digit         sanction      surfsid       cia           \n",
      "prison        way           morri         report        republican    american      advertis      state         south         warner        \n",
      "jail          know          prohibit      local         wrote         vaccin        polit         negoti        miami         hain          \n",
      "detain        thing         clerkship     say           democrat      today         cool          tehran        sea           investig      \n",
      "order         want          year          breed         special       state         portland      biden         florida       suspect       \n",
      "\n",
      "\n",
      "topic 120     topic 121     topic 122     topic 123     topic 124     topic 125     topic 126     topic 127     topic 128     topic 129     \n",
      "--------      --------      --------      --------      --------      --------      --------      --------      --------      --------      \n",
      "american      evict         publish       state         court         bridg         iraq          trumka        biden         biden         \n",
      "race          hous          audio         industri      rule          elder         war           aflcio        harri         poll          \n",
      "critic        moratorium    new           water         law           transit       author        shuler        economi       presid        \n",
      "theori        extend        york          project       case          orthodox      attack        movement      presid        percent       \n",
      "polit         rent          gold          environment   suprem        arnold        biden         durst         econom        hous          \n",
      "america       landlord      time          wind          justic        datig         militari      organ         job           support       \n",
      "cultur        ban           simon         develop       judg          thing         strike        member        pandem        approv        \n",
      "conserv       expir         book          compani       decis         week          forc          presid        american      american      \n",
      "racism        biden         stori         feder         legal         woman         syria         richard       administr     survey        \n",
      "white         rental        download      energi        feder         sound         presid        detector      white         republican    \n",
      "\n",
      "\n",
      "topic 130     topic 131     topic 132     topic 133     topic 134     topic 135     topic 136     topic 137     topic 138     topic 139     \n",
      "--------      --------      --------      --------      --------      --------      --------      --------      --------      --------      \n",
      "chipman       wildfir       california    new           space         new           republican    democrat      capitol       polic         \n",
      "indian        oregon        newsom        ciattarelli   nasa          york          debt          georgia       polic         floyd         \n",
      "atf           season        recal         state         flight        citi          democrat      elect         offic         georg         \n",
      "nativ         firefight     san           jersey        commerci      cuomo         spend         republican    secur         chauvin       \n",
      "tobacco       burn          state         singh         moon          mayor         parti         state         protest       offic         \n",
      "languag       california    gavin         expert        launch        state         limit         warnock       attack        murder        \n",
      "alcohol       parker        governor      campaign      mission       andrew        amend         senat         guard         minneapoli    \n",
      "bureau        state         jenner        kurson        earth         time          earmark       district      washington    justic        \n",
      "tribal        western       counti        charg         orbit         blasio        ceil          race          report        verdict       \n",
      "gun           camp          elect         tipton        mar           manhattan     vote          campaign      build         derek         \n",
      "\n",
      "\n",
      "topic 140     topic 141     topic 142     topic 143     topic 144     topic 145     topic 146     topic 147     topic 148     topic 149     \n",
      "--------      --------      --------      --------      --------      --------      --------      --------      --------      --------      \n",
      "vaccin        tax           afghanistan   state         cruis         vaccin        liberti       vanc          global        settlement    \n",
      "dose          incom         taliban       boston        canadian      mask          wall          thiel         biden         cat           \n",
      "countri       ir            afghan        massachusett  ship          covid19       univers       mandel        countri       mosqu         \n",
      "million       credit        biden         citi          govern        peopl         falwel        timken        european      fdr           \n",
      "shot          corpor        troop         mayor         meng          variant       jerri         ohio          eu            member        \n",
      "johnson       pay           american      vaccin        forum         mandat        construct     librari       world         local         \n",
      "administr     rate          countri       new           trudeau       case          caulfield     jd            minist        bison         \n",
      "biden         payment       withdraw      politico      taiwan        cdc           year          campaign      presid        bankruptci    \n",
      "suppli        propos        forc          baker         award         state         compani       master        uk            famili        \n",
      "global        revenu        kabul         rep           tsai          wear          student       fund          g7            help          \n",
      "\n",
      "\n"
     ]
    }
   ],
   "source": [
    "import mglearn\n",
    "mglearn.tools.print_topics(topics=range(150),feature_names=features,\n",
    "                           sorting= sorting, topics_per_chunk=10,n_words=10)"
   ]
  },
  {
   "cell_type": "code",
   "execution_count": null,
   "id": "5caadc74-52e5-40c0-aeee-63e3e71b517c",
   "metadata": {},
   "outputs": [],
   "source": []
  },
  {
   "cell_type": "code",
   "execution_count": 43,
   "id": "8e702eb2-d17f-4477-84df-350d58efa597",
   "metadata": {},
   "outputs": [],
   "source": [
    "topic_train = lda_150.transform(dtm)"
   ]
  },
  {
   "cell_type": "code",
   "execution_count": 44,
   "id": "7fe42b57-1555-4ce6-89f3-cb1ef13fa7ca",
   "metadata": {},
   "outputs": [],
   "source": [
    "dtm_test = vectorizer.transform(lemma_test)\n",
    "topic_test = lda_150.transform(dtm_test)"
   ]
  },
  {
   "cell_type": "code",
   "execution_count": 46,
   "id": "b0ad187a-ac97-4e25-b6ff-88ce7e0d1345",
   "metadata": {},
   "outputs": [],
   "source": [
    "# from sklearn.neighbors import NearestNeighbors"
   ]
  },
  {
   "cell_type": "code",
   "execution_count": 47,
   "id": "f4e00f51-4b7c-488b-93f5-128ca89d9715",
   "metadata": {},
   "outputs": [],
   "source": [
    "# n_neighbors = 5\n",
    "# KNN = NearestNeighbors(n_neighbors=n_neighbors,p=2)\n",
    "# KNN.fit(topic_train)"
   ]
  },
  {
   "cell_type": "code",
   "execution_count": 48,
   "id": "7e87fa6d-8324-418d-9677-e67973e728c5",
   "metadata": {},
   "outputs": [],
   "source": [
    "# NNs = KNN.kneighbors(topic_test[0].reshape(1,-1),return_distance=False)"
   ]
  },
  {
   "cell_type": "code",
   "execution_count": 49,
   "id": "fe173d70-ac86-4ab9-9f45-c9ea9b889416",
   "metadata": {},
   "outputs": [],
   "source": [
    "# NNs.reshape(1,-1)[0]"
   ]
  },
  {
   "cell_type": "code",
   "execution_count": 50,
   "id": "705b84bf-e17d-4b45-8f10-d86aba38629a",
   "metadata": {},
   "outputs": [],
   "source": [
    "pd.set_option(\"display.max_colwidth\", 3)\n",
    "similarity_scores = pd.DataFrame(index=lemma_train.index)"
   ]
  },
  {
   "cell_type": "code",
   "execution_count": 132,
   "id": "6b5a29f6-52b7-4c96-af50-f02ef7786cd8",
   "metadata": {},
   "outputs": [],
   "source": [
    "def cosime_similarity(X_test,X_train):\n",
    "    for i,test_row in X_test.iterrows():\n",
    "        for j,train_row in X_train.iterrows():\n",
    "            vector1 = test_row\n",
    "            vector2 = train_row\n",
    "            return np.dot(vector1, vector2) / (np.sqrt(np.sum(vector1**2)) * np.sqrt(np.sum(vector2**2)))"
   ]
  },
  {
   "cell_type": "code",
   "execution_count": 133,
   "id": "ac31045b-fed7-465f-8747-ec80a4674757",
   "metadata": {},
   "outputs": [],
   "source": [
    "def get_similar_articles(idx_test,top_n_values=10):\n",
    "    similarity_scores.loc[:,idx_test] = cosine_similarity([topic_test[idx_test]],topic_train).reshape(-1,1)\n",
    "    idx_similar = similarity_scores.sort_values([idx_test],ascending=False)[idx_test].head(top_n_values).index.values\n",
    "    return df_test.iloc[idx_test].article_heading,df_train.loc[idx_similar,:].sort_values([\"article_published_on\"],ascending=False)[\"article_heading\"]"
   ]
  },
  {
   "cell_type": "code",
   "execution_count": 56,
   "id": "7612ed32-bba5-4889-a3b2-ff44666bd453",
   "metadata": {},
   "outputs": [],
   "source": [
    "def print_similar_articles(test_heading,train_results):\n",
    "    print(\"Tested for this article\".center(50))\n",
    "    print(\"\\n\")\n",
    "    print(test_heading)\n",
    "    print(\"\\n\")\n",
    "    print(\"Recommended Articles\".center(50))\n",
    "    print(train_results)"
   ]
  },
  {
   "cell_type": "code",
   "execution_count": 62,
   "id": "ddf00d04-178b-4f12-8c12-6cc8fb5c3158",
   "metadata": {},
   "outputs": [
    {
     "data": {
      "text/plain": [
       "['../models/lda_150']"
      ]
     },
     "execution_count": 62,
     "metadata": {},
     "output_type": "execute_result"
    }
   ],
   "source": [
    "import joblib\n",
    "joblib.dump(lda_150,'../models/lda_150')"
   ]
  },
  {
   "cell_type": "code",
   "execution_count": null,
   "id": "ebe94dde-1bbc-4245-a51d-7f6362c9850f",
   "metadata": {},
   "outputs": [],
   "source": []
  },
  {
   "cell_type": "code",
   "execution_count": 63,
   "id": "7b75367d-7220-4a38-9c0a-557485fd37d2",
   "metadata": {},
   "outputs": [],
   "source": [
    "del lda_150"
   ]
  },
  {
   "cell_type": "code",
   "execution_count": 65,
   "id": "0e188823-54aa-47ee-869b-5aedb3a9c03c",
   "metadata": {},
   "outputs": [],
   "source": [
    " lda_150 = joblib.load(\"../models/lda_150\")"
   ]
  },
  {
   "cell_type": "code",
   "execution_count": 67,
   "id": "d92ca675-60d3-43b4-90aa-9ef93827495a",
   "metadata": {},
   "outputs": [
    {
     "data": {
      "text/plain": [
       "['../models/X_lda_150']"
      ]
     },
     "execution_count": 67,
     "metadata": {},
     "output_type": "execute_result"
    }
   ],
   "source": [
    "joblib.dump(topic_train,'../models/X_lda_150')"
   ]
  },
  {
   "cell_type": "code",
   "execution_count": 96,
   "id": "ae992b8f-ad50-4ec2-b016-bc02efd640cd",
   "metadata": {},
   "outputs": [
    {
     "data": {
      "text/plain": [
       "['../models/text_vectorizer_150']"
      ]
     },
     "execution_count": 96,
     "metadata": {},
     "output_type": "execute_result"
    }
   ],
   "source": [
    "joblib.dump(vectorizer,'../models/text_vectorizer_150')"
   ]
  },
  {
   "cell_type": "code",
   "execution_count": null,
   "id": "ea214786-710b-4452-b4cf-130bc651e54f",
   "metadata": {},
   "outputs": [],
   "source": []
  },
  {
   "cell_type": "code",
   "execution_count": null,
   "id": "ef399ec9-9e64-4a4c-9e75-d929c4972871",
   "metadata": {},
   "outputs": [],
   "source": []
  },
  {
   "cell_type": "markdown",
   "id": "b8bac8ad-16c8-416d-b067-3a6d0e58c1fe",
   "metadata": {},
   "source": [
    "# Deploy"
   ]
  },
  {
   "cell_type": "code",
   "execution_count": 118,
   "id": "dafa9787-d712-4060-982b-73104b11d480",
   "metadata": {},
   "outputs": [],
   "source": [
    "import joblib\n",
    "import pandas as pd\n",
    "import numpy as np\n",
    "from datetime import datetime\n",
    "\n",
    "import contractions\n",
    "\n",
    "from nltk.tokenize import word_tokenize\n",
    "from string import punctuation\n",
    "\n",
    "\n",
    "from nltk.corpus import stopwords\n",
    "from gensim.parsing.preprocessing import STOPWORDS\n",
    "import spacy\n",
    "\n",
    "from nltk.stem.porter import PorterStemmer\n",
    "from nltk.stem import WordNetLemmatizer\n",
    "\n",
    "from sklearn.feature_extraction.text import CountVectorizer,TfidfVectorizer\n",
    "from sklearn.decomposition import LatentDirichletAllocation\n",
    "from gensim.parsing.preprocessing import remove_stopwords"
   ]
  },
  {
   "cell_type": "code",
   "execution_count": 141,
   "id": "0e09a2b7-72d2-4f0d-a33a-6ae48a83adbc",
   "metadata": {},
   "outputs": [],
   "source": [
    "def text_pipeline(X):\n",
    "    if isinstance(X, str):\n",
    "        X = pd.Series(X)\n",
    "    elif isinstance(X, (pd.Series, pd.DataFrame)):\n",
    "        pass\n",
    "    else:\n",
    "        raise Exception(\n",
    "            f\"Input should either be in 'str' format or a 'series' or 'Dataframe' with a column of text. Received an object of type {type(X)}\"\n",
    "        )\n",
    "    \n",
    "    expanded_contractions = X.apply(lambda x:\n",
    "        contractions.fix(x)\n",
    "    )\n",
    "    \n",
    "    lower = expanded_contractions.str.lower()\n",
    "    \n",
    "    custom_preprocessor = lower.apply(lambda x: x.replace(\"-\",\" \").replace(\"'s\",\"\").replace(\"’s\",\"\").replace(\"–\",\"\"))\n",
    "\n",
    "    # punctuations\n",
    "    removed_punctuation = custom_preprocessor.apply(\n",
    "        lambda x: \"\".join([c for c in x if c not in punctuation])\n",
    "    )\n",
    "\n",
    "    # stop words\n",
    "    stop_words = stopwords.words(\"english\")\n",
    "    removed_stop_words = removed_punctuation.apply(\n",
    "        lambda x: \" \".join(\n",
    "            [word for word in word_tokenize(x) if word not in stop_words]\n",
    "        )\n",
    "    )\n",
    "    removed_stop_words = removed_stop_words.apply(lambda x: remove_stopwords(x))\n",
    "    all_stopwords_gensim = STOPWORDS.union(\n",
    "        set([\"the\", \"say\", \"said\", \"get\", \"it\", \"in\", \"like\", \"new\", \"year\"])\n",
    "    )\n",
    "    removed_stop_words = removed_stop_words.apply(\n",
    "        lambda x: \" \".join(\n",
    "            [word for word in word_tokenize(x) if word not in all_stopwords_gensim]\n",
    "        )\n",
    "    )\n",
    "    sp = spacy.load('en_core_web_sm')\n",
    "    all_stopwords = sp.Defaults.stop_words\n",
    "    removed_stop_words = removed_stop_words.apply(\n",
    "        lambda x: \" \".join(\n",
    "            [word for word in word_tokenize(x) if word not in all_stopwords]\n",
    "        )\n",
    "    )\n",
    "\n",
    "    # Stemming and Lematizing\n",
    "    stemmer = PorterStemmer()\n",
    "    lemmatizer = WordNetLemmatizer()\n",
    "    stem = removed_stop_words.apply(\n",
    "        lambda x: \" \".join([stemmer.stem(word) for word in word_tokenize(x)])\n",
    "    )\n",
    "    lemma = stem.apply(\n",
    "        lambda x: \" \".join([lemmatizer.lemmatize(word) for word in word_tokenize(x)])\n",
    "    )\n",
    "\n",
    "    return lemma   "
   ]
  },
  {
   "cell_type": "code",
   "execution_count": 15,
   "id": "c8beceb8-1aeb-49ff-83d3-324d0952f77d",
   "metadata": {},
   "outputs": [],
   "source": [
    "def text_vectorizer(X,vectorizer,fit=False):\n",
    "    if fit:\n",
    "        return vectorizer.fit_transform(X)\n",
    "    else:\n",
    "        return vectorizer.transform(X)"
   ]
  },
  {
   "cell_type": "code",
   "execution_count": 16,
   "id": "75317291-49c8-4c31-b372-33df4b5815a9",
   "metadata": {},
   "outputs": [],
   "source": [
    "def get_topic_vectors(X,model,fit=False):\n",
    "    if fit:\n",
    "        return model.fit_transform(X)\n",
    "    else:\n",
    "        return model.transform(X)"
   ]
  },
  {
   "cell_type": "code",
   "execution_count": 168,
   "id": "f750e814-c973-4ce5-bae6-eb61b105c1c0",
   "metadata": {},
   "outputs": [],
   "source": [
    "from sklearn.metrics.pairwise import cosine_similarity\n",
    "def get_similar_articles(text_vectors, X, top_n_values=10):\n",
    "    \"\"\"\n",
    "    Evalute the cosine similarity between provided 'text_vectors' and trained X (articles trained and stored as a vecotr of topics).\n",
    "    Return dataframe with index as trained articles and columns as text_vector indices with values as similarity scores\n",
    "    \"\"\"\n",
    "    similarity_scores = cosine_similarity(X,text_vectors,dense_output=True)\n",
    "    return similarity_scores\n",
    "#     return np.argsort(similarity_scores, axis=0)[::-1,:][:top_n_values,:]"
   ]
  },
  {
   "cell_type": "code",
   "execution_count": 171,
   "id": "2be46256-691d-41d0-ac0b-2f081f0e7d96",
   "metadata": {},
   "outputs": [],
   "source": [
    "pd.set_option(\"display.max_colwidth\", 3)\n",
    "def print_similar_articles(test_indices,similarity_scores):\n",
    "    values = np.sort(similarity_scores, axis=0)[::-1,:][:5,:]\n",
    "    similarity_array = np.argsort(similarity_scores, axis=0)[::-1,:][:5,:]\n",
    "    for i in range(similarity_array.shape[1]):\n",
    "        indices = similarity_array[:,i]\n",
    "        print(\"\\n\")\n",
    "        print(df_test.iloc[test_indices[i]].article_heading)\n",
    "        print(\"\\n\")\n",
    "        print(df_train.iloc[indices].article_heading)\n",
    "        print(\"\\n\")\n",
    "        print(values)"
   ]
  },
  {
   "cell_type": "code",
   "execution_count": 228,
   "id": "8aa80719-3d78-49a2-a2b5-c655d4477d0b",
   "metadata": {},
   "outputs": [],
   "source": [
    "# vectorizer = joblib.load(\"../models/text_vectorizer_150\")\n",
    "# lda_150 = joblib.load(\"../models/lda_150\")\n",
    "# topic_train = joblib.load(\"../models/X_lda_150\")"
   ]
  },
  {
   "cell_type": "code",
   "execution_count": 142,
   "id": "55922c81-87c8-4d7f-b6b4-fb3f79be2fa2",
   "metadata": {
    "tags": []
   },
   "outputs": [],
   "source": [
    "train_lemmas = text_pipeline(df_train.article_body)"
   ]
  },
  {
   "cell_type": "code",
   "execution_count": 145,
   "id": "5945d96c-d53e-46b4-ba69-2d036ffdfb51",
   "metadata": {
    "tags": []
   },
   "outputs": [
    {
     "ename": "AttributeError",
     "evalue": "'CountVectorizer' object has no attribute 'vocabulary_'",
     "output_type": "error",
     "traceback": [
      "\u001b[1;31m---------------------------------------------------------------------------\u001b[0m",
      "\u001b[1;31mAttributeError\u001b[0m                            Traceback (most recent call last)",
      "\u001b[1;32m~\\AppData\\Local\\Temp/ipykernel_32588/2808341158.py\u001b[0m in \u001b[0;36m<module>\u001b[1;34m\u001b[0m\n\u001b[0;32m      1\u001b[0m \u001b[0mvectorizer\u001b[0m \u001b[1;33m=\u001b[0m \u001b[0mCountVectorizer\u001b[0m\u001b[1;33m(\u001b[0m\u001b[0mstop_words\u001b[0m\u001b[1;33m=\u001b[0m\u001b[1;34m'english'\u001b[0m\u001b[1;33m)\u001b[0m\u001b[1;33m\u001b[0m\u001b[1;33m\u001b[0m\u001b[0m\n\u001b[1;32m----> 2\u001b[1;33m \u001b[0mvectorizer\u001b[0m\u001b[1;33m.\u001b[0m\u001b[0mvocabulary_\u001b[0m\u001b[1;33m\u001b[0m\u001b[1;33m\u001b[0m\u001b[0m\n\u001b[0m",
      "\u001b[1;31mAttributeError\u001b[0m: 'CountVectorizer' object has no attribute 'vocabulary_'"
     ]
    }
   ],
   "source": [
    "vectorizer = CountVectorizer(stop_words='english')\n",
    "vectorizer.vocabulary_"
   ]
  },
  {
   "cell_type": "code",
   "execution_count": 146,
   "id": "f285d4bc-097c-4051-be02-45c586865a93",
   "metadata": {},
   "outputs": [
    {
     "data": {
      "text/plain": [
       "(17655, 81444)"
      ]
     },
     "execution_count": 146,
     "metadata": {},
     "output_type": "execute_result"
    }
   ],
   "source": [
    "count_vectors_train = text_vectorizer(train_lemmas,vectorizer,fit=True)\n",
    "count_vectors_train.shape"
   ]
  },
  {
   "cell_type": "code",
   "execution_count": 38,
   "id": "d3cd3605-5175-4213-a677-6f86d2501d30",
   "metadata": {
    "collapsed": true,
    "jupyter": {
     "outputs_hidden": true
    },
    "tags": []
   },
   "outputs": [
    {
     "data": {
      "text/plain": [
       "{'feder': 37234,\n",
       " 'judg': 52914,\n",
       " 'thursday': 93843,\n",
       " 'impos': 50046,\n",
       " 'preliminari': 75876,\n",
       " 'injunct': 50630,\n",
       " 'biden': 17785,\n",
       " 'administr': 10648,\n",
       " 'rule': 81872,\n",
       " 'immigr': 49920,\n",
       " 'custom': 28547,\n",
       " 'enforc': 34826,\n",
       " 'ice': 49488,\n",
       " 'offic': 69639,\n",
       " 'significantli': 86492,\n",
       " 'narrow': 66175,\n",
       " 'categori': 22829,\n",
       " 'illeg': 49779,\n",
       " 'target': 92117,\n",
       " 'arrest': 14398,\n",
       " 'deport': 30467,\n",
       " 'mark': 60684,\n",
       " 'latest': 56523,\n",
       " 'legal': 57069,\n",
       " 'blow': 18714,\n",
       " 'polici': 74695,\n",
       " 'drew': 32673,\n",
       " 'tipton': 94173,\n",
       " 'violat': 99328,\n",
       " 'congression': 26360,\n",
       " 'mandat': 60275,\n",
       " 'louisiana': 58838,\n",
       " 'texa': 92992,\n",
       " 'file': 37745,\n",
       " 'lawsuit': 56721,\n",
       " 'like': 57848,\n",
       " 'succeed': 90655,\n",
       " 'claim': 24811,\n",
       " 'procedur': 76371,\n",
       " 'act': 10413,\n",
       " 'apa': 13730,\n",
       " 'issu': 51549,\n",
       " 'guidanc': 43327,\n",
       " 'februari': 37221,\n",
       " 'limit': 57908,\n",
       " 'agent': 11052,\n",
       " 'focus': 38628,\n",
       " 'pose': 75150,\n",
       " 'threat': 93660,\n",
       " 'nation': 66284,\n",
       " 'secur': 84376,\n",
       " 'cross': 28013,\n",
       " 'border': 19350,\n",
       " 'nov': 68704,\n",
       " 'commit': 25959,\n",
       " 'aggrav': 11068,\n",
       " 'feloni': 37379,\n",
       " 'follow': 38694,\n",
       " 'jan': 51915,\n",
       " '20': 2881,\n",
       " 'depart': 30428,\n",
       " 'homeland': 46558,\n",
       " 'offici': 69666,\n",
       " 'explicitli': 36205,\n",
       " 'prevent': 76113,\n",
       " 'instead': 50804,\n",
       " 'direct': 31321,\n",
       " 'resourc': 80054,\n",
       " 'certain': 23298,\n",
       " 'howev': 47020,\n",
       " 'field': 37653,\n",
       " 'seek': 84429,\n",
       " 'outsid': 71247,\n",
       " 'need': 66684,\n",
       " 'approv': 13928,\n",
       " 'chain': 23397,\n",
       " 'command': 25914,\n",
       " 'case': 22648,\n",
       " 'present': 75986,\n",
       " 'public': 77011,\n",
       " 'safeti': 82410,\n",
       " 'agenc': 11031,\n",
       " 'abli': 10066,\n",
       " 'effect': 33872,\n",
       " 'execut': 35963,\n",
       " 'law': 56683,\n",
       " 'mission': 63954,\n",
       " 'director': 31332,\n",
       " 'tae': 91719,\n",
       " 'johnson': 52643,\n",
       " 'statement': 89343,\n",
       " 'local': 58334,\n",
       " 'state': 89285,\n",
       " 'level': 57472,\n",
       " 'priorit': 76232,\n",
       " 'effort': 33887,\n",
       " 'achiev': 10336,\n",
       " 'greatest': 42719,\n",
       " 'impact': 49971,\n",
       " 'critic': 27950,\n",
       " 'note': 68597,\n",
       " 'coincid': 25605,\n",
       " 'sharp': 85616,\n",
       " 'drop': 32745,\n",
       " 'accus': 10302,\n",
       " 'tri': 95232,\n",
       " 'handcuff': 44159,\n",
       " 'arizona': 14245,\n",
       " 'montana': 64533,\n",
       " 'su': 90489,\n",
       " 'separ': 85000,\n",
       " 'argu': 14196,\n",
       " 'hurt': 49130,\n",
       " 'financi': 37825,\n",
       " 'includ': 50188,\n",
       " 'increas': 50240,\n",
       " 'detent': 30711,\n",
       " 'educ': 33822,\n",
       " 'health': 45008,\n",
       " 'care': 22344,\n",
       " 'cost': 27142,\n",
       " 'damag': 28924,\n",
       " 'protect': 76792,\n",
       " 'citizen': 24685,\n",
       " 'crimin': 27872,\n",
       " 'guidelin': 43334,\n",
       " 'felon': 37378,\n",
       " 'breach': 19921,\n",
       " 'order': 70728,\n",
       " 'link': 58011,\n",
       " 'harm': 44504,\n",
       " 'suffer': 90703,\n",
       " 'virtual': 99381,\n",
       " 'unassail': 96728,\n",
       " 'undisput': 97070,\n",
       " 'evid': 35780,\n",
       " 'demonstr': 30332,\n",
       " 'memoranda': 62492,\n",
       " 'caus': 22907,\n",
       " 'dramat': 32589,\n",
       " 'volum': 99614,\n",
       " 'alien': 11797,\n",
       " 'releas': 79531,\n",
       " 'sheriff': 85837,\n",
       " 'ed': 33731,\n",
       " 'gonzalez': 42069,\n",
       " 'pick': 73842,\n",
       " 'lead': 56811,\n",
       " 'ask': 14648,\n",
       " 'republican': 79891,\n",
       " 'month': 64575,\n",
       " 'subsequ': 90600,\n",
       " 'concern': 26186,\n",
       " 'inform': 50511,\n",
       " 'ass': 14707,\n",
       " 'happen': 44314,\n",
       " 'experi': 36172,\n",
       " 'data': 29199,\n",
       " 'factor': 36546,\n",
       " 'play': 74352,\n",
       " 'better': 17603,\n",
       " 'understand': 97004,\n",
       " 'number': 69062,\n",
       " 'senat': 84881,\n",
       " 'confirm': 26306,\n",
       " 'hear': 45054,\n",
       " 'sure': 91117,\n",
       " 'strateg': 90155,\n",
       " 'properli': 76671,\n",
       " 'individu': 50342,\n",
       " 'commun': 25996,\n",
       " 'earlier': 33398,\n",
       " 'block': 18618,\n",
       " '100day': 184,\n",
       " 'freez': 39488,\n",
       " 'week': 100583,\n",
       " 'implement': 50025,\n",
       " 'trumpera': 95564,\n",
       " 'remaininmexico': 79587,\n",
       " 'respons': 80070,\n",
       " 'missouri': 63972,\n",
       " 'seven': 85195,\n",
       " 'day': 29339,\n",
       " 'appeal': 13839,\n",
       " 'pentagon': 73130,\n",
       " 'conduct': 26255,\n",
       " 'arm': 14275,\n",
       " 'overwatch': 71539,\n",
       " 'flight': 38416,\n",
       " 'kabul': 53174,\n",
       " '24': 3880,\n",
       " 'hour': 46910,\n",
       " 'ad': 10491,\n",
       " 'layer': 56745,\n",
       " 'forc': 38817,\n",
       " 'ensur': 34939,\n",
       " 'evacu': 35626,\n",
       " 'american': 12534,\n",
       " 'afghan': 10896,\n",
       " 'alli': 11966,\n",
       " 'countri': 27344,\n",
       " 'taliban': 91866,\n",
       " 'takeov': 91824,\n",
       " 'defens': 29874,\n",
       " 'deni': 30362,\n",
       " 'prelud': 75881,\n",
       " 'airstrik': 11372,\n",
       " 'armi': 14304,\n",
       " 'maj': 59938,\n",
       " 'gen': 40877,\n",
       " 'hank': 44254,\n",
       " 'taylor': 92326,\n",
       " 'continu': 26649,\n",
       " 'recogn': 78939,\n",
       " 'inher': 50608,\n",
       " 'danger': 29001,\n",
       " 'oper': 70572,\n",
       " 'environ': 35016,\n",
       " 'maintain': 59917,\n",
       " 'troop': 95429,\n",
       " 'remain': 79584,\n",
       " 'agil': 11079,\n",
       " 'profession': 76456,\n",
       " 'postur': 75424,\n",
       " 'respond': 80069,\n",
       " 'requir': 79953,\n",
       " 'use': 98037,\n",
       " 'tool': 94513,\n",
       " 'arsen': 14429,\n",
       " 'goal': 41835,\n",
       " 'absolut': 10160,\n",
       " 'import': 50039,\n",
       " 'safe': 82389,\n",
       " 'peopl': 73146,\n",
       " 'quickli': 77675,\n",
       " 'possibl': 75170,\n",
       " 'press': 76028,\n",
       " 'secretari': 84341,\n",
       " 'john': 52629,\n",
       " 'kirbi': 54611,\n",
       " 'question': 77651,\n",
       " 'right': 80598,\n",
       " 'defend': 29871,\n",
       " 'elabor': 34137,\n",
       " 'say': 83230,\n",
       " 'option': 70662,\n",
       " 'provid': 76864,\n",
       " 'close': 25184,\n",
       " 'air': 11304,\n",
       " 'support': 91079,\n",
       " 'necessari': 66663,\n",
       " 'prudent': 76908,\n",
       " 'militari': 63413,\n",
       " 'asset': 14739,\n",
       " 'avail': 15288,\n",
       " 'time': 94027,\n",
       " 'space': 88373,\n",
       " 'reaction': 78629,\n",
       " 'littl': 58156,\n",
       " 'capabl': 22115,\n",
       " 'drawdown': 32609,\n",
       " 'fact': 36530,\n",
       " 'fli': 38409,\n",
       " '14th': 1639,\n",
       " 'actual': 10474,\n",
       " 'high': 45789,\n",
       " 'prioriti': 76233,\n",
       " 'dispos': 31596,\n",
       " 'accomplish': 10274,\n",
       " 'effici': 33879,\n",
       " 'previou': 76121,\n",
       " 'thi': 93479,\n",
       " 'continuum': 26652,\n",
       " 'thing': 93513,\n",
       " 'fox': 39189,\n",
       " 'new': 67050,\n",
       " 'receiv': 78871,\n",
       " 'credibl': 27772,\n",
       " 'leav': 56926,\n",
       " 'afghanistan': 10901,\n",
       " 'date': 29243,\n",
       " 'al': 11492,\n",
       " 'qaeda': 77370,\n",
       " 'terror': 92886,\n",
       " 'group': 43099,\n",
       " 'begin': 16986,\n",
       " 'attack': 14997,\n",
       " 'speak': 88495,\n",
       " 'intellig': 50880,\n",
       " 'way': 100401,\n",
       " 'obvious': 69438,\n",
       " 'evalu': 35631,\n",
       " 'daybyday': 29347,\n",
       " 'hourbyhour': 46913,\n",
       " 'know': 54925,\n",
       " 'peril': 73271,\n",
       " 'tell': 92656,\n",
       " 'airport': 11354,\n",
       " 'movement': 65050,\n",
       " 'entir': 34969,\n",
       " 'british': 20262,\n",
       " 'paratroop': 72230,\n",
       " 'rescu': 79982,\n",
       " 'trap': 95066,\n",
       " 'airfield': 11330,\n",
       " 'ring': 80696,\n",
       " 'main': 59905,\n",
       " 'allow': 12015,\n",
       " 'civilian': 24770,\n",
       " 'come': 25865,\n",
       " 'process': 76374,\n",
       " 'meanwhil': 62011,\n",
       " 'multipl': 65433,\n",
       " 'gate': 40652,\n",
       " 'access': 10244,\n",
       " 'entri': 34994,\n",
       " 'help': 45371,\n",
       " 'expedit': 36157,\n",
       " 'orderli': 70730,\n",
       " 'manner': 60385,\n",
       " '5200': 6963,\n",
       " 'ground': 43080,\n",
       " 'point': 74609,\n",
       " 'airlift': 11344,\n",
       " 'approxim': 13934,\n",
       " '7000': 8207,\n",
       " 'evacue': 35627,\n",
       " 'reflect': 79250,\n",
       " 'rampup': 78244,\n",
       " 'aircraft': 11318,\n",
       " 'faster': 36963,\n",
       " 'greater': 42716,\n",
       " 'fidel': 37644,\n",
       " 'report': 79820,\n",
       " 'explain': 36191,\n",
       " 'isnt': 51497,\n",
       " 'brief': 20144,\n",
       " 'jennif': 52267,\n",
       " 'griffin': 42947,\n",
       " 'gener': 40919,\n",
       " 'whi': 101200,\n",
       " 'serv': 85101,\n",
       " 'deputi': 30499,\n",
       " 'joint': 52661,\n",
       " 'staff': 89054,\n",
       " 'region': 79335,\n",
       " 'repli': 79806,\n",
       " 'focu': 38627,\n",
       " 'hamid': 44081,\n",
       " 'karzai': 53579,\n",
       " 'intern': 50977,\n",
       " 'hkia': 46282,\n",
       " 'siv': 86883,\n",
       " 'confer': 26279,\n",
       " 'stuck': 90390,\n",
       " 'dont': 32175,\n",
       " '1000': 101,\n",
       " 'sent': 84980,\n",
       " 'personnel': 73402,\n",
       " 'assist': 14751,\n",
       " 'war': 100108,\n",
       " 'luca': 59138,\n",
       " 'tomlinson': 94434,\n",
       " 'contribut': 26681,\n",
       " 'bipartisan': 18182,\n",
       " '50': 6745,\n",
       " 'presid': 75995,\n",
       " 'immedi': 49914,\n",
       " 'special': 88521,\n",
       " 'visa': 99402,\n",
       " 'applic': 13887,\n",
       " 'famili': 36729,\n",
       " 'fall': 36685,\n",
       " 'chao': 23551,\n",
       " 'rapid': 78346,\n",
       " 'insurg': 50852,\n",
       " 'specif': 88538,\n",
       " 'urg': 97925,\n",
       " 'coordin': 26801,\n",
       " 'hold': 46429,\n",
       " 'resumpt': 80124,\n",
       " 'commerci': 25932,\n",
       " 'charter': 23658,\n",
       " 'led': 56974,\n",
       " 'iowa': 51227,\n",
       " 'sen': 84879,\n",
       " 'joni': 52718,\n",
       " 'ernst': 35255,\n",
       " 'democrat': 30259,\n",
       " 'hampshir': 44110,\n",
       " 'jeann': 52170,\n",
       " 'shaheen': 85414,\n",
       " 'wrote': 102477,\n",
       " 'letter': 57437,\n",
       " 'obtain': 69431,\n",
       " 'passag': 72490,\n",
       " 'capit': 22145,\n",
       " 'consid': 26492,\n",
       " 'flee': 38360,\n",
       " 'abl': 10057,\n",
       " 'collect': 25707,\n",
       " 'gather': 40665,\n",
       " 'appropri': 13925,\n",
       " 'document': 31913,\n",
       " 'thousand': 93647,\n",
       " 'vulner': 99796,\n",
       " 'strand': 90126,\n",
       " 'collaps': 25697,\n",
       " 'diplomat': 31310,\n",
       " 'scrambl': 84019,\n",
       " 'surround': 91179,\n",
       " 'milit': 63411,\n",
       " 'minor': 63729,\n",
       " 'leader': 56818,\n",
       " 'mitch': 64011,\n",
       " 'mcconnel': 61618,\n",
       " 'rki': 80885,\n",
       " 'told': 94373,\n",
       " 'tuesday': 95841,\n",
       " 'hasti': 44688,\n",
       " 'withdraw': 101841,\n",
       " 'strategi': 90156,\n",
       " 'left': 57036,\n",
       " '15000': 1651,\n",
       " 'transport': 95043,\n",
       " 'reach': 78622,\n",
       " 'woman': 102023,\n",
       " 'activist': 10445,\n",
       " 'work': 102175,\n",
       " 'speed': 88574,\n",
       " 'accept': 10240,\n",
       " 'lloyd': 58279,\n",
       " 'austin': 15182,\n",
       " 'wednesday': 100564,\n",
       " 'clock': 25166,\n",
       " 'run': 81917,\n",
       " 'larg': 56351,\n",
       " 'recentlypass': 78888,\n",
       " 'legisl': 57101,\n",
       " 'amend': 12507,\n",
       " 'elig': 34300,\n",
       " 'program': 76509,\n",
       " 'urgent': 97927,\n",
       " 'servic': 85108,\n",
       " 'live': 58192,\n",
       " 'jeopardi': 52281,\n",
       " 'brave': 19881,\n",
       " 'alongsid': 12139,\n",
       " 'unit': 97324,\n",
       " 'situat': 86878,\n",
       " 'deterior': 30714,\n",
       " 'face': 36482,\n",
       " 'hand': 44146,\n",
       " 'sworn': 91490,\n",
       " 'retribut': 80179,\n",
       " 'reason': 78775,\n",
       " 'congress': 26355,\n",
       " 'addit': 10557,\n",
       " 'author': 15209,\n",
       " 'improv': 50078,\n",
       " 'integr': 50867,\n",
       " 'implor': 50035,\n",
       " 'expediti': 36158,\n",
       " 'chang': 23503,\n",
       " 'appear': 13842,\n",
       " 'campaign': 21878,\n",
       " 'bunker': 20913,\n",
       " 'wide': 101421,\n",
       " 'pan': 71932,\n",
       " 'interview': 51047,\n",
       " 'abc': 9934,\n",
       " 'stun': 90432,\n",
       " 'schedul': 83502,\n",
       " 'contain': 26613,\n",
       " 'plan': 74268,\n",
       " 'remark': 79594,\n",
       " 'took': 94511,\n",
       " 'deal': 29510,\n",
       " 'blowback': 18715,\n",
       " 'botch': 19483,\n",
       " 'saw': 83211,\n",
       " 'nowclear': 68770,\n",
       " 'muchcritic': 65203,\n",
       " 'night': 67456,\n",
       " 'taken': 91815,\n",
       " 'decis': 29711,\n",
       " 'amid': 12602,\n",
       " 'crisi': 27900,\n",
       " 'evok': 35799,\n",
       " '2020': 3060,\n",
       " 'presidenti': 76006,\n",
       " 'race': 77874,\n",
       " 'spent': 88618,\n",
       " 'away': 15405,\n",
       " 'trail': 94926,\n",
       " 'believ': 17109,\n",
       " 'duck': 32956,\n",
       " 'eye': 36386,\n",
       " 'translat': 95017,\n",
       " 'duti': 33213,\n",
       " 'messag': 62739,\n",
       " 'strength': 90246,\n",
       " 'adversari': 10767,\n",
       " 'white': 101248,\n",
       " 'hous': 46924,\n",
       " 'nix': 67679,\n",
       " 'medium': 62160,\n",
       " 'oblig': 69391,\n",
       " 'vice': 99089,\n",
       " 'harri': 44543,\n",
       " 'trip': 95345,\n",
       " 'vietnam': 99186,\n",
       " 'compar': 26063,\n",
       " '1975': 2726,\n",
       " 'saigon': 82483,\n",
       " 'america': 12527,\n",
       " 'worldwid': 102280,\n",
       " 'houston': 46993,\n",
       " 'keen': 53884,\n",
       " 'digit': 31134,\n",
       " 'twitter': 96146,\n",
       " 'houstonkeen': 46998,\n",
       " 'push': 77271,\n",
       " 'bring': 20215,\n",
       " 'refuge': 79285,\n",
       " 'far': 36805,\n",
       " 'lawmak': 56706,\n",
       " 'object': 69384,\n",
       " 'intend': 50894,\n",
       " 'transfer': 94983,\n",
       " '22000': 3519,\n",
       " 'base': 16437,\n",
       " 'acknowledg': 10361,\n",
       " 'rise': 80764,\n",
       " 'higher': 45835,\n",
       " 'certainli': 23299,\n",
       " 'refer': 79228,\n",
       " 'fullthroat': 39926,\n",
       " 'unexpect': 97129,\n",
       " 'given': 41571,\n",
       " '16': 1898,\n",
       " 'vote': 99655,\n",
       " 'expand': 36137,\n",
       " '8000': 8791,\n",
       " 'juli': 52963,\n",
       " 'lisa': 58084,\n",
       " 'murkowski': 65575,\n",
       " 'ralaska': 78169,\n",
       " 'jim': 52465,\n",
       " 'inhof': 50614,\n",
       " 'rokla': 81231,\n",
       " 'cassidi': 22730,\n",
       " 'rla': 80887,\n",
       " 'sign': 86472,\n",
       " '46': 6401,\n",
       " 'humanitarian': 48994,\n",
       " 'parol': 72347,\n",
       " 'design': 30630,\n",
       " 'journalist': 52803,\n",
       " 'parliamentarian': 72326,\n",
       " 'riowa': 80742,\n",
       " 'moin': 64286,\n",
       " 'regist': 79339,\n",
       " 'welcom': 100729,\n",
       " 'disast': 31405,\n",
       " 'think': 93516,\n",
       " 'role': 81240,\n",
       " 'utah': 98189,\n",
       " 'gov': 42343,\n",
       " 'spencer': 88604,\n",
       " 'cox': 27593,\n",
       " 'eager': 33376,\n",
       " 'resettl': 80012,\n",
       " 'georgia': 41046,\n",
       " 'brian': 20083,\n",
       " 'kemp': 53995,\n",
       " 'open': 70525,\n",
       " 'share': 85583,\n",
       " 'gop': 42170,\n",
       " 'leadership': 56828,\n",
       " 'accord': 10276,\n",
       " 'washington': 100229,\n",
       " 'post': 75176,\n",
       " 'owe': 71560,\n",
       " 'friend': 39609,\n",
       " 'georg': 41036,\n",
       " 'bush': 21090,\n",
       " 'govern': 42353,\n",
       " 'cut': 28564,\n",
       " 'red': 79039,\n",
       " 'tape': 92065,\n",
       " 'crise': 27897,\n",
       " 'bureaucrat': 20953,\n",
       " 'delay': 30046,\n",
       " 'trump': 95526,\n",
       " 'oppon': 70619,\n",
       " 'hardlin': 44409,\n",
       " 'stanc': 89143,\n",
       " 'asylum': 14850,\n",
       " 'imagin': 49867,\n",
       " 'good': 42084,\n",
       " 'refug': 79284,\n",
       " 'monday': 64403,\n",
       " 'appli': 13885,\n",
       " 'broader': 20313,\n",
       " 'rais': 78124,\n",
       " 'conserv': 26460,\n",
       " 'comment': 25923,\n",
       " 'hawk': 44801,\n",
       " 'advis': 10781,\n",
       " 'stephen': 89622,\n",
       " 'miller': 63497,\n",
       " 'warn': 100157,\n",
       " 'abil': 10041,\n",
       " 'vet': 99018,\n",
       " 'apparatu': 13832,\n",
       " 'fallen': 36690,\n",
       " 'cheaper': 23746,\n",
       " 'pakistan': 71813,\n",
       " 'advoc': 10795,\n",
       " 'mass': 61035,\n",
       " 'polit': 74733,\n",
       " 'ingraham': 50590,\n",
       " 'angl': 12932,\n",
       " 'ann': 13021,\n",
       " 'coulter': 27231,\n",
       " 'argument': 14202,\n",
       " 'reward': 80306,\n",
       " 'conflict': 26316,\n",
       " 'confus': 26336,\n",
       " 'oppos': 70629,\n",
       " 'excus': 35937,\n",
       " 'flood': 38465,\n",
       " 'rep': 79756,\n",
       " 'matt': 61253,\n",
       " 'rosendal': 81443,\n",
       " 'rmont': 80920,\n",
       " 'marjori': 60682,\n",
       " 'green': 42762,\n",
       " 'rga': 80365,\n",
       " 'tweet': 96068,\n",
       " 'held': 45305,\n",
       " 'tom': 94400,\n",
       " 'tiffani': 93943,\n",
       " 'rwi': 82122,\n",
       " 'express': 36238,\n",
       " 'declin': 29734,\n",
       " 'potu': 75481,\n",
       " 'catastroph': 22810,\n",
       " 'unfold': 97165,\n",
       " 'oversea': 71473,\n",
       " 'afford': 10889,\n",
       " 'similar': 86595,\n",
       " 'attempt': 15010,\n",
       " 'reassur': 78784,\n",
       " 'cast': 22733,\n",
       " 'doubt': 32382,\n",
       " 'skill': 87043,\n",
       " 'manag': 60218,\n",
       " 'foreign': 38861,\n",
       " 'wake': 99939,\n",
       " 'dure': 33159,\n",
       " 'stephanopoulo': 89621,\n",
       " 'china': 24104,\n",
       " 'russia': 82008,\n",
       " 'outrag': 71224,\n",
       " 'rush': 81992,\n",
       " 'untrustworthi': 97717,\n",
       " 'talk': 91883,\n",
       " 'taiwan': 91785,\n",
       " 'count': 27254,\n",
       " 'probe': 76335,\n",
       " 'kept': 54088,\n",
       " 'sacr': 82321,\n",
       " 'articl': 14462,\n",
       " 'invad': 51125,\n",
       " 'action': 10423,\n",
       " 'nato': 66317,\n",
       " 'japan': 51988,\n",
       " 'south': 88300,\n",
       " 'korea': 55164,\n",
       " 'look': 58688,\n",
       " 'trust': 95700,\n",
       " 'promis': 76609,\n",
       " 'gon': 42040,\n",
       " 'na': 65855,\n",
       " 'met': 62766,\n",
       " 'europ': 35590,\n",
       " 'agre': 11119,\n",
       " 'slam': 87152,\n",
       " 'abruptli': 10146,\n",
       " 'termin': 92837,\n",
       " '20year': 3294,\n",
       " 'north': 68505,\n",
       " 'atlant': 14939,\n",
       " 'treati': 95133,\n",
       " 'organ': 70767,\n",
       " 'endang': 34717,\n",
       " 'friendli': 39614,\n",
       " 'gain': 40221,\n",
       " 'control': 26687,\n",
       " 'german': 41105,\n",
       " 'chancellor': 23483,\n",
       " 'angela': 12907,\n",
       " 'merkel': 62661,\n",
       " 'bitter': 18303,\n",
       " 'develop': 30772,\n",
       " 'uk': 96532,\n",
       " 'prime': 76198,\n",
       " 'minist': 63681,\n",
       " 'bori': 19387,\n",
       " 'fair': 36610,\n",
       " 'pull': 77123,\n",
       " 'acceler': 10233,\n",
       " 'theresa': 93441,\n",
       " 'unilater': 97250,\n",
       " 'remov': 79645,\n",
       " 'depend': 30448,\n",
       " 'dust': 33198,\n",
       " 'aisl': 11389,\n",
       " 'fals': 36703,\n",
       " 'presenc': 75985,\n",
       " 'syria': 91589,\n",
       " 'kill': 54446,\n",
       " 'despit': 30666,\n",
       " 'death': 29563,\n",
       " 'near': 66538,\n",
       " 'existenti': 36059,\n",
       " 'want': 100089,\n",
       " 'legitim': 57115,\n",
       " 'nationst': 66304,\n",
       " 'let': 57414,\n",
       " 'theyr': 93474,\n",
       " 'sort': 88223,\n",
       " 'im': 49854,\n",
       " 'radic': 77961,\n",
       " 'islam': 51466,\n",
       " 'belief': 17106,\n",
       " 'food': 38740,\n",
       " 'eat': 33551,\n",
       " 'incom': 50196,\n",
       " 'money': 64424,\n",
       " 'economi': 33684,\n",
       " 'societi': 87795,\n",
       " 'qualifi': 77499,\n",
       " 'appar': 13830,\n",
       " 'credit': 27774,\n",
       " 'wouldv': 102352,\n",
       " 'predict': 75782,\n",
       " 'decid': 29704,\n",
       " 'theyd': 93472,\n",
       " 'came': 21841,\n",
       " 'embassi': 34492,\n",
       " 'send': 84919,\n",
       " 'video': 99149,\n",
       " 'crowd': 28108,\n",
       " 'wave': 100386,\n",
       " 'flag': 38251,\n",
       " 'celebr': 23133,\n",
       " 'independ': 50277,\n",
       " 'sourc': 88289,\n",
       " 'set': 85153,\n",
       " 'checkpoint': 23774,\n",
       " 'beat': 16794,\n",
       " 'arbitrarili': 14075,\n",
       " 'ken': 54002,\n",
       " 'buck': 20674,\n",
       " 'rcolo': 78596,\n",
       " 'screenshot': 84050,\n",
       " 'allegedli': 11920,\n",
       " 'morn': 64766,\n",
       " 'answer': 13130,\n",
       " 'perfect': 73246,\n",
       " 'clariti': 24870,\n",
       " 'havent': 44780,\n",
       " '72': 8341,\n",
       " 'temporarili': 92710,\n",
       " 'mayb': 61394,\n",
       " 'incid': 50168,\n",
       " 'theyv': 93477,\n",
       " 'suspect': 91217,\n",
       " 'true': 95496,\n",
       " 'spokesman': 88770,\n",
       " 'insist': 50760,\n",
       " 'didnt': 31046,\n",
       " 'indic': 50309,\n",
       " 'caution': 22919,\n",
       " 'contrari': 26673,\n",
       " 'assert': 14733,\n",
       " 'greg': 42852,\n",
       " 'norman': 68476,\n",
       " 'rich': 80476,\n",
       " 'edson': 33815,\n",
       " 'deploy': 30462,\n",
       " 'tv': 96042,\n",
       " 'fierc': 37670,\n",
       " 'east': 33500,\n",
       " 'africa': 10941,\n",
       " 'area': 14150,\n",
       " 'terrorist': 92892,\n",
       " 'sizabl': 86968,\n",
       " 'isi': 51453,\n",
       " 'metastas': 62793,\n",
       " 'signific': 86491,\n",
       " 'place': 74221,\n",
       " 'world': 102255,\n",
       " 'mountain': 65019,\n",
       " 'overrid': 71464,\n",
       " 'confid': 26293,\n",
       " 'current': 28494,\n",
       " 'roughli': 81569,\n",
       " '900': 9346,\n",
       " 'combat': 25848,\n",
       " 'capacitybuild': 22119,\n",
       " 'misstep': 63983,\n",
       " 'list': 58109,\n",
       " 'handl': 44181,\n",
       " 'boot': 19315,\n",
       " 'syrian': 91590,\n",
       " 'fight': 37714,\n",
       " 'unchang': 96805,\n",
       " 'americanl': 12546,\n",
       " 'intervent': 51044,\n",
       " '2014': 3011,\n",
       " 'senior': 84937,\n",
       " 'politico': 74777,\n",
       " 'anticip': 13254,\n",
       " 'footprint': 38793,\n",
       " 'outlet': 71156,\n",
       " 'condit': 26238,\n",
       " 'anonym': 13096,\n",
       " 'success': 90656,\n",
       " 'ric': 80450,\n",
       " 'grenel': 42881,\n",
       " 'imper': 50004,\n",
       " 'tough': 94735,\n",
       " 'ignor': 49679,\n",
       " 'donald': 32100,\n",
       " 'agreement': 11126,\n",
       " 'extremist': 36347,\n",
       " 'ambassador': 12447,\n",
       " 'germani': 41108,\n",
       " 'dismiss': 31557,\n",
       " 'valu': 98479,\n",
       " 'monitor': 64465,\n",
       " 'real': 78689,\n",
       " 'just': 53066,\n",
       " 'typic': 96334,\n",
       " 'myopic': 65795,\n",
       " 'view': 99191,\n",
       " 'fail': 36596,\n",
       " 'account': 10282,\n",
       " 'realiti': 78706,\n",
       " 'team': 92392,\n",
       " 'gave': 40706,\n",
       " 'libya': 57660,\n",
       " 'deliv': 30109,\n",
       " 'recip': 78916,\n",
       " 'react': 78628,\n",
       " 'past': 72533,\n",
       " 'convers': 26713,\n",
       " 'major': 59950,\n",
       " 'parti': 72370,\n",
       " 'feel': 37295,\n",
       " 'year': 102938,\n",
       " 'cours': 27394,\n",
       " 'everybodi': 35754,\n",
       " 'problem': 76345,\n",
       " 'knew': 54878,\n",
       " 'regard': 79305,\n",
       " 'prepar': 75922,\n",
       " 'draw': 32606,\n",
       " 'highli': 45922,\n",
       " 'negoti': 66734,\n",
       " 'realtim': 78735,\n",
       " 'constant': 26537,\n",
       " 'adjust': 10633,\n",
       " 'updat': 97779,\n",
       " 'meet': 62204,\n",
       " 'reconstitut': 78978,\n",
       " 'clear': 24962,\n",
       " 'overwhelm': 71541,\n",
       " 'went': 100943,\n",
       " 'util': 98207,\n",
       " 'technolog': 92486,\n",
       " 'albeit': 11579,\n",
       " 'price': 76150,\n",
       " 'concentr': 26181,\n",
       " 'late': 56481,\n",
       " 'mccain': 61536,\n",
       " 'rariz': 78385,\n",
       " 'nowsecretari': 68880,\n",
       " 'antoni': 13641,\n",
       " 'blinken': 18585,\n",
       " 'resurfac': 80127,\n",
       " 'onlin': 70413,\n",
       " 'opposit': 70630,\n",
       " 'speech': 88566,\n",
       " 'nomin': 67911,\n",
       " 'obama': 69316,\n",
       " 'discus': 31476,\n",
       " 'pend': 73074,\n",
       " 'mr': 65118,\n",
       " 'toni': 94475,\n",
       " 'unqualifi': 97501,\n",
       " 'worst': 102312,\n",
       " 'select': 84546,\n",
       " 'bad': 15728,\n",
       " 'lot': 58797,\n",
       " 'chosen': 24331,\n",
       " 'excori': 35924,\n",
       " 'eventu': 35674,\n",
       " '2015': 3020,\n",
       " 'openli': 70550,\n",
       " 'nomine': 67914,\n",
       " 'floor': 38479,\n",
       " 'elect': 34191,\n",
       " 'consequ': 26454,\n",
       " 'member': 62445,\n",
       " 'young': 103223,\n",
       " 'men': 62508,\n",
       " 'review': 80269,\n",
       " 'coupl': 27379,\n",
       " 'element': 34258,\n",
       " 'particular': 72383,\n",
       " 'conceptu': 26185,\n",
       " 'shambl': 85488,\n",
       " 'torch': 94622,\n",
       " 'timet': 94081,\n",
       " 'worri': 102296,\n",
       " 'posit': 75157,\n",
       " 'anim': 12976,\n",
       " 'becaus': 16854,\n",
       " 'stick': 89710,\n",
       " 'colleagu': 25705,\n",
       " 'replay': 79803,\n",
       " 'iraq': 51298,\n",
       " 'sit': 86863,\n",
       " 'squar': 88943,\n",
       " 'center': 23208,\n",
       " 'hurrican': 49118,\n",
       " 'controversi': 26692,\n",
       " 'swiftli': 91425,\n",
       " 'chief': 24016,\n",
       " 'chairman': 23407,\n",
       " 'milley': 63506,\n",
       " 'pledg': 74407,\n",
       " 'home': 46534,\n",
       " 'mistak': 63986,\n",
       " 'escap': 35307,\n",
       " 'matter': 61267,\n",
       " 'turn': 95975,\n",
       " 'mess': 62737,\n",
       " 'idea': 49561,\n",
       " 'gotten': 42303,\n",
       " 'ensu': 34938,\n",
       " 'circumst': 24642,\n",
       " 'lift': 57777,\n",
       " 'roof': 81346,\n",
       " 'later': 56515,\n",
       " 'exactli': 35826,\n",
       " 'kevin': 54170,\n",
       " 'mccarthi': 61557,\n",
       " 'win': 101635,\n",
       " 'chamber': 23449,\n",
       " '2022': 3087,\n",
       " 'midterm': 63250,\n",
       " 'wouldnt': 102351,\n",
       " 'impeach': 49985,\n",
       " 'weapon': 100489,\n",
       " '2023': 3097,\n",
       " 'twice': 96112,\n",
       " 'decemb': 29685,\n",
       " '2019': 3050,\n",
       " 'charg': 23603,\n",
       " 'abus': 10190,\n",
       " 'power': 75529,\n",
       " 'obstruct': 69424,\n",
       " 'alleg': 11916,\n",
       " 'solicit': 87952,\n",
       " 'interfer': 50943,\n",
       " 'reelect': 79188,\n",
       " 'bid': 17779,\n",
       " 'second': 84273,\n",
       " 'januari': 51975,\n",
       " 'incit': 50179,\n",
       " 'deadli': 29486,\n",
       " 'insurrect': 50855,\n",
       " 'capitol': 22164,\n",
       " 'rightw': 80643,\n",
       " 'aim': 11285,\n",
       " 'certifi': 23302,\n",
       " 'elector': 34218,\n",
       " 'colleg': 25715,\n",
       " 'victori': 99137,\n",
       " 'novemb': 68727,\n",
       " 'acquit': 10392,\n",
       " 'trial': 95236,\n",
       " 'emphas': 34617,\n",
       " 'sever': 85257,\n",
       " ...}"
      ]
     },
     "execution_count": 38,
     "metadata": {},
     "output_type": "execute_result"
    }
   ],
   "source": [
    "vectorizer.vocabulary_"
   ]
  },
  {
   "cell_type": "code",
   "execution_count": 186,
   "id": "6e9d58a5-9a00-4224-af57-cb650043d28e",
   "metadata": {},
   "outputs": [],
   "source": [
    "n_components = [30,60,90,120,150,180,240,300]"
   ]
  },
  {
   "cell_type": "code",
   "execution_count": 187,
   "id": "e2f6a4c6-bcf4-4cff-b53e-1e681a512f71",
   "metadata": {},
   "outputs": [],
   "source": [
    "# n_components = 200\n",
    "for components in n_components:\n",
    "    model = LatentDirichletAllocation(n_components=components)\n",
    "    topic_vectors_train = get_topic_vectors(count_vectors_train,model,fit=True)\n",
    "    time_str = datetime.now().strftime(\"%H%M\")\n",
    "    date_str = datetime.now().strftime(\"%m%d\")\n",
    "    joblib.dump(topic_vectors_train,f\"../models/vectorizer_{date_str}_{time_str}_{components}\")\n",
    "    joblib.dump(vectorizer,f\"../models/lda_model_{date_str}_{time_str}_{components}\")\n",
    "    joblib.dump(model,f\"../models/topic_vector_train_{date_str}_{time_str}_{components}\")"
   ]
  },
  {
   "cell_type": "code",
   "execution_count": 189,
   "id": "77458947-d45e-4793-98ee-d7ae318be012",
   "metadata": {},
   "outputs": [
    {
     "name": "stdout",
     "output_type": "stream",
     "text": [
      "\n",
      "\n",
      "Nikki Haley, other Republicans call for Biden's resignation or impeachment after attack at Kabul airport\n",
      "\n",
      "\n",
      "18270    Trump says he won’t attend Biden’s inauguration                                                               \n",
      "18225    Acting US homeland security secretary Chad Wolf resigns – as it happened                                      \n",
      "18266    Twitter permanently suspends Trump's account, citing risk of 'further incitement of violence' – as it happened\n",
      "18280    Trump acknowledges 'new administration' – as it happened                                                      \n",
      "18201    Pence says he won't invoke 25th amendment in letter to Pelosi - as it happened                                \n",
      "Name: article_heading, dtype: object\n",
      "\n",
      "\n",
      "[[0.80470097 0.80400173]\n",
      " [0.7582203  0.79277045]\n",
      " [0.74757207 0.78921244]\n",
      " [0.74327022 0.78246625]\n",
      " [0.73800849 0.78186185]]\n",
      "\n",
      "\n",
      "Rep. Mike Doyle tests positive for COVID despite being fully vaccinated\n",
      "\n",
      "\n",
      "2532     Fauci: 'I don't think we're going to see lockdowns'                           \n",
      "15763    Covid outbreak among vaccinated Vegas hospital workers underscores Delta risks\n",
      "15762    Delta variant gains ground in US as outbreaks highlight vaccine divide        \n",
      "17176    CDC ‘deeply concerned’ about rising Covid cases as vaccinations accelerate    \n",
      "15654    Covid cases in US may have been undercounted by 60%, study shows              \n",
      "Name: article_heading, dtype: object\n",
      "\n",
      "\n",
      "[[0.80470097 0.80400173]\n",
      " [0.7582203  0.79277045]\n",
      " [0.74757207 0.78921244]\n",
      " [0.74327022 0.78246625]\n",
      " [0.73800849 0.78186185]]\n"
     ]
    }
   ],
   "source": [
    "# import random\n",
    "# test_indices = random.sample(range(df_test.shape[0]), 1)\n",
    "test_indices = [0,1]\n",
    "test_lemmas = text_pipeline(df_test.iloc[test_indices].article_body)\n",
    "lemma_test_vectors = text_vectorizer(test_lemmas,vectorizer)\n",
    "topic_vectors_test = get_topic_vectors(lemma_test_vectors,model)\n",
    "similarity_scores = get_similar_articles(topic_vectors_test,topic_vectors_train)\n",
    "print_similar_articles(test_indices,similarity_scores)"
   ]
  },
  {
   "cell_type": "code",
   "execution_count": null,
   "id": "9c4455d0-e1af-4576-9c1b-57039d8e6bae",
   "metadata": {},
   "outputs": [],
   "source": []
  },
  {
   "cell_type": "code",
   "execution_count": null,
   "id": "c902808a-3125-4e1d-b2b6-e593f4a2f7c5",
   "metadata": {},
   "outputs": [],
   "source": []
  },
  {
   "cell_type": "markdown",
   "id": "d3bcdabd-789e-44ae-8e55-408f3f6e833f",
   "metadata": {
    "tags": []
   },
   "source": [
    "# Old Results"
   ]
  },
  {
   "cell_type": "markdown",
   "id": "2cdb57e1-d43b-4d33-b4e8-847f36c3325f",
   "metadata": {
    "jp-MarkdownHeadingCollapsed": true,
    "tags": []
   },
   "source": [
    "## 100 components"
   ]
  },
  {
   "cell_type": "code",
   "execution_count": 229,
   "id": "c894a696-f2f5-4172-a0eb-75c4a98dd3fa",
   "metadata": {},
   "outputs": [
    {
     "name": "stdout",
     "output_type": "stream",
     "text": [
      "             Tested for this article              \n",
      "\n",
      "\n",
      "Nikki Haley, other Republicans call for Biden's resignation or impeachment after attack at Kabul airport\n",
      "\n",
      "\n",
      "               Recommended Articles               \n",
      "article_id\n",
      "24043    https://www.nytimes.com/2021/08/19/us/politics/trump-biden-afghan-taliban.html                                                   \n",
      "14490    https://www.foxnews.com/politics/sen-tuberville-slams-squad-afghanistan-protecting-women                                         \n",
      "24078    https://www.nytimes.com/2021/08/17/us/politics/lawmakers-from-both-parties-express-fury-over-the-withdrawal-from-afghanistan.html\n",
      "14323    https://www.foxnews.com/politics/biden-trump-trade-accusations-afghanistan                                                       \n",
      "33554    https://www.theguardian.com/us-news/2021/aug/16/afghanistan-withdrawal-joe-biden-crisis                                          \n",
      "24084    https://www.nytimes.com/2021/08/16/us/politics/afghanistan-withdrawal-congress.html                                              \n",
      "14337    https://www.foxnews.com/politics/trump-biden-resign-crisis-afghanistan                                                           \n",
      "14340    https://www.foxnews.com/politics/lindsey-graham-slams-biden-speech-no-one-to-blame-but-himself                                   \n",
      "14369    https://www.foxnews.com/politics/jen-psaki-out-of-office-as-biden-remains-silent-on-taliban-takeover-of-afghanistan              \n",
      "20495    https://www.politico.com/news/2021/04/14/biden-announces-withdrawal-afghanistan-481524                                           \n",
      "Name: article_url, dtype: string\n"
     ]
    }
   ],
   "source": [
    "print_similar_articles(*get_similar_articles(0))"
   ]
  },
  {
   "cell_type": "code",
   "execution_count": null,
   "id": "8854de74-af25-4944-8edd-3282178382a9",
   "metadata": {},
   "outputs": [],
   "source": []
  },
  {
   "cell_type": "code",
   "execution_count": 210,
   "id": "936ba1f6-2bff-4681-b017-c6710e1d667b",
   "metadata": {},
   "outputs": [
    {
     "name": "stdout",
     "output_type": "stream",
     "text": [
      "             Tested for this article              \n",
      "\n",
      "\n",
      "Fauci blamed measles outbreak on Hasidic Jews; Orthodox leaders set the record straight\n",
      "\n",
      "\n",
      "               Recommended Articles               \n",
      "article_id\n",
      "24041    Alabama has no more I.C.U. beds available, the state authorities said.                \n",
      "16621    Nation hits 70 percent vaccination goal amid surging Delta variant                    \n",
      "16926    Leaders in under-vaccinated areas should 'speak out' amid virus surge, Fauci says     \n",
      "33813    Delta variant accounts for 83% of new cases in US, CDC director says                  \n",
      "15566    White House defends door-to-door vaccination push amid backlash                       \n",
      "25151    Louisiana, lagging in vaccinations, gambles on a lottery.                             \n",
      "25242    White House Says It Will Narrowly Miss July 4 Vaccination Goal                        \n",
      "17927    Biden issues a Covid warning to less vaccinated communities                           \n",
      "28396    Top U.S. health experts say vaccine supplies and vaccinations will increase by spring.\n",
      "28757    ‘An incredible scale of tragedy’: The U.S. records 25 million virus cases.            \n",
      "Name: article_heading, dtype: string\n"
     ]
    }
   ],
   "source": [
    "print_similar_articles(*get_similar_articles(60))"
   ]
  },
  {
   "cell_type": "code",
   "execution_count": null,
   "id": "86171c5f-c330-45d2-8001-26ee41d0d989",
   "metadata": {},
   "outputs": [],
   "source": []
  },
  {
   "cell_type": "code",
   "execution_count": 212,
   "id": "6c53573a-094f-4703-863e-40329b2ce92d",
   "metadata": {},
   "outputs": [
    {
     "name": "stdout",
     "output_type": "stream",
     "text": [
      "             Tested for this article              \n",
      "\n",
      "\n",
      "Cuomo snaps at reporter when confronted about his scandals at hurricane briefing\n",
      "\n",
      "\n",
      "               Recommended Articles               \n",
      "article_id\n",
      "14524    Time's Up president apologizes for backing Cuomo but declines to resign, claiming 'we were used as cover'\n",
      "14598    NY Gov. Cuomo resigns amid sexual harassment scandal                                                     \n",
      "14632    Who is Cuomo accuser Brittany Commisso?                                                                  \n",
      "33669    New York lawmakers’ impeachment inquiry into Cuomo nearing an end                                        \n",
      "14753    Cuomo under investigation: More district attorneys explore cases against NY governor                     \n",
      "33697    Andrew Cuomo sexual harassment: the key testimony from the report                                        \n",
      "14803    Cuomo sexually harassed multiple women in violation of state and federal law, NY AG finds                \n",
      "14802    Cuomo defiantly declines to resign, denies wrongdoing after bombshell sexual harassment report           \n",
      "14807    Cuomo sexual harassment investigation: READ THE FULL REPORT                                              \n",
      "21665    More women reaching out with Cuomo harassment allegations, accuser’s attorney says                       \n",
      "Name: article_heading, dtype: string\n"
     ]
    }
   ],
   "source": [
    "print_similar_articles(*get_similar_articles(95))"
   ]
  },
  {
   "cell_type": "code",
   "execution_count": null,
   "id": "047183d4-4a4b-423e-a9de-3fdea7868648",
   "metadata": {},
   "outputs": [],
   "source": []
  },
  {
   "cell_type": "code",
   "execution_count": 213,
   "id": "529ebe81-b74e-49d8-87ff-069288779072",
   "metadata": {},
   "outputs": [
    {
     "name": "stdout",
     "output_type": "stream",
     "text": [
      "             Tested for this article              \n",
      "\n",
      "\n",
      "Gov. Newsom says Republican will lead state over 'COVID cliff', touts Schwarzenegger's input\n",
      "\n",
      "\n",
      "               Recommended Articles               \n",
      "article_id\n",
      "33561    California’s governor recall election is heating up. Here’s what you need to know                   \n",
      "14388    Newsom ramps up attacks in CA recall, slams Elder as further right than Trump                       \n",
      "14390    Newsom recall: Larry Elder says he will repeal mask, vaccine mandates if he wins election           \n",
      "14514    Newsom recall: Democrats ramp up attacks on Larry Elder                                             \n",
      "14732    California recall candidates slam Newsom, take shots at each other in first debate                  \n",
      "14961    Elizabeth Warren backs Newsom in recall fight, accuses 'Trump Republicans' of 'coming to grab power'\n",
      "15685    California Gov. Gavin Newsom recall vote set for Sept. 14                                           \n",
      "26426    In California, a campaign to oust Gov. Gavin Newsom qualifies for the ballot.                       \n",
      "26478    Caitlyn Jenner Announces Run for California Governor                                                \n",
      "22622    Caitlyn Jenner bats down rumors she'd run for California governor                                   \n",
      "Name: article_heading, dtype: string\n"
     ]
    }
   ],
   "source": [
    "print_similar_articles(*get_similar_articles(118))"
   ]
  },
  {
   "cell_type": "code",
   "execution_count": null,
   "id": "74d0cbf8-fe9d-4f13-8c15-a2af1ac7da80",
   "metadata": {},
   "outputs": [],
   "source": []
  },
  {
   "cell_type": "code",
   "execution_count": 214,
   "id": "dc0728ad-12a9-4441-8ad4-fabc95b53ee7",
   "metadata": {},
   "outputs": [
    {
     "name": "stdout",
     "output_type": "stream",
     "text": [
      "             Tested for this article              \n",
      "\n",
      "\n",
      "New Jersey bans jails from contracting with ICE to hold immigration detainees\n",
      "\n",
      "\n",
      "               Recommended Articles               \n",
      "article_id\n",
      "16916    Strange how Kim opponents keep calling him 'not one of us'                          \n",
      "34023    Ice transfers 30 detainees to unknown location amid hunger strike                   \n",
      "19489    Murphy's coming ad blitz                                                            \n",
      "19603    Murphy's poll position                                                              \n",
      "19702    Brent Spiner has spoken                                                             \n",
      "21646    Johnson and Huttle and ICE contracts                                                \n",
      "21680    ‘Our state has forgotten us’: Immigrant groups sour on New Jersey’s liberal governor\n",
      "22789    Donnelly presses ahead                                                              \n",
      "22849    The legal weed saga continues                                                       \n",
      "28550    Separated Families: A Legacy Biden Has Inherited From Trump                         \n",
      "Name: article_heading, dtype: string\n"
     ]
    }
   ],
   "source": [
    "print_similar_articles(*get_similar_articles(107))"
   ]
  },
  {
   "cell_type": "code",
   "execution_count": 230,
   "id": "ea47584a-ca94-4fce-b7b0-1659f70e0ca4",
   "metadata": {},
   "outputs": [
    {
     "name": "stdout",
     "output_type": "stream",
     "text": [
      "             Tested for this article              \n",
      "\n",
      "\n",
      "New Jersey bans jails from contracting with ICE to hold immigration detainees\n",
      "\n",
      "\n",
      "               Recommended Articles               \n",
      "article_id\n",
      "16916    https://www.politico.com/newsletters/new-jersey-playbook/2021/07/26/strange-how-kim-opponents-keep-calling-him-not-one-of-us-493720\n",
      "34023    https://www.theguardian.com/us-news/2021/jun/29/ice-detainees-new-jersey-protests                                                  \n",
      "19489    https://www.politico.com/newsletters/new-jersey-playbook/2021/05/10/murphys-coming-ad-blitz-492779                                 \n",
      "19603    https://www.politico.com/newsletters/new-jersey-playbook/2021/05/06/murphys-poll-position-492746                                   \n",
      "19702    https://www.politico.com/newsletters/new-jersey-playbook/2021/05/04/restrictions-to-be-lifted-sort-of-492707                       \n",
      "21646    https://www.politico.com/newsletters/new-jersey-playbook/2021/03/17/johnson-and-huttle-and-ice-contracts-492134                    \n",
      "21680    https://www.politico.com/news/2021/03/18/immigration-groups-phil-murphy-agenda-477049                                              \n",
      "22789    https://www.politico.com/newsletters/new-jersey-playbook/2021/02/09/donnelly-presses-ahead-491685                                  \n",
      "22849    https://www.politico.com/newsletters/new-jersey-playbook/2021/02/08/the-legal-weed-saga-continues-491667                           \n",
      "28550    https://www.nytimes.com/2021/02/01/us/immigration-family-separations-biden.html                                                    \n",
      "Name: article_url, dtype: string\n"
     ]
    }
   ],
   "source": [
    "print_similar_articles(*get_similar_articles(107))"
   ]
  },
  {
   "cell_type": "code",
   "execution_count": null,
   "id": "2154c318-06f3-480f-b3af-f07a61ec75d5",
   "metadata": {},
   "outputs": [],
   "source": []
  },
  {
   "cell_type": "markdown",
   "id": "c9892d79-dda8-4b7b-a3da-b1b1f5916c71",
   "metadata": {
    "tags": []
   },
   "source": [
    "## 150 components"
   ]
  },
  {
   "cell_type": "code",
   "execution_count": 57,
   "id": "893b0690-c8b2-48dc-8680-305612ed5188",
   "metadata": {},
   "outputs": [
    {
     "name": "stdout",
     "output_type": "stream",
     "text": [
      "             Tested for this article              \n",
      "\n",
      "\n",
      "Nikki Haley, other Republicans call for Biden's resignation or impeachment after attack at Kabul airport\n",
      "\n",
      "\n",
      "               Recommended Articles               \n",
      "article_id\n",
      "24043    Trump’s Deal With the Taliban Draws Fire From His Former Allies                             \n",
      "14290    Republican senators question Biden's fitness for office amid Afghanistan debacle            \n",
      "14323    Biden, Trump trade accusations on Afghanistan                                               \n",
      "14313    Biden says American troops should not be dying in Afghanistan; 18 months since last US death\n",
      "33554    Defiant Biden stands ‘squarely behind’ decision to withdraw from Afghanistan                \n",
      "14337    Trump calls on Biden to 'resign in disgrace' over crisis in Afghanistan                     \n",
      "20495    Biden announces withdrawal from Afghanistan in speech heavy on symbolism                    \n",
      "22763    POLITICO Playbook PM: Opening moments from the impeachment trial                            \n",
      "35928    Trump vetoed ads attacking Biden's record on women to avoid ‘can of worms’ – report         \n",
      "36384    See how they run: did Trump's former allies get out in time?                                \n",
      "Name: article_heading, dtype: string\n"
     ]
    }
   ],
   "source": [
    "print_similar_articles(*get_similar_articles(0))"
   ]
  },
  {
   "cell_type": "code",
   "execution_count": null,
   "id": "68cec2c6-4a1c-4af5-a42d-c2c97bbeda04",
   "metadata": {},
   "outputs": [],
   "source": []
  },
  {
   "cell_type": "code",
   "execution_count": 58,
   "id": "319b1c70-d602-4df3-a96d-e746206a1eeb",
   "metadata": {},
   "outputs": [
    {
     "name": "stdout",
     "output_type": "stream",
     "text": [
      "             Tested for this article              \n",
      "\n",
      "\n",
      "Fauci blamed measles outbreak on Hasidic Jews; Orthodox leaders set the record straight\n",
      "\n",
      "\n",
      "               Recommended Articles               \n",
      "article_id\n",
      "16675    Biden’s new mask guidance too little, too late for parts of the country, officials say       \n",
      "16971    Alabama governor says ‘it’s time to start blaming the unvaccinated folks’ as pandemic worsens\n",
      "33813    Delta variant accounts for 83% of new cases in US, CDC director says                         \n",
      "33872    Delta variant gains ground in US as outbreaks highlight vaccine divide                       \n",
      "17492    Delta variant said to be far more widespread than federal estimates                          \n",
      "25295    With Vaccination Goal in Doubt, Biden Warns of Variant’s Threat                              \n",
      "19609    ‘Doomsday scenario’: Lagging vaccine rates stir fears of dangerous variants                  \n",
      "27549    The Imperious Rise and Accelerating Fall of Andrew Cuomo                                     \n",
      "27582    Biden Tells Nation There Is Hope After a Devastating Year                                    \n",
      "36470    New York confirms state's first case of more contagious Covid strain                         \n",
      "Name: article_heading, dtype: string\n"
     ]
    }
   ],
   "source": [
    "print_similar_articles(*get_similar_articles(60))"
   ]
  },
  {
   "cell_type": "code",
   "execution_count": null,
   "id": "dd736cf6-e428-4899-8180-7a08d4e841b7",
   "metadata": {},
   "outputs": [],
   "source": []
  },
  {
   "cell_type": "code",
   "execution_count": 59,
   "id": "eba36c7b-8564-402e-8bed-f6fe12e07640",
   "metadata": {},
   "outputs": [
    {
     "name": "stdout",
     "output_type": "stream",
     "text": [
      "             Tested for this article              \n",
      "\n",
      "\n",
      "Cuomo snaps at reporter when confronted about his scandals at hurricane briefing\n",
      "\n",
      "\n",
      "               Recommended Articles               \n",
      "article_id\n",
      "14353    NY lawmakers to continue Cuomo investigation, reversing course after backlash                               \n",
      "14524    Time's Up president apologizes for backing Cuomo but declines to resign, claiming 'we were used as cover'   \n",
      "14540    Cuomo successor Hochul distances herself from disgraced gov, says they 'have not been close'                \n",
      "14778    4 Northeast Dem governors call on Cuomo to resign in sex-harassment scandal                                 \n",
      "14807    Cuomo sexual harassment investigation: READ THE FULL REPORT                                                 \n",
      "14948    Cuomo accuser calls for disbarment of lawyer who handled harassment complaint after resignation announcement\n",
      "15291    Cuomo grilled by AG's lawyers in sexual harassment probe                                                    \n",
      "15331    Cuomo will face questions from investigators this weekend related to sexual harassment scandal              \n",
      "35393    Cuomo accuser recalls toxic workplace culture 'especially for women'                                        \n",
      "35641    New York attorney general seeks to investigate Cuomo sexual harassment claims                               \n",
      "Name: article_heading, dtype: string\n"
     ]
    }
   ],
   "source": [
    "print_similar_articles(*get_similar_articles(95))"
   ]
  },
  {
   "cell_type": "code",
   "execution_count": null,
   "id": "4d1ba2b1-4437-4e74-b79c-1f44df0f974e",
   "metadata": {},
   "outputs": [],
   "source": []
  },
  {
   "cell_type": "code",
   "execution_count": 60,
   "id": "820bd43f-d925-485c-9925-a1265011472f",
   "metadata": {},
   "outputs": [
    {
     "name": "stdout",
     "output_type": "stream",
     "text": [
      "             Tested for this article              \n",
      "\n",
      "\n",
      "Gov. Newsom says Republican will lead state over 'COVID cliff', touts Schwarzenegger's input\n",
      "\n",
      "\n",
      "               Recommended Articles               \n",
      "article_id\n",
      "14502    California recall election of Gov. Newsom gets underway as voters start receiving ballots  \n",
      "14388    Newsom ramps up attacks in CA recall, slams Elder as further right than Trump              \n",
      "14390    Newsom recall: Larry Elder says he will repeal mask, vaccine mandates if he wins election  \n",
      "14658    CA gubernatorial candidate Kevin Faulconer says Gov. Newsom trying to 'partisan-ize' recall\n",
      "14732    California recall candidates slam Newsom, take shots at each other in first debate         \n",
      "14716    Newsom says recall is unfair, effects will be felt 'across the country'                    \n",
      "16868    Poll: Newsom 'in jeopardy' of being recalled if Democrats remain apathetic                 \n",
      "15019    Recalling Newsom: Likely California voters split on ousting governor in new poll           \n",
      "17960    Newsom touts California reopening with Minions and a Troll                                 \n",
      "21560    Recall or science? Newsom's sudden reopening push has many wondering                       \n",
      "Name: article_heading, dtype: string\n"
     ]
    }
   ],
   "source": [
    "print_similar_articles(*get_similar_articles(118))"
   ]
  },
  {
   "cell_type": "code",
   "execution_count": null,
   "id": "fb2fd1e9-dcf5-4d0a-a5a8-d9a7be6589a2",
   "metadata": {},
   "outputs": [],
   "source": []
  },
  {
   "cell_type": "code",
   "execution_count": 61,
   "id": "567a6f4f-b968-4596-b5c7-5b00f85057c1",
   "metadata": {},
   "outputs": [
    {
     "name": "stdout",
     "output_type": "stream",
     "text": [
      "             Tested for this article              \n",
      "\n",
      "\n",
      "New Jersey bans jails from contracting with ICE to hold immigration detainees\n",
      "\n",
      "\n",
      "               Recommended Articles               \n",
      "article_id\n",
      "34023    Ice transfers 30 detainees to unknown location amid hunger strike \n",
      "18351    The line wins!                                                    \n",
      "19489    Murphy's coming ad blitz                                          \n",
      "19702    Brent Spiner has spoken                                           \n",
      "20414    Murphy challenges Sweeney on gun control                          \n",
      "20705    Cannabis commission to meet prematurely                           \n",
      "21303    Murphy changes cannabis commission pick and the race with NY is on\n",
      "21646    Johnson and Huttle and ICE contracts                              \n",
      "22191    Juliano to Huttle: Don't be like Trump                            \n",
      "22789    Donnelly presses ahead                                            \n",
      "Name: article_heading, dtype: string\n"
     ]
    }
   ],
   "source": [
    "print_similar_articles(*get_similar_articles(107))"
   ]
  },
  {
   "cell_type": "code",
   "execution_count": null,
   "id": "14f6a3ae-b224-446e-9ff8-bf2dcb2cbbde",
   "metadata": {},
   "outputs": [],
   "source": []
  },
  {
   "cell_type": "markdown",
   "id": "15d25a26-bc68-4018-99e2-3c48033a69ae",
   "metadata": {},
   "source": [
    "#"
   ]
  },
  {
   "cell_type": "code",
   "execution_count": null,
   "id": "dd02c65f-62be-4d1f-83ee-6d68605fdd44",
   "metadata": {},
   "outputs": [],
   "source": []
  }
 ],
 "metadata": {
  "kernelspec": {
   "display_name": "Default Environment",
   "language": "python",
   "name": "default"
  },
  "language_info": {
   "codemirror_mode": {
    "name": "ipython",
    "version": 3
   },
   "file_extension": ".py",
   "mimetype": "text/x-python",
   "name": "python",
   "nbconvert_exporter": "python",
   "pygments_lexer": "ipython3",
   "version": "3.9.6"
  }
 },
 "nbformat": 4,
 "nbformat_minor": 5
}
